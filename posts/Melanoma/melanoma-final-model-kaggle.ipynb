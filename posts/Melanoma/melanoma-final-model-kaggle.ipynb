{
 "cells": [
  {
   "cell_type": "raw",
   "metadata": {},
   "source": [
    "---\n",
    "title: \"Melanoma Skin Cancer Detection using Transfer Learning with PyTorch\"\n",
    "description: \"In this post, we'll demonstrate how to scape data from flipkart using BeautifulSoup & Selenium using Python.\"\n",
    "date: \"2023-01-09\"\n",
    "categories: [Web Scrapping]\n",
    "toc: true\n",
    "code-fold: false\n",
    "execute: \n",
    "  message: false\n",
    "  warning: false\n",
    "editor_options: \n",
    "  chunk_output_type: console\n",
    "---"
   ]
  },
  {
   "cell_type": "markdown",
   "metadata": {},
   "source": [
    "## Creating Directories to store python scripts and model\n",
    "We will first create 2 empty folders - `Sripts` (this will contain all the python modules for the trainig, validation & testing the model etc.) and `Models` (which will contain model checkpoint)\n",
    "\n",
    "Note that we are running this notebook from this stage in kaggle kernel. To build/Replicate the model, follow the exact same steps mentioned in the notebook. \n",
    "\n",
    "We first build our model in kaggle kernel because of the free computational resources, one can use google colab (free version) but it has certain limitations like it cannot handle the image size like we'll be using in this project. \n",
    "\n",
    "So we'll utilize the `kaggle computation resources` to carry out this project. "
   ]
  },
  {
   "cell_type": "code",
   "execution_count": 2,
   "metadata": {
    "execution": {
     "iopub.execute_input": "2023-04-19T08:38:35.171828Z",
     "iopub.status.busy": "2023-04-19T08:38:35.171553Z",
     "iopub.status.idle": "2023-04-19T08:38:35.177220Z",
     "shell.execute_reply": "2023-04-19T08:38:35.176176Z",
     "shell.execute_reply.started": "2023-04-19T08:38:35.171801Z"
    }
   },
   "outputs": [],
   "source": [
    "import os\n",
    "from pathlib import Path\n",
    "\n",
    "## Creating Empty folders\n",
    "scripts_file_path = Path(\"Scripts\")\n",
    "models_file_path = Path('Models')\n",
    "scripts_file_path.mkdir(parents=True, exist_ok=True)\n",
    "models_file_path.mkdir(parents=True, exist_ok=True)"
   ]
  },
  {
   "cell_type": "markdown",
   "metadata": {},
   "source": [
    "## Creating Python modules in Scripts for training and prediction\n",
    "First we will write/create python modules like for `augmentations`, `config`, `training & validation loops`, `prediction_to_generate_on_test_dataset` etc.\n",
    "\n",
    "For training augmentations we'll be using like flipping the image, creating random patches in the image, randomly rotating 90 degrees, Adjusting the brightness and contrast, adding noise in the images, Shifting and sheering the image and finally normalizing the statistics of the image (since we will be using transfer learning therefore we need to prepare the images in the same way they were trained on - depending on the specific model we want to use)."
   ]
  },
  {
   "cell_type": "code",
   "execution_count": 3,
   "metadata": {
    "execution": {
     "iopub.execute_input": "2023-04-19T08:38:37.885318Z",
     "iopub.status.busy": "2023-04-19T08:38:37.884778Z",
     "iopub.status.idle": "2023-04-19T08:38:37.900988Z",
     "shell.execute_reply": "2023-04-19T08:38:37.899759Z",
     "shell.execute_reply.started": "2023-04-19T08:38:37.885275Z"
    }
   },
   "outputs": [
    {
     "name": "stdout",
     "output_type": "stream",
     "text": [
      "Writing Scripts/augmentations.py\n"
     ]
    }
   ],
   "source": [
    "%%writefile Scripts/augmentations.py\n",
    "from Scripts.config import Config\n",
    "import albumentations as A\n",
    "\n",
    "training_augmentations = A.Compose(\n",
    "    [\n",
    "        A.CoarseDropout(p=0.6),\n",
    "        A.RandomRotate90(p=0.6),\n",
    "        A.Flip(p=0.4),\n",
    "        A.OneOf(\n",
    "            [\n",
    "                A.RandomBrightnessContrast(brightness_limit=0.2, contrast_limit=0.3),\n",
    "                A.HueSaturationValue(\n",
    "                    hue_shift_limit=20, sat_shift_limit=60, val_shift_limit=50\n",
    "                ),\n",
    "            ],\n",
    "            p=0.7,\n",
    "        ),\n",
    "        A.OneOf([A.GaussianBlur(), A.GaussNoise()], p=0.65),\n",
    "        A.ShiftScaleRotate(\n",
    "            shift_limit=0.0625, scale_limit=0.35, rotate_limit=45, p=0.5\n",
    "        ),\n",
    "        A.OneOf(\n",
    "            [\n",
    "                A.OpticalDistortion(p=0.3),\n",
    "                A.GridDistortion(p=0.1),\n",
    "                A.PiecewiseAffine(p=0.3),\n",
    "            ],\n",
    "            p=0.7,\n",
    "        ),\n",
    "        A.Normalize(\n",
    "            mean=Config.MEAN, std=Config.STD, max_pixel_value=255.0, always_apply=True\n",
    "        ),\n",
    "    ]\n",
    ")\n",
    "\n",
    "validation_augmentations = A.Compose(\n",
    "    [\n",
    "        A.Normalize(\n",
    "            mean=Config.MEAN, std=Config.STD, max_pixel_value=255.0, always_apply=True\n",
    "        )\n",
    "    ]\n",
    ")\n",
    "testing_augmentations = A.Compose(\n",
    "    [\n",
    "        A.Normalize(\n",
    "            mean=Config.MEAN, std=Config.STD, max_pixel_value=255.0, always_apply=True\n",
    "        )\n",
    "    ]\n",
    ")"
   ]
  },
  {
   "cell_type": "markdown",
   "metadata": {},
   "source": [
    "Creating a config module which will contain model configurations like number of epochs to run, size of an image, weight decay (for regularization) etc., it also contains the path of the files and folders of the data.    "
   ]
  },
  {
   "cell_type": "code",
   "execution_count": 4,
   "metadata": {
    "execution": {
     "iopub.execute_input": "2023-04-19T08:38:39.191139Z",
     "iopub.status.busy": "2023-04-19T08:38:39.190594Z",
     "iopub.status.idle": "2023-04-19T08:38:39.200175Z",
     "shell.execute_reply": "2023-04-19T08:38:39.198628Z",
     "shell.execute_reply.started": "2023-04-19T08:38:39.191091Z"
    }
   },
   "outputs": [
    {
     "name": "stdout",
     "output_type": "stream",
     "text": [
      "Writing Scripts/config.py\n"
     ]
    }
   ],
   "source": [
    "%%writefile Scripts/config.py\n",
    "import torch\n",
    "\n",
    "class Config:\n",
    "    EPOCHS = 5\n",
    "    IMG_SIZE = 512\n",
    "    ES_PATIENCE = 2\n",
    "    WEIGHT_DECAY = 0.001\n",
    "    VAL_BATCH_SIZE = 32 * 2\n",
    "    RANDOM_STATE = 1994\n",
    "    LEARNING_RATE = 5e-5\n",
    "    TRAIN_BATCH_SIZE = 32\n",
    "    MEAN = (0.485, 0.456, 0.406)\n",
    "    STD = (0.229, 0.224, 0.225)\n",
    "    TRAIN_COLS = [\n",
    "        \"image_name\",\n",
    "        \"patient_id\",\n",
    "        \"sex\",\n",
    "        \"age_approx\",\n",
    "        \"anatom_site_general_challenge\",\n",
    "        \"target\",\n",
    "        \"tfrecord\",\n",
    "    ]\n",
    "    TEST_COLS = [\n",
    "        \"image_name\",\n",
    "        \"patient_id\",\n",
    "        \"sex\",\n",
    "        \"age_approx\",\n",
    "        \"anatom_site_general_challenge\",\n",
    "    ]\n",
    "    DEVICE = \"cuda\" if torch.cuda.is_available() else \"cpu\"\n",
    "\n",
    "    ################ Setting paths to data input ################\n",
    "\n",
    "    data_2020 = \"../input/jpeg-melanoma-512x512/\"\n",
    "    train_folder_2020 = data_2020 + \"train/\"\n",
    "    test_folder_2020 = data_2020 + \"test/\"\n",
    "    test_csv_path_2020 = data_2020 + \"test.csv\"\n",
    "    train_csv_path_2020 = data_2020 + \"train.csv\"\n",
    "    submission_csv_path = data_2020 + \"sample_submission.csv\""
   ]
  },
  {
   "cell_type": "markdown",
   "metadata": {},
   "source": [
    "Creating a single dataset class to read the images (both training, validation & testing images), the function is capable of handling/reading the tabular features. \n",
    "\n",
    "The function takes a dataframe, a list of tabular features (if we want to use for training) i.e., list of strings like `['sex_missing',anatom_site_general_challenge_head_neck','anatom_site_general_challenge_lower_extremity',\n",
    "    anatom_site_general_challenge_torso','anatom_site_general_challenge_upper_extremity','scaled_age']` , the augmentations we want to use and finally whether the dataset is a training, validation or testing dataset. \n",
    "\n",
    "For training and validation we set `is_test=False` and for testing we set `is_test=True` to differentiate between the datasets. "
   ]
  },
  {
   "cell_type": "code",
   "execution_count": 5,
   "metadata": {
    "execution": {
     "iopub.execute_input": "2023-04-19T08:38:39.608453Z",
     "iopub.status.busy": "2023-04-19T08:38:39.607345Z",
     "iopub.status.idle": "2023-04-19T08:38:39.617169Z",
     "shell.execute_reply": "2023-04-19T08:38:39.615839Z",
     "shell.execute_reply.started": "2023-04-19T08:38:39.608402Z"
    }
   },
   "outputs": [
    {
     "name": "stdout",
     "output_type": "stream",
     "text": [
      "Writing Scripts/dataset.py\n"
     ]
    }
   ],
   "source": [
    "%%writefile Scripts/dataset.py\n",
    "import torch\n",
    "import numpy as np\n",
    "import pandas as pd\n",
    "import torch.nn as nn\n",
    "from PIL import Image\n",
    "from PIL import ImageFile\n",
    "from typing import List, Callable\n",
    "\n",
    "ImageFile.LOAD_TRUNCATED_IMAGES = True\n",
    "\n",
    "\n",
    "class DatasetRetriever(nn.Module):\n",
    "    \"\"\"\n",
    "    Dataset class to read the images and tabular features from a\n",
    "    dataframe and returns the dictionary.\n",
    "    \"\"\"\n",
    "\n",
    "    def __init__(\n",
    "        self,\n",
    "        df: pd.DataFrame,\n",
    "        tabular_features: List[str] = None,\n",
    "        use_tabular_features: bool = False,\n",
    "        augmentations: Callable = None,\n",
    "        is_test: bool = False,\n",
    "    ):\n",
    "        \"\"\" \"\"\"\n",
    "        self.df = df\n",
    "        self.tabular_features = tabular_features\n",
    "        self.use_tabular_features = use_tabular_features\n",
    "        self.augmentations = augmentations\n",
    "        self.is_test = is_test\n",
    "\n",
    "    def __len__(self):\n",
    "        \"\"\"\n",
    "        Function returns the number of images in a dataframe.\n",
    "        \"\"\"\n",
    "        return len(self.df)\n",
    "\n",
    "    def __getitem__(self, index):\n",
    "        \"\"\"\n",
    "        Function the takes an images and it's corresponding\n",
    "        tabular/meta features & target feature (for training\n",
    "        and validation) and returns a dictionary, otherwise,\n",
    "        for test dataset it only returns a dictionary of\n",
    "        an image and tabular features.\n",
    "        \"\"\"\n",
    "        image_path = self.df[\"image_path\"].iloc[index]\n",
    "        image = Image.open(image_path)\n",
    "        image = np.array(image)\n",
    "        if self.augmentations is not None:\n",
    "            augmented = self.augmentations(image=image)\n",
    "            image = augmented[\"image\"]\n",
    "        image = np.transpose(image, (2, 0, 1)).astype(np.float32)\n",
    "        image = torch.tensor(image, dtype=torch.float)\n",
    "        if self.use_tabular_features:\n",
    "            if len(self.tabular_features) > 0 and self.is_test is False:\n",
    "                tabular_features = np.array(\n",
    "                    self.df.iloc[index][self.tabular_features].values, dtype=np.float32\n",
    "                )\n",
    "                targets = self.df.target[index]\n",
    "                return {\n",
    "                    \"image\": image,\n",
    "                    \"tabular_features\": tabular_features,\n",
    "                    \"targets\": torch.tensor(targets, dtype=torch.long),\n",
    "                }\n",
    "            elif len(self.tabular_features) > 0 and self.is_test is True:\n",
    "                tabular_features = np.array(\n",
    "                    self.df.iloc[index][self.tabular_features].values, dtype=np.float32\n",
    "                )\n",
    "                return {\"image\": image, \"tabular_features\": tabular_features}\n",
    "        else:\n",
    "            if self.is_test is False:\n",
    "                targets = self.df.target[index]\n",
    "                return {\n",
    "                    \"image\": image,\n",
    "                    \"targets\": torch.tensor(targets, dtype=torch.long),\n",
    "                }\n",
    "            elif self.is_test is True:\n",
    "                return {\"image\": image}"
   ]
  },
  {
   "cell_type": "markdown",
   "metadata": {},
   "source": [
    "Now we create a model class to create a model instance of EfficientNet model. \n",
    "\n",
    "Currently, this function is capable of reading the images only and not the tabular features. \n",
    "\n",
    "Since in this project/notebook we are using the images only therefore, this function is good enough for that. "
   ]
  },
  {
   "cell_type": "code",
   "execution_count": 6,
   "metadata": {
    "execution": {
     "iopub.execute_input": "2023-04-19T08:38:40.027120Z",
     "iopub.status.busy": "2023-04-19T08:38:40.026720Z",
     "iopub.status.idle": "2023-04-19T08:38:40.036094Z",
     "shell.execute_reply": "2023-04-19T08:38:40.034812Z",
     "shell.execute_reply.started": "2023-04-19T08:38:40.027083Z"
    }
   },
   "outputs": [
    {
     "name": "stdout",
     "output_type": "stream",
     "text": [
      "Writing Scripts/model.py\n"
     ]
    }
   ],
   "source": [
    "%%writefile Scripts/model.py\n",
    "import torch\n",
    "import torch.nn as nn\n",
    "import torch.nn.functional as F\n",
    "from efficientnet_pytorch import EfficientNet\n",
    "\n",
    "import torch\n",
    "import torch.nn as nn\n",
    "import torch.nn.functional as F\n",
    "from efficientnet_pytorch import EfficientNet\n",
    "\n",
    "\n",
    "class Model(nn.Module):\n",
    "    \"\"\"\n",
    "    Class to instantiate EfficientNet-b5 model object which only\n",
    "    used images as inputs.\n",
    "    \"\"\"\n",
    "    def __init__(self, model_name=\"efficientnet-b5\", pool_type=F.adaptive_avg_pool2d):\n",
    "        super().__init__()\n",
    "        self.pool_type = pool_type\n",
    "        self.model_name = model_name\n",
    "        self.backbone = EfficientNet.from_pretrained(model_name)\n",
    "        in_features = getattr(self.backbone, \"_fc\").in_features\n",
    "        self.classifier = nn.Linear(in_features, 1)\n",
    "\n",
    "    def forward(self, x):\n",
    "        features = self.pool_type(self.backbone.extract_features(x), 1)\n",
    "        features = features.view(x.size(0), -1)\n",
    "        return self.classifier(features)\n",
    "    \n",
    "    \n",
    "# class Model(nn.Module):\n",
    "#     \"\"\"\n",
    "#     Class to instantiate EfficientNet-b5 model object which uses images\n",
    "#     as well as tabular features as inputs.\n",
    "#     \"\"\"\n",
    "#     def __init__(self, model_name='efficientnet-b5', pool_type=F.adaptive_avg_pool2d,\n",
    "#                 num_tabular_features=0):\n",
    "#         super().__init__()\n",
    "#         self.pool_type = pool_type\n",
    "#         self.model_name = model_name\n",
    "#         self.backbone = EfficientNet.from_pretrained(model_name)\n",
    "#         in_features = getattr(self.backbone, \"_fc\").in_features\n",
    "#         if num_tabular_features>0:\n",
    "#             self.meta = nn.Sequential(\n",
    "#                 nn.Linear(num_tabular_features, 512),\n",
    "#                 nn.BatchNorm1d(512),\n",
    "#                 nn.ReLU(),\n",
    "#                 nn.Dropout(p=0.5),\n",
    "#                 nn.Linear(512, 128),\n",
    "#                 nn.BatchNorm1d(128),\n",
    "#                 nn.ReLU())\n",
    "#             in_features += 128\n",
    "#         self.output = nn.Linear(in_features, 1)\n",
    "    \n",
    "#     def forward(self, image, tabular_features=None):\n",
    "#         features = self.pool_type(self.backbone.extract_features(image), 1)\n",
    "#         cnn_features = features.view(image.size(0),-1)\n",
    "#         if num_tabular_features>0:\n",
    "#             tabular_features = self.meta(tabular_features)\n",
    "#             all_features = torch.cat((cnn_features, tabular_features), dim=1)\n",
    "#             output = self.output(all_features)\n",
    "#             return output\n",
    "#         else:\n",
    "#             output = self.output(cnn_features)\n",
    "#             return output"
   ]
  },
  {
   "cell_type": "markdown",
   "metadata": {},
   "source": [
    "We create a validation function that predicts and generates probabilities only on the validation corresponding to a specific fold. \n",
    "\n",
    "This function might be useful in come cases. This function is capable of running on a single gpu or multi-gpu device as well as on cpu. "
   ]
  },
  {
   "cell_type": "code",
   "execution_count": 7,
   "metadata": {
    "execution": {
     "iopub.execute_input": "2023-04-19T08:38:40.387089Z",
     "iopub.status.busy": "2023-04-19T08:38:40.386397Z",
     "iopub.status.idle": "2023-04-19T08:38:40.395297Z",
     "shell.execute_reply": "2023-04-19T08:38:40.394081Z",
     "shell.execute_reply.started": "2023-04-19T08:38:40.387050Z"
    }
   },
   "outputs": [
    {
     "name": "stdout",
     "output_type": "stream",
     "text": [
      "Writing Scripts/predict_on_validation_data.py\n"
     ]
    }
   ],
   "source": [
    "%%writefile Scripts/predict_on_validation_data.py\n",
    "import os\n",
    "import torch\n",
    "from Scripts.config import Config\n",
    "import pandas as pd\n",
    "import torch.nn as nn\n",
    "from Scripts.model import Model\n",
    "from Scripts.dataset import DatasetRetriever\n",
    "from Scripts.augmentations import validation_augmentations\n",
    "from torch.utils.data import DataLoader\n",
    "\n",
    "\n",
    "def predict_on_validation_dataset(\n",
    "    validation_df: pd.DataFrame, model_path: str, use_tabular_features: bool = False\n",
    "):\n",
    "    \"\"\"\n",
    "    This function generates prediction probabilities on the\n",
    "    validation dataset and returns a submission.csv file.\n",
    "    Args:\n",
    "        validation_dataset = validation_dataframe.\n",
    "        model_path = location where model state_dict is located.\n",
    "        use_tabular_features: whether to use the tabular features\n",
    "        or not.\n",
    "    \"\"\"\n",
    "    valid_dataset = DatasetRetriever(\n",
    "        df=validation_df,\n",
    "        tabular_features=None,\n",
    "        use_tabular_features=False,\n",
    "        augmentations=validation_augmentations,\n",
    "        is_test=True,\n",
    "    )\n",
    "    valid_dataloader = DataLoader(\n",
    "        dataset=valid_dataset,\n",
    "        batch_size=Config.VAL_BATCH_SIZE,\n",
    "        shuffle=False,\n",
    "        num_workers=os.cpu_count(),\n",
    "    )\n",
    "    valid_predictions = []\n",
    "    if torch.cuda.device_count() in (0, 1):\n",
    "        model = Model().to(\n",
    "            Config.DEVICE\n",
    "        )\n",
    "    elif torch.cuda.device_count() > 1:\n",
    "        model = Model().to(\n",
    "            Config.DEVICE\n",
    "        )\n",
    "        model = nn.DataParallel(model)\n",
    "    model.load_state_dict(torch.load(model_path))\n",
    "    model.eval()\n",
    "    with torch.inference_mode():\n",
    "        for _, data in enumerate(valid_dataloader):\n",
    "            if use_tabular_features:\n",
    "                data[\"image\"], data[\"tabular_features\"] = data[\"image\"].to(\n",
    "                    Config.DEVICE, dtype=torch.float\n",
    "                ), data[\"tabular_features\"].to(Config.DEVICE, dtype=torch.float)\n",
    "                y_logits = model(data[\"image\"], data[\"tabular_features\"])\n",
    "            else:\n",
    "                data[\"image\"] = data[\"image\"].to(Config.DEVICE, dtype=torch.float)\n",
    "                y_logits = model(data[\"image\"]).squeeze(dim=0)\n",
    "            valid_probs = torch.sigmoid(y_logits).detach().cpu().numpy()\n",
    "            valid_predictions.extend(valid_probs)\n",
    "    valid_predictions = [\n",
    "        valid_predictions[img].item() for img in range(len(valid_predictions))\n",
    "    ]\n",
    "    return valid_predictions"
   ]
  },
  {
   "cell_type": "markdown",
   "metadata": {},
   "source": [
    "This below function is used to generate the prediction probabilities on the testing dataset provided for the competition and generates a submission.csv file for the public and private leaderboard results. "
   ]
  },
  {
   "cell_type": "code",
   "execution_count": 8,
   "metadata": {
    "execution": {
     "iopub.execute_input": "2023-04-19T08:38:40.762800Z",
     "iopub.status.busy": "2023-04-19T08:38:40.761623Z",
     "iopub.status.idle": "2023-04-19T08:38:40.771018Z",
     "shell.execute_reply": "2023-04-19T08:38:40.769589Z",
     "shell.execute_reply.started": "2023-04-19T08:38:40.762750Z"
    }
   },
   "outputs": [
    {
     "name": "stdout",
     "output_type": "stream",
     "text": [
      "Writing Scripts/predict_on_test.py\n"
     ]
    }
   ],
   "source": [
    "%%writefile Scripts/predict_on_test.py\n",
    "import os\n",
    "import torch\n",
    "from Scripts.config import Config\n",
    "import pandas as pd\n",
    "import torch.nn as nn\n",
    "from Scripts.model import Model\n",
    "from Scripts.dataset import DatasetRetriever\n",
    "from Scripts.augmentations import testing_augmentations\n",
    "from torch.utils.data import DataLoader\n",
    "\n",
    "\n",
    "def predict_on_test_and_generate_submission_file(\n",
    "    test_df: pd.DataFrame, model_path: str, use_tabular_features: bool = False\n",
    "):\n",
    "    \"\"\"\n",
    "    This function generates prediction probabilities on the\n",
    "    test dataset and returns a submission.csv file.\n",
    "    Args:\n",
    "        test_df = test_dataframe.\n",
    "        model_path = location where model state_dict is located.\n",
    "        use_tabular_features: whether to use the tabular features\n",
    "        or not.\n",
    "    \"\"\"\n",
    "    test_dataset = DatasetRetriever(\n",
    "        df=test_df,\n",
    "        tabular_features=None,\n",
    "        use_tabular_features=False,\n",
    "        augmentations=testing_augmentations,\n",
    "        is_test=True,\n",
    "    )\n",
    "    test_dataloader = DataLoader(\n",
    "        dataset=test_dataset,\n",
    "        batch_size=Config.VAL_BATCH_SIZE,\n",
    "        shuffle=False,\n",
    "        num_workers=os.cpu_count(),\n",
    "    )\n",
    "    test_predictions = []\n",
    "    if torch.cuda.device_count() in (0, 1):\n",
    "        model = Model().to(\n",
    "            Config.DEVICE\n",
    "        )\n",
    "    elif torch.cuda.device_count() > 1:\n",
    "        model = Model().to(\n",
    "            Config.DEVICE\n",
    "        )\n",
    "        model = nn.DataParallel(model)\n",
    "    model.load_state_dict(torch.load(model_path))\n",
    "    model.eval()\n",
    "    with torch.inference_mode():\n",
    "        for _, data in enumerate(test_dataloader):\n",
    "            if use_tabular_features:\n",
    "                data[\"image\"], data[\"tabular_features\"] = data[\"image\"].to(\n",
    "                    Config.DEVICE, dtype=torch.float\n",
    "                ), data[\"tabular_features\"].to(Config.DEVICE, dtype=torch.float)\n",
    "                y_logits = model(data[\"image\"], data[\"tabular_features\"])\n",
    "            else:\n",
    "                data[\"image\"] = data[\"image\"].to(Config.DEVICE, dtype=torch.float)\n",
    "                y_logits = model(data[\"image\"]).squeeze(dim=0)\n",
    "            test_probs = torch.sigmoid(y_logits).detach().cpu().numpy()\n",
    "            test_predictions.extend(test_probs)\n",
    "    submission_df = pd.read_csv(Config.submission_csv_path)\n",
    "    test_predictions = [\n",
    "        test_predictions[img].item() for img in range(len(test_predictions))\n",
    "    ]\n",
    "    submission_df[\"target\"] = test_predictions\n",
    "    submission_df.to_csv(\"../working/submission.csv\", index=False)"
   ]
  },
  {
   "cell_type": "markdown",
   "metadata": {},
   "source": [
    "Now, we create a `train_model` module which has a run_model function that takes a `fold number` and the `training dataframe`. \n",
    "\n",
    "The function creates training and validation dataframe , then we create training and validation datasets which only `reads images` and `no tabular features`, next we initialize seed (for reproduciblity of results), `model object`, `loss function`, `optimizer`, `scheduler` and a `scaler object (for mixed precision)`."
   ]
  },
  {
   "cell_type": "code",
   "execution_count": 9,
   "metadata": {
    "execution": {
     "iopub.execute_input": "2023-04-19T08:38:41.097229Z",
     "iopub.status.busy": "2023-04-19T08:38:41.096768Z",
     "iopub.status.idle": "2023-04-19T08:38:41.106320Z",
     "shell.execute_reply": "2023-04-19T08:38:41.105018Z",
     "shell.execute_reply.started": "2023-04-19T08:38:41.097188Z"
    }
   },
   "outputs": [
    {
     "name": "stdout",
     "output_type": "stream",
     "text": [
      "Writing Scripts/train_model.py\n"
     ]
    }
   ],
   "source": [
    "%%writefile Scripts/train_model.py\n",
    "import os\n",
    "import torch\n",
    "from Scripts.config import Config\n",
    "import pandas as pd\n",
    "import torch.nn as nn\n",
    "from Scripts.model import Model\n",
    "import torch.cuda.amp as amp\n",
    "from Scripts.utils import create_folds\n",
    "from Scripts.utils import seed_everything\n",
    "from Scripts.dataset import DatasetRetriever\n",
    "from timeit import default_timer as timer\n",
    "from Scripts.training_and_validation_loops import train\n",
    "from torch.utils.data import Dataset, DataLoader\n",
    "from Scripts.augmentations import training_augmentations, validation_augmentations\n",
    "\n",
    "def run_model(fold, train_df):\n",
    "    train_df = create_folds(train_df=train_df)\n",
    "    train_data = train_df.loc[train_df[\"fold\"] != fold].reset_index(drop=True)\n",
    "    valid_data = train_df.loc[train_df[\"fold\"] == fold].reset_index(drop=True)\n",
    "    validation_targets = valid_data[\"target\"]\n",
    "    train_dataset = DatasetRetriever(\n",
    "        df=train_data,\n",
    "        tabular_features=None,\n",
    "        use_tabular_features=False,\n",
    "        augmentations=training_augmentations,\n",
    "        is_test=False,\n",
    "    )\n",
    "    valid_dataset = DatasetRetriever(\n",
    "        df=valid_data,\n",
    "        tabular_features=None,\n",
    "        use_tabular_features=False,\n",
    "        augmentations=validation_augmentations,\n",
    "        is_test=False,\n",
    "    )\n",
    "    training_dataloader = DataLoader(\n",
    "        dataset=train_dataset,\n",
    "        batch_size=Config.TRAIN_BATCH_SIZE,\n",
    "        shuffle=True,\n",
    "        num_workers=os.cpu_count(),\n",
    "    )\n",
    "    validation_dataloader = DataLoader(\n",
    "        dataset=valid_dataset,\n",
    "        batch_size=Config.VAL_BATCH_SIZE,\n",
    "        shuffle=False,\n",
    "        num_workers=os.cpu_count(),\n",
    "    )\n",
    "    seed_everything(Config.RANDOM_STATE)\n",
    "    if torch.cuda.device_count() in (0, 1):\n",
    "        model = Model().to(\n",
    "            Config.DEVICE\n",
    "        )\n",
    "    elif torch.cuda.device_count() > 1:\n",
    "        model = Model().to(\n",
    "            Config.DEVICE\n",
    "        )\n",
    "        model = nn.DataParallel(model)\n",
    "    loss = nn.BCEWithLogitsLoss()\n",
    "    optimizer = torch.optim.AdamW(\n",
    "        params=model.parameters(),\n",
    "        lr=Config.LEARNING_RATE,\n",
    "        weight_decay=Config.WEIGHT_DECAY,\n",
    "    )\n",
    "    scheduler = torch.optim.lr_scheduler.ReduceLROnPlateau(\n",
    "        optimizer=optimizer,\n",
    "        mode=\"max\",\n",
    "        factor=0.2,\n",
    "        patience=2,\n",
    "        threshold=1e-3,\n",
    "        verbose=True,\n",
    "    )\n",
    "    scaler = amp.GradScaler()\n",
    "    start_time = timer()\n",
    "    model_save_path = f\"../working/Models/efficientnet_b5_checkpoint_fold_{fold}.pt\"\n",
    "    model_results = train(\n",
    "        model=model,\n",
    "        train_dataloader=training_dataloader,\n",
    "        valid_dataloader=validation_dataloader,\n",
    "        loss_fn=loss,\n",
    "        optimizer=optimizer,\n",
    "        scheduler=scheduler,\n",
    "        device=Config.DEVICE,\n",
    "        scaler=scaler,\n",
    "        epochs=Config.EPOCHS,\n",
    "        es_patience=2,\n",
    "        model_save_path=model_save_path,\n",
    "        validation_targets=validation_targets,\n",
    "    )\n",
    "    end_time = timer()\n",
    "    print(f\"Total training time: {end_time-start_time:.3f} seconds\")"
   ]
  },
  {
   "cell_type": "markdown",
   "metadata": {},
   "source": [
    "Regular `pytorch training and validation loops` epochs for a single epoch and finally for `N` number of epochs a `train function.`"
   ]
  },
  {
   "cell_type": "code",
   "execution_count": 10,
   "metadata": {
    "execution": {
     "iopub.execute_input": "2023-04-19T08:38:42.260540Z",
     "iopub.status.busy": "2023-04-19T08:38:42.260074Z",
     "iopub.status.idle": "2023-04-19T08:38:42.272131Z",
     "shell.execute_reply": "2023-04-19T08:38:42.270755Z",
     "shell.execute_reply.started": "2023-04-19T08:38:42.260506Z"
    }
   },
   "outputs": [
    {
     "name": "stdout",
     "output_type": "stream",
     "text": [
      "Writing Scripts/training_and_validation_loops.py\n"
     ]
    }
   ],
   "source": [
    "%%writefile Scripts/training_and_validation_loops.py\n",
    "import torch\n",
    "import numpy as np\n",
    "from tqdm import tqdm\n",
    "import torch.cuda.amp as amp\n",
    "from Scripts.utils import EarlyStopping\n",
    "from sklearn.metrics import roc_auc_score\n",
    "\n",
    "\n",
    "def train_one_epoch(\n",
    "    model, dataloader, loss_fn, optimizer, device, scaler, use_tabular_features=False\n",
    "):\n",
    "    \"\"\"\n",
    "    Function takes a model instance, dataloader, loss function, an optimizer, device\n",
    "    (on which device should you want to run the model on i.e., GPU or CPU)\n",
    "    , scaler (for mixed precision) and whether to use tabular features or not.\n",
    "    This function runs/passes the images and tabular features for a single epoch\n",
    "    and returns the loss value on training dataset.\n",
    "    \"\"\"\n",
    "    train_loss = 0\n",
    "    model.train()\n",
    "    for data in dataloader:\n",
    "        optimizer.zero_grad()\n",
    "        if use_tabular_features:\n",
    "            data[\"image\"], data[\"tabular_features\"], data[\"targets\"] = (\n",
    "                data[\"image\"].to(device, dtype=torch.float),\n",
    "                data[\"tabular_features\"].to(device, dtype=torch.float),\n",
    "                data[\"targets\"].to(device, dtype=torch.float),\n",
    "            )\n",
    "            with amp.autocast():\n",
    "                y_logits = model(data[\"image\"], data[\"tabular_features\"]).squeeze(dim=0)\n",
    "                loss = loss_fn(y_logits, data[\"targets\"].view(-1, 1))\n",
    "        else:\n",
    "            data[\"image\"], data[\"targets\"] = data[\"image\"].to(\n",
    "                device, dtype=torch.float\n",
    "            ), data[\"targets\"].to(device, dtype=torch.float)\n",
    "            with amp.autocast():\n",
    "                y_logits = model(data[\"image\"]).squeeze(dim=0)\n",
    "                loss = loss_fn(y_logits, data[\"targets\"].view(-1, 1))\n",
    "        train_loss += loss.item()\n",
    "        scaler.scale(loss).backward()\n",
    "        scaler.step(optimizer)\n",
    "        scaler.update()\n",
    "    train_loss = train_loss / len(dataloader)\n",
    "    return train_loss\n",
    "\n",
    "\n",
    "def validate_one_epoch(model, dataloader, loss_fn, device, use_tabular_features=False):\n",
    "    \"\"\"\n",
    "    Function takes a model instance, dataloader, loss function, device\n",
    "    (on which device should you want to run the model on i.e., GPU or CPU)\n",
    "    and whether to use tabular features or not.\n",
    "    This function runs/passes the images and tabular features for a single epoch\n",
    "    and returns the loss value & final predictions on the validation dataset.\n",
    "    \"\"\"\n",
    "    valid_loss, final_predictions = 0, []\n",
    "    model.eval()\n",
    "    with torch.inference_mode():\n",
    "        for data in dataloader:\n",
    "            if use_tabular_features:\n",
    "                data[\"image\"], data[\"tabular_features\"], data[\"targets\"] = (\n",
    "                    data[\"image\"].to(device, dtype=torch.float),\n",
    "                    data[\"tabular_features\"].to(device, dtype=torch.float),\n",
    "                    data[\"targets\"].to(device, dtype=torch.float),\n",
    "                )\n",
    "                y_logits = model(data[\"image\"], data[\"tabular_features\"]).squeeze(dim=0)\n",
    "            else:\n",
    "                data[\"image\"], data[\"targets\"] = data[\"image\"].to(\n",
    "                    device, dtype=torch.float\n",
    "                ), data[\"targets\"].to(device, dtype=torch.float)\n",
    "                y_logits = model(data[\"image\"]).squeeze(dim=0)\n",
    "            loss = loss_fn(y_logits, data[\"targets\"].view(-1, 1))\n",
    "            valid_loss += loss.item()\n",
    "            valid_probs = torch.sigmoid(y_logits).detach().cpu().numpy()\n",
    "            final_predictions.extend(valid_probs)\n",
    "    valid_loss = valid_loss / len(dataloader)\n",
    "    return valid_loss, final_predictions\n",
    "\n",
    "\n",
    "def train(\n",
    "    model,\n",
    "    train_dataloader,\n",
    "    valid_dataloader,\n",
    "    loss_fn,\n",
    "    optimizer,\n",
    "    scheduler,\n",
    "    device,\n",
    "    scaler,\n",
    "    epochs,\n",
    "    es_patience,\n",
    "    model_save_path,\n",
    "    validation_targets,\n",
    "):\n",
    "    \"\"\"\n",
    "    This function takes a model instance, training dataloader,\n",
    "    validation dataloader, loss_fn, optimizer, scheduler, device,\n",
    "    scaler (object, for mixed precision), epochs (for how many epochs\n",
    "    to run the model), es_patience (number of epochs to wait after which\n",
    "    the model should stop training), model_save_path (where to save the\n",
    "    model to), validation_targets (used for the calculation of the AUC\n",
    "    score) and returns a dictionary object which has training loss,\n",
    "    validation loss and validation AUC score.\n",
    "    \"\"\"\n",
    "    results = {\"train_loss\": [], \"valid_loss\": [], \"valid_auc\": []}\n",
    "\n",
    "    early_stopping = EarlyStopping(\n",
    "        patience=es_patience, verbose=True, path=model_save_path\n",
    "    )\n",
    "\n",
    "    for epoch in tqdm(range(epochs)):\n",
    "        train_loss = train_one_epoch(\n",
    "            model=model,\n",
    "            dataloader=train_dataloader,\n",
    "            loss_fn=loss_fn,\n",
    "            optimizer=optimizer,\n",
    "            device=device,\n",
    "            scaler=scaler,\n",
    "            use_tabular_features=False,\n",
    "        )\n",
    "\n",
    "        valid_loss, valid_predictions = validate_one_epoch(\n",
    "            model=model,\n",
    "            dataloader=valid_dataloader,\n",
    "            loss_fn=loss_fn,\n",
    "            device=device,\n",
    "            use_tabular_features=False,\n",
    "        )\n",
    "\n",
    "        valid_predictions = np.vstack(valid_predictions).ravel()\n",
    "\n",
    "        valid_auc = roc_auc_score(y_score=valid_predictions, y_true=validation_targets)\n",
    "        scheduler.step(valid_auc)\n",
    "\n",
    "        early_stopping(valid_loss, model)\n",
    "\n",
    "        if early_stopping.early_stop:\n",
    "            print(\"Early Stopping\")\n",
    "            break\n",
    "\n",
    "        model.load_state_dict(torch.load(model_save_path))\n",
    "        print(\n",
    "            f\"Epoch : {epoch+1} | \"\n",
    "            f\"train_loss : {train_loss:.4f} | \"\n",
    "            f\"valid_loss : {valid_loss:.4f} | \"\n",
    "            f\"valid_auc : {valid_auc:.4f} \"\n",
    "        )\n",
    "        results[\"train_loss\"].append(train_loss)\n",
    "        results[\"valid_loss\"].append(valid_loss)\n",
    "        results[\"valid_auc\"].append(valid_auc)\n",
    "    return results"
   ]
  },
  {
   "cell_type": "markdown",
   "metadata": {},
   "source": [
    "In the utils module we write some useful functions like `create_folds` (which will divide the training dataset into 5 equal parts and remove duplicate images from the dataset)\n",
    "\n",
    "`seed_everything` (for reproducing the results)\n",
    "\n",
    "`EarlyStopping` class (used to stop model training if our model performance on validation dataset starts to decline), plot_loss_curves (for plotting the training and validation loss and auc_scores for each epoch)\n",
    "\n",
    "`RareLabelCategoryEncoder` (class that combines the category/categories of a feature that appears in the dataset for a certain percentage of times like 5% of the time etc. into a single category called Rare)\n",
    "\n",
    "`OutlierTreatment` (class to cap the values of a feature by learning the lower quantile and upper_quantile values of a feature from the dataset (X) in the fit method and caps(transforms) the feature values in the dataset (x) passed in the transformed method)."
   ]
  },
  {
   "cell_type": "code",
   "execution_count": 11,
   "metadata": {
    "execution": {
     "iopub.execute_input": "2023-04-19T08:38:42.593420Z",
     "iopub.status.busy": "2023-04-19T08:38:42.593062Z",
     "iopub.status.idle": "2023-04-19T08:38:42.603972Z",
     "shell.execute_reply": "2023-04-19T08:38:42.602713Z",
     "shell.execute_reply.started": "2023-04-19T08:38:42.593385Z"
    }
   },
   "outputs": [
    {
     "name": "stdout",
     "output_type": "stream",
     "text": [
      "Writing Scripts/utils.py\n"
     ]
    }
   ],
   "source": [
    "%%writefile Scripts/utils.py\n",
    "import os\n",
    "import torch\n",
    "import random\n",
    "import numpy as np\n",
    "import pandas as pd\n",
    "from typing import List\n",
    "import matplotlib.pyplot as plt\n",
    "from sklearn.base import BaseEstimator, TransformerMixin\n",
    "\n",
    "\n",
    "def create_folds(train_df):\n",
    "    \"\"\"\n",
    "    Function that folds in the training data and removes duplicate\n",
    "    images from the training data.\n",
    "    \"\"\"\n",
    "    train_df = train_df.loc[train_df[\"tfrecord\"] != -1].reset_index(drop=True)\n",
    "    train_df[\"fold\"] = train_df[\"tfrecord\"] % 5\n",
    "    return train_df\n",
    "\n",
    "\n",
    "def seed_everything(seed: int):\n",
    "    \"\"\"\n",
    "    Function to set seed and to make reproducible results.\n",
    "    Args:\n",
    "        seed (int): like 42\n",
    "    \"\"\"\n",
    "    random.seed(seed)\n",
    "    os.environ[\"PYTHONHASHSEED\"] = str(seed)\n",
    "    np.random.seed(seed)\n",
    "    torch.manual_seed(seed)\n",
    "    torch.cuda.manual_seed(seed)\n",
    "    torch.backends.cudnn.deterministic = True\n",
    "    torch.backends.cudnn.benchmark = False\n",
    "\n",
    "\n",
    "class EarlyStopping:\n",
    "    \"\"\"Early stops the training if validation loss doesn't improve after a given patience.\n",
    "    Directly borrowed from https://github.com/Bjarten/early-stopping-pytorch/blob/master/pytorchtools.py\n",
    "    \"\"\"\n",
    "\n",
    "    def __init__(\n",
    "        self,\n",
    "        path: str,\n",
    "        patience: int = 7,\n",
    "        verbose: bool = False,\n",
    "        delta: int = 0,\n",
    "        trace_func=print,\n",
    "    ):\n",
    "        \"\"\"\n",
    "        Args:\n",
    "            patience (int): How long to wait after last time validation loss improved.\n",
    "                            Default: 7\n",
    "            verbose (bool): If True, prints a message for each validation loss improvement.\n",
    "                            Default: False\n",
    "            delta (float): Minimum change in the monitored quantity to qualify as an improvement.\n",
    "                            Default: 0\n",
    "            path (str): Path for the checkpoint to be saved to.\n",
    "                            Default: 'checkpoint.pt'\n",
    "            trace_func (function): trace print function.\n",
    "                            Default: print\n",
    "        \"\"\"\n",
    "        self.patience = patience\n",
    "        self.verbose = verbose\n",
    "        self.counter = 0\n",
    "        self.best_score = None\n",
    "        self.early_stop = False\n",
    "        self.val_loss_min = np.Inf\n",
    "        self.delta = delta\n",
    "        self.path = path\n",
    "        self.trace_func = trace_func\n",
    "\n",
    "    def __call__(self, val_loss, model):\n",
    "        score = -val_loss\n",
    "\n",
    "        if self.best_score is None:\n",
    "            self.best_score = score\n",
    "            self.save_checkpoint(val_loss, model)\n",
    "        elif score < self.best_score + self.delta:\n",
    "            self.counter += 1\n",
    "            self.trace_func(\n",
    "                f\"EarlyStopping counter: {self.counter} out of {self.patience}\"\n",
    "            )\n",
    "            if self.counter >= self.patience:\n",
    "                self.early_stop = True\n",
    "        else:\n",
    "            self.best_score = score\n",
    "            self.save_checkpoint(val_loss, model)\n",
    "            self.counter = 0\n",
    "\n",
    "    def save_checkpoint(self, val_loss, model):\n",
    "        \"\"\"Saves model when validation loss decrease.\"\"\"\n",
    "        if self.verbose:\n",
    "            self.trace_func(\n",
    "                f\"Validation loss decreased ({self.val_loss_min:.6f} --> {val_loss:.6f}).  Saving model ...\"\n",
    "            )\n",
    "        torch.save(obj=model.state_dict(), f=self.path)\n",
    "        self.val_loss_min = val_loss\n",
    "\n",
    "\n",
    "def plot_loss_curves(results: dict):\n",
    "    \"\"\"\n",
    "    Function to plot training & validation loss curves & validation AUC\n",
    "    Args:\n",
    "        results (dict): A dictionary of training loss, validation_loss &\n",
    "        validation AUC score.\n",
    "    \"\"\"\n",
    "    loss = results[\"train_loss\"]\n",
    "    valid_loss = results[\"valid_loss\"]\n",
    "    # Get the accuracy values of the results dictionary (training and test)\n",
    "    valid_auc = results[\"valid_auc\"]\n",
    "    # Figure out how many epochs there were\n",
    "    epochs = range(len(results[\"train_loss\"]))\n",
    "    # Setup a plot\n",
    "    plt.figure(figsize=(15, 7))\n",
    "    # Plot loss\n",
    "    plt.subplot(1, 2, 1)\n",
    "    plt.plot(epochs, loss, label=\"train_loss\")\n",
    "    plt.plot(epochs, valid_loss, label=\"valid_loss\")\n",
    "    plt.title(\"Loss\")\n",
    "    plt.xlabel(\"Epochs\")\n",
    "    plt.legend()\n",
    "    # Plot accuracy\n",
    "    plt.subplot(1, 2, 2)\n",
    "    plt.plot(epochs, valid_auc, label=\"valid_auc\")\n",
    "    plt.title(\"AUC Score\")\n",
    "    plt.xlabel(\"Epochs\")\n",
    "    plt.legend()\n",
    "\n",
    "\n",
    "class RareLabelCategoryEncoder(BaseEstimator, TransformerMixin):\n",
    "    \"\"\"\n",
    "    Class to combine rare categories of a categorical variable\n",
    "    where a category appearing less than a certain percentage\n",
    "    (as a threshold).\n",
    "    Example: a category/categories appearing less than 5% of the\n",
    "    times are combined a single category called rare.\n",
    "    \"\"\"\n",
    "\n",
    "    def __init__(self, variables: List, tol=0.05):\n",
    "        \"\"\"\n",
    "        Args:\n",
    "            variables (List): A list of variables for which we want\n",
    "            to combine into rare categories.\n",
    "            tol (int): A Threshold/Tolerance below which we want to\n",
    "            consider a category of a feature as rare.\n",
    "        \"\"\"\n",
    "        if not isinstance(variables, list):\n",
    "            raise ValueError(\"Variables should be a list\")\n",
    "        self.tol = tol\n",
    "        self.variables = variables\n",
    "\n",
    "    def fit(self, x: pd.DataFrame):\n",
    "        \"\"\"\n",
    "        This function learns all the values/categories & the\n",
    "        percentage of times it appears in a feature in the\n",
    "        dataset passed while using this method.\n",
    "\n",
    "        Args:\n",
    "            X : From this dataset the fit function learns and\n",
    "            stores the number of times a category appears in\n",
    "            the dataset\n",
    "        \"\"\"\n",
    "        self.encoder_dict_ = {}\n",
    "        for var in self.variables:\n",
    "            t = pd.Series(x[var]).value_counts(normalize=True)\n",
    "            self.encoder_dict_[var] = list(t[t >= self.tol].index)\n",
    "        return self\n",
    "\n",
    "    def transform(self, x: pd.DataFrame):\n",
    "        \"\"\"\n",
    "        X (pd.DataFrame): Transform/Combines the categories of each\n",
    "        features passed into the variables list on the dataset passed\n",
    "        in this method and returns the transformed dataset.\n",
    "        \"\"\"\n",
    "        x = x.copy()\n",
    "        for var in self.variables:\n",
    "            x[var] = np.where(x[var].isin(self.encoder_dict_[var]), x[var], \"Other\")\n",
    "        return x\n",
    "\n",
    "\n",
    "class OutlierTreatment(BaseEstimator, TransformerMixin):\n",
    "    \"\"\"\n",
    "    Class to handle outliers in a continous feature.\n",
    "    \"\"\"\n",
    "\n",
    "    def __init__(\n",
    "        self, variable: str, upper_quantile: float = None, lower_quantile: float = None\n",
    "    ):\n",
    "        \"\"\"\n",
    "        Args:\n",
    "            variables (str): A variable to cap the upper and\n",
    "            lower boundaries of.\n",
    "            upper_quantile (float): A maximum value beyond which all the\n",
    "            values of a feature are capped at.\n",
    "            lower_quantile (float): A minimum value that are lower than\n",
    "            of the feature are capped at.\n",
    "        \"\"\"\n",
    "        if not isinstance(variable, str):\n",
    "            raise ValueError(\"Variable should be a string type.\")\n",
    "        self.upper_quantile = upper_quantile\n",
    "        self.variable = variable\n",
    "        self.lower_quantile = lower_quantile\n",
    "\n",
    "    def fit(self, x: pd.DataFrame):\n",
    "        \"\"\"\n",
    "        This function learns the lower & upper quantiles of a feature\n",
    "        present in the dataset x.\n",
    "        \"\"\"\n",
    "        self.upper_quantile = x[self.variable].quantile(self.upper_quantile)\n",
    "        self.lower_quantile = x[self.variable].quantile(self.lower_quantile)\n",
    "        return self\n",
    "\n",
    "    def transform(self, x: pd.DataFrame):\n",
    "        \"\"\"\n",
    "        This function caps the upper and lower quantiles in the dataframe\n",
    "        x with the values learnt in the dataframe passed in fit() method.\n",
    "        \"\"\"\n",
    "        x = x.copy()\n",
    "        x[self.variable] = np.where(\n",
    "            x[self.variable] > self.upper_quantile,\n",
    "            self.upper_quantile,\n",
    "            np.where(\n",
    "                x[self.variable] < self.lower_quantile,\n",
    "                self.lower_quantile,\n",
    "                x[self.variable],\n",
    "            ),\n",
    "        )\n",
    "        return x"
   ]
  },
  {
   "cell_type": "markdown",
   "metadata": {},
   "source": [
    "- Initializing the `__init__.py` to make the Scripts folder a package. "
   ]
  },
  {
   "cell_type": "code",
   "execution_count": 12,
   "metadata": {
    "execution": {
     "iopub.execute_input": "2023-04-19T08:38:43.870539Z",
     "iopub.status.busy": "2023-04-19T08:38:43.870155Z",
     "iopub.status.idle": "2023-04-19T08:38:43.880615Z",
     "shell.execute_reply": "2023-04-19T08:38:43.879341Z",
     "shell.execute_reply.started": "2023-04-19T08:38:43.870504Z"
    }
   },
   "outputs": [
    {
     "name": "stdout",
     "output_type": "stream",
     "text": [
      "Writing Scripts/__init__.py\n"
     ]
    }
   ],
   "source": [
    "%%writefile Scripts/__init__.py\n",
    "\"\""
   ]
  },
  {
   "cell_type": "markdown",
   "metadata": {},
   "source": [
    "## Creating requirements.txt file to install all the packages for our model training\n",
    "\n",
    "This will contain all the packages required for modeling/training the model."
   ]
  },
  {
   "cell_type": "code",
   "execution_count": 13,
   "metadata": {
    "execution": {
     "iopub.execute_input": "2023-04-19T08:38:45.818485Z",
     "iopub.status.busy": "2023-04-19T08:38:45.817408Z",
     "iopub.status.idle": "2023-04-19T08:38:45.826283Z",
     "shell.execute_reply": "2023-04-19T08:38:45.824910Z",
     "shell.execute_reply.started": "2023-04-19T08:38:45.818428Z"
    }
   },
   "outputs": [
    {
     "name": "stdout",
     "output_type": "stream",
     "text": [
      "Writing requirements.txt\n"
     ]
    }
   ],
   "source": [
    "%%writefile requirements.txt\n",
    "# pandas==2.0.0\n",
    "torch==1.13.0\n",
    "torchvision==0.14.0\n",
    "# scikit-learn==1.2.2\n",
    "efficientnet_pytorch==0.7.1\n",
    "albumentations==1.2.1\n",
    "# numpy==1.22.4\n",
    "tqdm==4.65.0\n",
    "# matplotlib==3.7.1\n",
    "Pillow==8.4.0"
   ]
  },
  {
   "cell_type": "markdown",
   "metadata": {},
   "source": [
    "## Installing all the packages "
   ]
  },
  {
   "cell_type": "code",
   "execution_count": 14,
   "metadata": {
    "collapsed": true,
    "execution": {
     "iopub.execute_input": "2023-04-19T08:38:47.870597Z",
     "iopub.status.busy": "2023-04-19T08:38:47.870003Z",
     "iopub.status.idle": "2023-04-19T08:39:12.651757Z",
     "shell.execute_reply": "2023-04-19T08:39:12.650427Z",
     "shell.execute_reply.started": "2023-04-19T08:38:47.870557Z"
    },
    "jupyter": {
     "outputs_hidden": true
    }
   },
   "outputs": [
    {
     "name": "stdout",
     "output_type": "stream",
     "text": [
      "Requirement already satisfied: torch==1.13.0 in /opt/conda/lib/python3.7/site-packages (from -r requirements.txt (line 2)) (1.13.0)\n",
      "Requirement already satisfied: torchvision==0.14.0 in /opt/conda/lib/python3.7/site-packages (from -r requirements.txt (line 3)) (0.14.0)\n",
      "Collecting efficientnet_pytorch==0.7.1\n",
      "  Downloading efficientnet_pytorch-0.7.1.tar.gz (21 kB)\n",
      "  Preparing metadata (setup.py) ... \u001b[?25ldone\n",
      "\u001b[?25hCollecting albumentations==1.2.1\n",
      "  Downloading albumentations-1.2.1-py3-none-any.whl (116 kB)\n",
      "\u001b[2K     \u001b[90m━━━━━━━━━━━━━━━━━━━━━━━━━━━━━━━━━━━━━━━\u001b[0m \u001b[32m116.7/116.7 kB\u001b[0m \u001b[31m5.3 MB/s\u001b[0m eta \u001b[36m0:00:00\u001b[0m\n",
      "\u001b[?25hCollecting tqdm==4.65.0\n",
      "  Downloading tqdm-4.65.0-py3-none-any.whl (77 kB)\n",
      "\u001b[2K     \u001b[90m━━━━━━━━━━━━━━━━━━━━━━━━━━━━━━━━━━━━━━━━\u001b[0m \u001b[32m77.1/77.1 kB\u001b[0m \u001b[31m8.9 MB/s\u001b[0m eta \u001b[36m0:00:00\u001b[0m\n",
      "\u001b[?25hCollecting Pillow==8.4.0\n",
      "  Downloading Pillow-8.4.0-cp37-cp37m-manylinux_2_17_x86_64.manylinux2014_x86_64.whl (3.1 MB)\n",
      "\u001b[2K     \u001b[90m━━━━━━━━━━━━━━━━━━━━━━━━━━━━━━━━━━━━━━━━\u001b[0m \u001b[32m3.1/3.1 MB\u001b[0m \u001b[31m32.8 MB/s\u001b[0m eta \u001b[36m0:00:00\u001b[0m00:01\u001b[0m00:01\u001b[0m\n",
      "\u001b[?25hRequirement already satisfied: typing-extensions in /opt/conda/lib/python3.7/site-packages (from torch==1.13.0->-r requirements.txt (line 2)) (4.4.0)\n",
      "Requirement already satisfied: requests in /opt/conda/lib/python3.7/site-packages (from torchvision==0.14.0->-r requirements.txt (line 3)) (2.28.2)\n",
      "Requirement already satisfied: numpy in /opt/conda/lib/python3.7/site-packages (from torchvision==0.14.0->-r requirements.txt (line 3)) (1.21.6)\n",
      "Requirement already satisfied: scipy in /opt/conda/lib/python3.7/site-packages (from albumentations==1.2.1->-r requirements.txt (line 6)) (1.7.3)\n",
      "Requirement already satisfied: scikit-image>=0.16.1 in /opt/conda/lib/python3.7/site-packages (from albumentations==1.2.1->-r requirements.txt (line 6)) (0.19.3)\n",
      "Requirement already satisfied: opencv-python-headless>=4.1.1 in /opt/conda/lib/python3.7/site-packages (from albumentations==1.2.1->-r requirements.txt (line 6)) (4.5.4.60)\n",
      "Requirement already satisfied: PyYAML in /opt/conda/lib/python3.7/site-packages (from albumentations==1.2.1->-r requirements.txt (line 6)) (6.0)\n",
      "Requirement already satisfied: qudida>=0.0.4 in /opt/conda/lib/python3.7/site-packages (from albumentations==1.2.1->-r requirements.txt (line 6)) (0.0.4)\n",
      "Requirement already satisfied: scikit-learn>=0.19.1 in /opt/conda/lib/python3.7/site-packages (from qudida>=0.0.4->albumentations==1.2.1->-r requirements.txt (line 6)) (1.0.2)\n",
      "Requirement already satisfied: tifffile>=2019.7.26 in /opt/conda/lib/python3.7/site-packages (from scikit-image>=0.16.1->albumentations==1.2.1->-r requirements.txt (line 6)) (2021.11.2)\n",
      "Requirement already satisfied: imageio>=2.4.1 in /opt/conda/lib/python3.7/site-packages (from scikit-image>=0.16.1->albumentations==1.2.1->-r requirements.txt (line 6)) (2.25.0)\n",
      "Requirement already satisfied: PyWavelets>=1.1.1 in /opt/conda/lib/python3.7/site-packages (from scikit-image>=0.16.1->albumentations==1.2.1->-r requirements.txt (line 6)) (1.3.0)\n",
      "Requirement already satisfied: networkx>=2.2 in /opt/conda/lib/python3.7/site-packages (from scikit-image>=0.16.1->albumentations==1.2.1->-r requirements.txt (line 6)) (2.6.3)\n",
      "Requirement already satisfied: packaging>=20.0 in /opt/conda/lib/python3.7/site-packages (from scikit-image>=0.16.1->albumentations==1.2.1->-r requirements.txt (line 6)) (23.0)\n",
      "Requirement already satisfied: idna<4,>=2.5 in /opt/conda/lib/python3.7/site-packages (from requests->torchvision==0.14.0->-r requirements.txt (line 3)) (3.4)\n",
      "Requirement already satisfied: urllib3<1.27,>=1.21.1 in /opt/conda/lib/python3.7/site-packages (from requests->torchvision==0.14.0->-r requirements.txt (line 3)) (1.26.14)\n",
      "Requirement already satisfied: charset-normalizer<4,>=2 in /opt/conda/lib/python3.7/site-packages (from requests->torchvision==0.14.0->-r requirements.txt (line 3)) (2.1.1)\n",
      "Requirement already satisfied: certifi>=2017.4.17 in /opt/conda/lib/python3.7/site-packages (from requests->torchvision==0.14.0->-r requirements.txt (line 3)) (2022.12.7)\n",
      "Requirement already satisfied: threadpoolctl>=2.0.0 in /opt/conda/lib/python3.7/site-packages (from scikit-learn>=0.19.1->qudida>=0.0.4->albumentations==1.2.1->-r requirements.txt (line 6)) (3.1.0)\n",
      "Requirement already satisfied: joblib>=0.11 in /opt/conda/lib/python3.7/site-packages (from scikit-learn>=0.19.1->qudida>=0.0.4->albumentations==1.2.1->-r requirements.txt (line 6)) (1.2.0)\n",
      "Building wheels for collected packages: efficientnet_pytorch\n",
      "  Building wheel for efficientnet_pytorch (setup.py) ... \u001b[?25ldone\n",
      "\u001b[?25h  Created wheel for efficientnet_pytorch: filename=efficientnet_pytorch-0.7.1-py3-none-any.whl size=16446 sha256=d870e4ba77c41d05a67b458d1a03a108aaee250b6f63fca1cad356a67702a3af\n",
      "  Stored in directory: /root/.cache/pip/wheels/96/3f/5f/13976445f67f3b4e77b054e65f7f4c39016e92e8358fe088db\n",
      "Successfully built efficientnet_pytorch\n",
      "Installing collected packages: tqdm, Pillow, efficientnet_pytorch, albumentations\n",
      "  Attempting uninstall: tqdm\n",
      "    Found existing installation: tqdm 4.64.1\n",
      "    Uninstalling tqdm-4.64.1:\n",
      "      Successfully uninstalled tqdm-4.64.1\n",
      "  Attempting uninstall: Pillow\n",
      "    Found existing installation: Pillow 9.4.0\n",
      "    Uninstalling Pillow-9.4.0:\n",
      "      Successfully uninstalled Pillow-9.4.0\n",
      "  Attempting uninstall: albumentations\n",
      "    Found existing installation: albumentations 1.3.0\n",
      "    Uninstalling albumentations-1.3.0:\n",
      "      Successfully uninstalled albumentations-1.3.0\n",
      "\u001b[31mERROR: pip's dependency resolver does not currently take into account all the packages that are installed. This behaviour is the source of the following dependency conflicts.\n",
      "pandas-profiling 3.6.2 requires tqdm<4.65,>=4.48.2, but you have tqdm 4.65.0 which is incompatible.\u001b[0m\u001b[31m\n",
      "\u001b[0mSuccessfully installed Pillow-9.4.0 albumentations-1.2.1 efficientnet_pytorch-0.7.1 tqdm-4.65.0\n",
      "\u001b[33mWARNING: Running pip as the 'root' user can result in broken permissions and conflicting behaviour with the system package manager. It is recommended to use a virtual environment instead: https://pip.pypa.io/warnings/venv\u001b[0m\u001b[33m\n",
      "\u001b[0m"
     ]
    }
   ],
   "source": [
    "!pip install -r requirements.txt"
   ]
  },
  {
   "cell_type": "markdown",
   "metadata": {},
   "source": [
    "## Exploratory Data Analysis\n",
    "\n",
    "Before jumping right into the modeling and see the numbers go down or go up, it's good to look at the data and try to make sense out of it. \n",
    "\n",
    "We'll do the same here as well, we will look at the distribution of each tabular features we have in the training and testing datasets."
   ]
  },
  {
   "cell_type": "code",
   "execution_count": 15,
   "metadata": {
    "collapsed": true,
    "execution": {
     "iopub.execute_input": "2023-04-19T08:39:40.311863Z",
     "iopub.status.busy": "2023-04-19T08:39:40.310876Z",
     "iopub.status.idle": "2023-04-19T08:39:43.693455Z",
     "shell.execute_reply": "2023-04-19T08:39:43.692378Z",
     "shell.execute_reply.started": "2023-04-19T08:39:40.311806Z"
    }
   },
   "outputs": [
    {
     "data": {
      "text/html": [
       "<div>\n",
       "<style scoped>\n",
       "    .dataframe tbody tr th:only-of-type {\n",
       "        vertical-align: middle;\n",
       "    }\n",
       "\n",
       "    .dataframe tbody tr th {\n",
       "        vertical-align: top;\n",
       "    }\n",
       "\n",
       "    .dataframe thead th {\n",
       "        text-align: right;\n",
       "    }\n",
       "</style>\n",
       "<table border=\"1\" class=\"dataframe\">\n",
       "  <thead>\n",
       "    <tr style=\"text-align: right;\">\n",
       "      <th></th>\n",
       "      <th>image_name</th>\n",
       "      <th>patient_id</th>\n",
       "      <th>sex</th>\n",
       "      <th>age_approx</th>\n",
       "      <th>anatom_site_general_challenge</th>\n",
       "      <th>target</th>\n",
       "      <th>tfrecord</th>\n",
       "      <th>image_path</th>\n",
       "    </tr>\n",
       "  </thead>\n",
       "  <tbody>\n",
       "    <tr>\n",
       "      <th>0</th>\n",
       "      <td>ISIC_2637011</td>\n",
       "      <td>IP_7279968</td>\n",
       "      <td>male</td>\n",
       "      <td>45.0</td>\n",
       "      <td>head/neck</td>\n",
       "      <td>0</td>\n",
       "      <td>0</td>\n",
       "      <td>../input/jpeg-melanoma-512x512/train/ISIC_2637...</td>\n",
       "    </tr>\n",
       "    <tr>\n",
       "      <th>1</th>\n",
       "      <td>ISIC_0015719</td>\n",
       "      <td>IP_3075186</td>\n",
       "      <td>female</td>\n",
       "      <td>45.0</td>\n",
       "      <td>upper extremity</td>\n",
       "      <td>0</td>\n",
       "      <td>0</td>\n",
       "      <td>../input/jpeg-melanoma-512x512/train/ISIC_0015...</td>\n",
       "    </tr>\n",
       "    <tr>\n",
       "      <th>2</th>\n",
       "      <td>ISIC_0052212</td>\n",
       "      <td>IP_2842074</td>\n",
       "      <td>female</td>\n",
       "      <td>50.0</td>\n",
       "      <td>lower extremity</td>\n",
       "      <td>0</td>\n",
       "      <td>6</td>\n",
       "      <td>../input/jpeg-melanoma-512x512/train/ISIC_0052...</td>\n",
       "    </tr>\n",
       "    <tr>\n",
       "      <th>3</th>\n",
       "      <td>ISIC_0068279</td>\n",
       "      <td>IP_6890425</td>\n",
       "      <td>female</td>\n",
       "      <td>45.0</td>\n",
       "      <td>head/neck</td>\n",
       "      <td>0</td>\n",
       "      <td>0</td>\n",
       "      <td>../input/jpeg-melanoma-512x512/train/ISIC_0068...</td>\n",
       "    </tr>\n",
       "    <tr>\n",
       "      <th>4</th>\n",
       "      <td>ISIC_0074268</td>\n",
       "      <td>IP_8723313</td>\n",
       "      <td>female</td>\n",
       "      <td>55.0</td>\n",
       "      <td>upper extremity</td>\n",
       "      <td>0</td>\n",
       "      <td>11</td>\n",
       "      <td>../input/jpeg-melanoma-512x512/train/ISIC_0074...</td>\n",
       "    </tr>\n",
       "  </tbody>\n",
       "</table>\n",
       "</div>"
      ],
      "text/plain": [
       "     image_name  patient_id     sex  age_approx anatom_site_general_challenge  \\\n",
       "0  ISIC_2637011  IP_7279968    male        45.0                     head/neck   \n",
       "1  ISIC_0015719  IP_3075186  female        45.0               upper extremity   \n",
       "2  ISIC_0052212  IP_2842074  female        50.0               lower extremity   \n",
       "3  ISIC_0068279  IP_6890425  female        45.0                     head/neck   \n",
       "4  ISIC_0074268  IP_8723313  female        55.0               upper extremity   \n",
       "\n",
       "   target  tfrecord                                         image_path  \n",
       "0       0         0  ../input/jpeg-melanoma-512x512/train/ISIC_2637...  \n",
       "1       0         0  ../input/jpeg-melanoma-512x512/train/ISIC_0015...  \n",
       "2       0         6  ../input/jpeg-melanoma-512x512/train/ISIC_0052...  \n",
       "3       0         0  ../input/jpeg-melanoma-512x512/train/ISIC_0068...  \n",
       "4       0        11  ../input/jpeg-melanoma-512x512/train/ISIC_0074...  "
      ]
     },
     "execution_count": 15,
     "metadata": {},
     "output_type": "execute_result"
    }
   ],
   "source": [
    "import os\n",
    "import pandas as pd\n",
    "import seaborn as sns\n",
    "import warnings\n",
    "warnings.filterwarnings('ignore')\n",
    "import matplotlib.pyplot as plt\n",
    "from Scripts.config import Config\n",
    "\n",
    "## Looking at the Data\n",
    "train_df = pd.read_csv(Config.train_csv_path_2020,\n",
    "                       usecols=Config.TRAIN_COLS)\n",
    "test_df = pd.read_csv(Config.test_csv_path_2020,\n",
    "                       usecols=Config.TEST_COLS)\n",
    "\n",
    "## Creating Image_Path for each images in 2019 & 2020 training datasets\n",
    "train_df['image_path'] = os.path.join(Config.train_folder_2020) + train_df['image_name'] + \".jpg\"\n",
    "test_df['image_path'] = os.path.join(Config.test_folder_2020) + test_df['image_name'] + \".jpg\"\n",
    "\n",
    "train_df.head()"
   ]
  },
  {
   "cell_type": "code",
   "execution_count": 16,
   "metadata": {
    "collapsed": true,
    "execution": {
     "iopub.execute_input": "2023-04-19T08:39:43.696012Z",
     "iopub.status.busy": "2023-04-19T08:39:43.695537Z",
     "iopub.status.idle": "2023-04-19T08:39:43.718617Z",
     "shell.execute_reply": "2023-04-19T08:39:43.717430Z",
     "shell.execute_reply.started": "2023-04-19T08:39:43.695965Z"
    },
    "jupyter": {
     "outputs_hidden": true
    }
   },
   "outputs": [
    {
     "name": "stdout",
     "output_type": "stream",
     "text": [
      "Number of Unique images id's in the training dataset are - 33126 \n",
      "\n",
      "Number of Unique images id's in the training dataset are - 10982\n",
      "\n",
      "Total number of Unique patients id's in the training dataset are - 2056\n",
      "\n",
      "Total number of Unique patients id's in the training dataset are - 690\n"
     ]
    }
   ],
   "source": [
    "print(f\"Number of Unique images id's in the training dataset are - {train_df['image_name'].nunique()} \\n\")\n",
    "print(f\"Number of Unique images id's in the training dataset are - {test_df['image_name'].nunique()}\\n\")\n",
    "print(f\"Total number of Unique patients id's in the training dataset are - {train_df['patient_id'].nunique()}\\n\")\n",
    "print(f\"Total number of Unique patients id's in the training dataset are - {test_df['patient_id'].nunique()}\")"
   ]
  },
  {
   "cell_type": "markdown",
   "metadata": {},
   "source": [
    "## Patient ID"
   ]
  },
  {
   "cell_type": "code",
   "execution_count": 17,
   "metadata": {
    "collapsed": true,
    "execution": {
     "iopub.execute_input": "2023-04-19T08:39:50.132165Z",
     "iopub.status.busy": "2023-04-19T08:39:50.131661Z",
     "iopub.status.idle": "2023-04-19T08:39:51.304958Z",
     "shell.execute_reply": "2023-04-19T08:39:51.303748Z",
     "shell.execute_reply.started": "2023-04-19T08:39:50.132122Z"
    },
    "jupyter": {
     "outputs_hidden": true
    }
   },
   "outputs": [
    {
     "data": {
      "image/png": "[encoded data removed]",
      "text/plain": [
       "<Figure size 1520x800 with 4 Axes>"
      ]
     },
     "metadata": {},
     "output_type": "display_data"
    }
   ],
   "source": [
    "patients_id_counts_train = train_df['patient_id'].value_counts()\n",
    "patients_id_counts_test = test_df['patient_id'].value_counts()\n",
    "\n",
    "fig, ax = plt.subplots(nrows=2, ncols=2, figsize=(19,10), dpi=80, sharex=False, sharey=False)\n",
    "sns.distplot(patients_id_counts_train, ax=ax[0,0], color='#3300CC', kde=True)\n",
    "ax[0,0].set_xlabel(\"Counts\")\n",
    "ax[0,0].set_ylabel('Frequency')\n",
    "ax[0,0].set_title('Patient ID counts in training data')\n",
    "\n",
    "sns.distplot(patients_id_counts_test, ax=ax[0,1], color='#FF0099', kde=True)\n",
    "ax[0,1].set_xlabel(\"Counts\")\n",
    "ax[0,1].set_ylabel('Frequency')\n",
    "ax[0,1].set_title('Patient ID counts in testing data')\n",
    "\n",
    "sns.boxplot(patients_id_counts_train, ax=ax[1,0], color='#3300CC')\n",
    "ax[1,0].set_xlabel('Counts')\n",
    "ax[1,0].set_title('BoxPlot of Patient ID Counts in Train data')\n",
    "sns.boxplot(patients_id_counts_test, ax=ax[1,1], color='#FF0099')\n",
    "ax[1,1].set_xlabel('Counts')\n",
    "ax[1,1].set_title('BoxPlot of Patient ID Counts in Test data');"
   ]
  },
  {
   "cell_type": "markdown",
   "metadata": {},
   "source": [
    "## Gender"
   ]
  },
  {
   "cell_type": "code",
   "execution_count": 18,
   "metadata": {
    "collapsed": true,
    "execution": {
     "iopub.execute_input": "2023-04-19T08:39:56.460603Z",
     "iopub.status.busy": "2023-04-19T08:39:56.459983Z",
     "iopub.status.idle": "2023-04-19T08:39:56.830668Z",
     "shell.execute_reply": "2023-04-19T08:39:56.829637Z",
     "shell.execute_reply.started": "2023-04-19T08:39:56.460562Z"
    },
    "jupyter": {
     "outputs_hidden": true
    }
   },
   "outputs": [
    {
     "data": {
      "image/png": "[encoded data removed]",
      "text/plain": [
       "<Figure size 2000x500 with 2 Axes>"
      ]
     },
     "metadata": {},
     "output_type": "display_data"
    }
   ],
   "source": [
    "fig, ax = plt.subplots(nrows=1, ncols=2, sharex=False, sharey=False, figsize=(20,5))\n",
    "sns.countplot(x=train_df['sex'], color='#3300CC', ax=ax[0])\n",
    "ax[0].set_ylabel(\"\")\n",
    "ax[0].set_xlabel('Gender Count')\n",
    "ax[0].set_title(\"Gender Count in Training data\")\n",
    "\n",
    "sns.countplot(x=test_df['sex'], color=\"#FF0099\", ax=ax[1])\n",
    "ax[1].set_ylabel(\"\")\n",
    "ax[1].set_xlabel('Gender Count')\n",
    "ax[1].set_title(\"Gender Count in Testing data\");"
   ]
  },
  {
   "cell_type": "markdown",
   "metadata": {},
   "source": [
    "## Age"
   ]
  },
  {
   "cell_type": "code",
   "execution_count": 19,
   "metadata": {
    "collapsed": true,
    "execution": {
     "iopub.execute_input": "2023-04-19T08:40:01.200851Z",
     "iopub.status.busy": "2023-04-19T08:40:01.200187Z",
     "iopub.status.idle": "2023-04-19T08:40:01.510865Z",
     "shell.execute_reply": "2023-04-19T08:40:01.509748Z",
     "shell.execute_reply.started": "2023-04-19T08:40:01.200809Z"
    },
    "jupyter": {
     "outputs_hidden": true
    }
   },
   "outputs": [
    {
     "data": {
      "image/png": "[encoded data removed]",
      "text/plain": [
       "<Figure size 2000x500 with 2 Axes>"
      ]
     },
     "metadata": {},
     "output_type": "display_data"
    }
   ],
   "source": [
    "fig, ax = plt.subplots(nrows=1, ncols=2, sharex=False , sharey=False, figsize=(20,5))\n",
    "sns.countplot(train_df['age_approx'], color='#3300CC', ax=ax[0])\n",
    "ax[0].set_title(\"Distribution of Age feature in Training Data\")\n",
    "ax[0].set_xlabel(\"Age\")\n",
    "ax[0].set_ylabel('Frequency')\n",
    "\n",
    "sns.countplot(test_df['age_approx'], color='#FF0099', ax=ax[1])\n",
    "ax[1].set_title(\"Distribution of Age feature in Testing Data\")\n",
    "ax[1].set_xlabel(\"Age\")\n",
    "ax[1].set_ylabel('Frequency');"
   ]
  },
  {
   "cell_type": "code",
   "execution_count": 20,
   "metadata": {
    "collapsed": true,
    "execution": {
     "iopub.execute_input": "2023-04-19T08:40:05.000998Z",
     "iopub.status.busy": "2023-04-19T08:40:05.000439Z",
     "iopub.status.idle": "2023-04-19T08:40:05.040738Z",
     "shell.execute_reply": "2023-04-19T08:40:05.039623Z",
     "shell.execute_reply.started": "2023-04-19T08:40:05.000947Z"
    },
    "jupyter": {
     "outputs_hidden": true
    }
   },
   "outputs": [
    {
     "data": {
      "text/html": [
       "<div>\n",
       "<style scoped>\n",
       "    .dataframe tbody tr th:only-of-type {\n",
       "        vertical-align: middle;\n",
       "    }\n",
       "\n",
       "    .dataframe tbody tr th {\n",
       "        vertical-align: top;\n",
       "    }\n",
       "\n",
       "    .dataframe thead th {\n",
       "        text-align: right;\n",
       "    }\n",
       "</style>\n",
       "<table border=\"1\" class=\"dataframe\">\n",
       "  <thead>\n",
       "    <tr style=\"text-align: right;\">\n",
       "      <th></th>\n",
       "      <th>count</th>\n",
       "      <th>mean</th>\n",
       "      <th>std</th>\n",
       "      <th>min</th>\n",
       "      <th>1%</th>\n",
       "      <th>5%</th>\n",
       "      <th>10%</th>\n",
       "      <th>15%</th>\n",
       "      <th>25%</th>\n",
       "      <th>50%</th>\n",
       "      <th>...</th>\n",
       "      <th>91%</th>\n",
       "      <th>92%</th>\n",
       "      <th>93%</th>\n",
       "      <th>94%</th>\n",
       "      <th>95%</th>\n",
       "      <th>96%</th>\n",
       "      <th>97%</th>\n",
       "      <th>98%</th>\n",
       "      <th>99%</th>\n",
       "      <th>max</th>\n",
       "    </tr>\n",
       "  </thead>\n",
       "  <tbody>\n",
       "    <tr>\n",
       "      <th>Train_Age</th>\n",
       "      <td>33058.0</td>\n",
       "      <td>48.870016</td>\n",
       "      <td>14.380360</td>\n",
       "      <td>0.0</td>\n",
       "      <td>20.0</td>\n",
       "      <td>25.0</td>\n",
       "      <td>30.0</td>\n",
       "      <td>35.0</td>\n",
       "      <td>40.0</td>\n",
       "      <td>50.0</td>\n",
       "      <td>...</td>\n",
       "      <td>70.0</td>\n",
       "      <td>70.0</td>\n",
       "      <td>70.0</td>\n",
       "      <td>70.0</td>\n",
       "      <td>70.0</td>\n",
       "      <td>75.0</td>\n",
       "      <td>75.0</td>\n",
       "      <td>75.0</td>\n",
       "      <td>80.0</td>\n",
       "      <td>90.0</td>\n",
       "    </tr>\n",
       "    <tr>\n",
       "      <th>Test_Age</th>\n",
       "      <td>10982.0</td>\n",
       "      <td>49.525587</td>\n",
       "      <td>14.370589</td>\n",
       "      <td>10.0</td>\n",
       "      <td>20.0</td>\n",
       "      <td>30.0</td>\n",
       "      <td>30.0</td>\n",
       "      <td>35.0</td>\n",
       "      <td>40.0</td>\n",
       "      <td>50.0</td>\n",
       "      <td>...</td>\n",
       "      <td>70.0</td>\n",
       "      <td>70.0</td>\n",
       "      <td>70.0</td>\n",
       "      <td>70.0</td>\n",
       "      <td>75.0</td>\n",
       "      <td>75.0</td>\n",
       "      <td>80.0</td>\n",
       "      <td>80.0</td>\n",
       "      <td>85.0</td>\n",
       "      <td>90.0</td>\n",
       "    </tr>\n",
       "  </tbody>\n",
       "</table>\n",
       "<p>2 rows × 22 columns</p>\n",
       "</div>"
      ],
      "text/plain": [
       "             count       mean        std   min    1%    5%   10%   15%   25%  \\\n",
       "Train_Age  33058.0  48.870016  14.380360   0.0  20.0  25.0  30.0  35.0  40.0   \n",
       "Test_Age   10982.0  49.525587  14.370589  10.0  20.0  30.0  30.0  35.0  40.0   \n",
       "\n",
       "            50%  ...   91%   92%   93%   94%   95%   96%   97%   98%   99%  \\\n",
       "Train_Age  50.0  ...  70.0  70.0  70.0  70.0  70.0  75.0  75.0  75.0  80.0   \n",
       "Test_Age   50.0  ...  70.0  70.0  70.0  70.0  75.0  75.0  80.0  80.0  85.0   \n",
       "\n",
       "            max  \n",
       "Train_Age  90.0  \n",
       "Test_Age   90.0  \n",
       "\n",
       "[2 rows x 22 columns]"
      ]
     },
     "execution_count": 20,
     "metadata": {},
     "output_type": "execute_result"
    }
   ],
   "source": [
    "age_dist_train_test = pd.concat(\n",
    "    [train_df['age_approx'].describe(percentiles=[0.01, 0.05, 0.10, 0.15, 0.25, 0.50, 0.75 ,0.90, 0.91, 0.92,0.93, \n",
    "                                                        0.94, 0.95, 0.96, 0.97, 0.98, 0.99]),\n",
    "    test_df['age_approx'].describe(percentiles=[0.01, 0.05, 0.10, 0.15, 0.25, 0.50, 0.75 ,0.90, 0.91, 0.92,0.93,\n",
    "                                                        0.94, 0.95, 0.96, 0.97, 0.98, 0.99])\n",
    "    ], axis=1)\n",
    "age_dist_train_test.columns = ['Train_Age', 'Test_Age']\n",
    "age_dist_train_test.T"
   ]
  },
  {
   "cell_type": "markdown",
   "metadata": {},
   "source": [
    "## anatom_site_general_challenge"
   ]
  },
  {
   "cell_type": "code",
   "execution_count": 22,
   "metadata": {
    "collapsed": true,
    "execution": {
     "iopub.execute_input": "2023-04-19T08:40:26.321998Z",
     "iopub.status.busy": "2023-04-19T08:40:26.321406Z",
     "iopub.status.idle": "2023-04-19T08:40:27.176207Z",
     "shell.execute_reply": "2023-04-19T08:40:27.175150Z",
     "shell.execute_reply.started": "2023-04-19T08:40:26.321941Z"
    },
    "jupyter": {
     "outputs_hidden": true
    }
   },
   "outputs": [
    {
     "data": {
      "image/png": "[encoded data removed]",
      "text/plain": [
       "<Figure size 2000x500 with 2 Axes>"
      ]
     },
     "metadata": {},
     "output_type": "display_data"
    }
   ],
   "source": [
    "fig, ax = plt.subplots(nrows=1, ncols=2, sharex=False , sharey=False, figsize=(20,5))\n",
    "\n",
    "train_anatom_site_general = train_df[\"anatom_site_general_challenge\"].value_counts().sort_values(ascending=False)\n",
    "test_anatom_site_general = test_df.anatom_site_general_challenge.value_counts().sort_values(ascending=False)\n",
    "\n",
    "sns.barplot(x=train_anatom_site_general.index.values, y=train_anatom_site_general.values, ax=ax[0]);\n",
    "ax[0].set_xlabel(\"\");\n",
    "labels = ax[0].get_xticklabels();\n",
    "ax[0].set_xticklabels(labels, rotation=90);\n",
    "ax[0].set_title(\"Image locations in train\");\n",
    "\n",
    "sns.barplot(x=test_anatom_site_general.index.values, y=test_anatom_site_general.values, ax=ax[1]);\n",
    "ax[1].set_xlabel(\"\");\n",
    "labels = ax[1].get_xticklabels();\n",
    "ax[1].set_xticklabels(labels, rotation=90);\n",
    "ax[1].set_title(\"Image locations in test\");"
   ]
  },
  {
   "cell_type": "markdown",
   "metadata": {},
   "source": [
    "## Target"
   ]
  },
  {
   "cell_type": "code",
   "execution_count": 23,
   "metadata": {
    "collapsed": true,
    "execution": {
     "iopub.execute_input": "2023-04-19T08:40:37.920650Z",
     "iopub.status.busy": "2023-04-19T08:40:37.920188Z",
     "iopub.status.idle": "2023-04-19T08:40:37.933282Z",
     "shell.execute_reply": "2023-04-19T08:40:37.931921Z",
     "shell.execute_reply.started": "2023-04-19T08:40:37.920608Z"
    },
    "jupyter": {
     "outputs_hidden": true
    }
   },
   "outputs": [
    {
     "data": {
      "text/plain": [
       "0    98.237034\n",
       "1     1.762966\n",
       "Name: target, dtype: float64"
      ]
     },
     "execution_count": 23,
     "metadata": {},
     "output_type": "execute_result"
    }
   ],
   "source": [
    "train_df['target'].value_counts(normalize=True, dropna=False) * 100"
   ]
  },
  {
   "cell_type": "markdown",
   "metadata": {},
   "source": [
    "## Sex Vs. Target & anatom_site_general_challenge Vs. Target"
   ]
  },
  {
   "cell_type": "code",
   "execution_count": 24,
   "metadata": {
    "collapsed": true,
    "execution": {
     "iopub.execute_input": "2023-04-19T08:40:39.210935Z",
     "iopub.status.busy": "2023-04-19T08:40:39.210150Z",
     "iopub.status.idle": "2023-04-19T08:40:39.721771Z",
     "shell.execute_reply": "2023-04-19T08:40:39.720654Z",
     "shell.execute_reply.started": "2023-04-19T08:40:39.210893Z"
    },
    "jupyter": {
     "outputs_hidden": true
    }
   },
   "outputs": [
    {
     "data": {
      "image/png": "[encoded data removed]",
      "text/plain": [
       "<Figure size 2000x500 with 2 Axes>"
      ]
     },
     "metadata": {},
     "output_type": "display_data"
    }
   ],
   "source": [
    "fig, ax = plt.subplots(nrows=1, ncols=2, sharex=False, sharey=False, figsize=(20,5))\n",
    "sns.countplot(x='target', hue='sex',data=train_df, ax=ax[0])\n",
    "ax[0].set_xlabel(\"Target\", fontsize=15)\n",
    "ax[0].set_ylabel('Count', fontsize=15)\n",
    "ax[0].set_title(\"Sex Vs. Target\", fontsize=20)\n",
    "\n",
    "sns.countplot(x='target', hue='anatom_site_general_challenge',data=train_df, ax=ax[1])\n",
    "ax[1].set_xlabel(\"Target\", fontsize=15)\n",
    "ax[1].set_ylabel('Count', fontsize=15)\n",
    "ax[1].set_title(\"Sex Vs. anatom_site_general_challenge\", fontsize=20);"
   ]
  },
  {
   "cell_type": "markdown",
   "metadata": {},
   "source": [
    "## Age Vs. Target"
   ]
  },
  {
   "cell_type": "code",
   "execution_count": 25,
   "metadata": {
    "collapsed": true,
    "execution": {
     "iopub.execute_input": "2023-04-19T08:40:43.090705Z",
     "iopub.status.busy": "2023-04-19T08:40:43.090303Z",
     "iopub.status.idle": "2023-04-19T08:40:43.833667Z",
     "shell.execute_reply": "2023-04-19T08:40:43.832650Z",
     "shell.execute_reply.started": "2023-04-19T08:40:43.090649Z"
    },
    "jupyter": {
     "outputs_hidden": true
    }
   },
   "outputs": [
    {
     "data": {
      "image/png": "[encoded data removed]",
      "text/plain": [
       "<Figure size 2000x500 with 1 Axes>"
      ]
     },
     "metadata": {},
     "output_type": "display_data"
    }
   ],
   "source": [
    "plt.figure(figsize=(20,5))\n",
    "sns.distplot(train_df.loc[train_df['target'] == 0]['age_approx'], bins=50, label='Benign')\n",
    "sns.distplot(train_df.loc[train_df['target'] == 1]['age_approx'], bins=50, label='Malignant')\n",
    "plt.legend(loc='best')\n",
    "plt.ylabel('Density', fontsize=15)\n",
    "plt.xlabel('Age', fontsize=15)\n",
    "plt.title(\"Age Vs. Target distribution\", fontsize=20);"
   ]
  },
  {
   "cell_type": "markdown",
   "metadata": {},
   "source": [
    "## Training our model with No Tabular features\n",
    "- For now, we will run/train the model on a single fold only."
   ]
  },
  {
   "cell_type": "code",
   "execution_count": 26,
   "metadata": {
    "collapsed": true,
    "execution": {
     "iopub.execute_input": "2023-04-19T08:40:47.701065Z",
     "iopub.status.busy": "2023-04-19T08:40:47.700072Z",
     "iopub.status.idle": "2023-04-19T13:13:42.750919Z",
     "shell.execute_reply": "2023-04-19T13:13:42.749541Z",
     "shell.execute_reply.started": "2023-04-19T08:40:47.701011Z"
    }
   },
   "outputs": [
    {
     "name": "stderr",
     "output_type": "stream",
     "text": [
      "Downloading: \"https://github.com/lukemelas/EfficientNet-PyTorch/releases/download/1.0/efficientnet-b5-b6417697.pth\" to /root/.cache/torch/hub/checkpoints/efficientnet-b5-b6417697.pth\n"
     ]
    },
    {
     "data": {
      "application/vnd.jupyter.widget-view+json": {
       "model_id": "1a6b3388decd4af19ce5edebbb012991",
       "version_major": 2,
       "version_minor": 0
      },
      "text/plain": [
       "  0%|          | 0.00/117M [00:00<?, ?B/s]"
      ]
     },
     "metadata": {},
     "output_type": "display_data"
    },
    {
     "name": "stdout",
     "output_type": "stream",
     "text": [
      "Loaded pretrained weights for efficientnet-b5\n"
     ]
    },
    {
     "name": "stderr",
     "output_type": "stream",
     "text": [
      "  0%|          | 0/5 [00:00<?, ?it/s]"
     ]
    },
    {
     "name": "stdout",
     "output_type": "stream",
     "text": [
      "Validation loss decreased (inf --> 0.071890).  Saving model ...\n"
     ]
    },
    {
     "name": "stderr",
     "output_type": "stream",
     "text": [
      " 20%|██        | 1/5 [57:05<3:48:23, 3425.86s/it]"
     ]
    },
    {
     "name": "stdout",
     "output_type": "stream",
     "text": [
      "Epoch : 1 | train_loss : 0.0986 | valid_loss : 0.0719 | valid_auc : 0.8579 \n",
      "Validation loss decreased (0.071890 --> 0.067238).  Saving model ...\n"
     ]
    },
    {
     "name": "stderr",
     "output_type": "stream",
     "text": [
      " 40%|████      | 2/5 [1:51:06<2:45:49, 3316.66s/it]"
     ]
    },
    {
     "name": "stdout",
     "output_type": "stream",
     "text": [
      "Epoch : 2 | train_loss : 0.0749 | valid_loss : 0.0672 | valid_auc : 0.8902 \n"
     ]
    },
    {
     "name": "stderr",
     "output_type": "stream",
     "text": [
      " 60%|██████    | 3/5 [2:45:18<1:49:34, 3287.46s/it]"
     ]
    },
    {
     "name": "stdout",
     "output_type": "stream",
     "text": [
      "EarlyStopping counter: 1 out of 2\n",
      "Epoch : 3 | train_loss : 0.0708 | valid_loss : 0.0709 | valid_auc : 0.8746 \n",
      "Validation loss decreased (0.067238 --> 0.065598).  Saving model ...\n"
     ]
    },
    {
     "name": "stderr",
     "output_type": "stream",
     "text": [
      " 80%|████████  | 4/5 [3:39:10<54:25, 3265.50s/it]  "
     ]
    },
    {
     "name": "stdout",
     "output_type": "stream",
     "text": [
      "Epoch : 4 | train_loss : 0.0706 | valid_loss : 0.0656 | valid_auc : 0.8971 \n",
      "EarlyStopping counter: 1 out of 2\n"
     ]
    },
    {
     "name": "stderr",
     "output_type": "stream",
     "text": [
      "100%|██████████| 5/5 [4:32:49<00:00, 3273.97s/it]"
     ]
    },
    {
     "name": "stdout",
     "output_type": "stream",
     "text": [
      "Epoch : 5 | train_loss : 0.0683 | valid_loss : 0.0673 | valid_auc : 0.9015 \n",
      "Total training time: 16369.841 seconds\n"
     ]
    },
    {
     "name": "stderr",
     "output_type": "stream",
     "text": [
      "\n"
     ]
    }
   ],
   "source": [
    "from Scripts.train_model import run_model\n",
    "run_model(fold=0, train_df=train_df)"
   ]
  },
  {
   "cell_type": "markdown",
   "metadata": {},
   "source": [
    "## Generating submission file on the test dataset"
   ]
  },
  {
   "cell_type": "code",
   "execution_count": 27,
   "metadata": {
    "execution": {
     "iopub.execute_input": "2023-04-19T13:15:47.344072Z",
     "iopub.status.busy": "2023-04-19T13:15:47.343018Z",
     "iopub.status.idle": "2023-04-19T13:19:42.046766Z",
     "shell.execute_reply": "2023-04-19T13:19:42.045573Z",
     "shell.execute_reply.started": "2023-04-19T13:15:47.344010Z"
    }
   },
   "outputs": [
    {
     "name": "stdout",
     "output_type": "stream",
     "text": [
      "Loaded pretrained weights for efficientnet-b5\n"
     ]
    }
   ],
   "source": [
    "from Scripts.predict_on_test import predict_on_test_and_generate_submission_file\n",
    "\n",
    "model_path = \"../working/Models/efficientnet_b5_checkpoint_fold_0.pt\"\n",
    "predict_on_test_and_generate_submission_file(test_df=test_df,\n",
    "                                            use_tabular_features=False,\n",
    "                                            model_path=model_path)"
   ]
  },
  {
   "cell_type": "markdown",
   "metadata": {},
   "source": [
    "## Building Gradio demo\n",
    "Now that we have finalized the model we'll be deploying, we will use this EfficientNet-B5 model to predict on new images.\n",
    "\n",
    "For this project I will be using [Gradio](https://gradio.app/) library (product of HuggingFace). \n",
    "\n",
    "Why Gradio?\n",
    "The homepage of Gradio descibes it as:\n",
    "> Gradio is the fastest way to build/demo your machine learning model with a friendly web interface so that anyone can use it, anywhere.\n",
    "\n",
    "### Gradio Overview\n",
    "\n",
    "In general, we can have any combination of inputs like\n",
    "- Images\n",
    "- Tabular data\n",
    "- Text\n",
    "- Numbers\n",
    "- Video\n",
    "- Audio\n",
    "- etc.\n",
    "\n",
    "In our case we have images and inputs and the output is returned as a probability of whether a patient is sufferig from melanoma skin cancer disease.\n",
    "\n",
    "Gradio provides an interface that maps from the input(s) to output(s).\n",
    "\n",
    "    gr.Interface(function, inputs, outputs)\n",
    "    \n",
    "Where, `fn` is a python function to map inputs to outputs\n",
    "\n",
    "Gradio provides a very helpful `Interface` class to create an `inputs -> model/function -> outputs` workflow where the inputs and outputs could be almost anything we want."
   ]
  },
  {
   "cell_type": "code",
   "execution_count": 28,
   "metadata": {
    "execution": {
     "iopub.execute_input": "2023-04-19T13:21:29.483743Z",
     "iopub.status.busy": "2023-04-19T13:21:29.482627Z",
     "iopub.status.idle": "2023-04-19T13:21:45.410448Z",
     "shell.execute_reply": "2023-04-19T13:21:45.408502Z",
     "shell.execute_reply.started": "2023-04-19T13:21:29.483689Z"
    }
   },
   "outputs": [
    {
     "name": "stdout",
     "output_type": "stream",
     "text": [
      "\u001b[33mWARNING: Running pip as the 'root' user can result in broken permissions and conflicting behaviour with the system package manager. It is recommended to use a virtual environment instead: https://pip.pypa.io/warnings/venv\u001b[0m\u001b[33m\n",
      "\u001b[0mGradio version : 3.27.0\n"
     ]
    }
   ],
   "source": [
    "## Installing Gradio and importing it. \n",
    "try:\n",
    "    import gradio as gr\n",
    "except:\n",
    "    !pip install -q gradio\n",
    "    import gradio as gr\n",
    "print(f\"Gradio version : {gr.__version__}\")"
   ]
  },
  {
   "cell_type": "markdown",
   "metadata": {},
   "source": [
    "## Creating a model instance and putting it on the CPU\n",
    "\n",
    "First, let's make sure our EfficientNetB5 model on CPU"
   ]
  },
  {
   "cell_type": "code",
   "execution_count": 29,
   "metadata": {
    "execution": {
     "iopub.execute_input": "2023-04-19T13:21:45.414435Z",
     "iopub.status.busy": "2023-04-19T13:21:45.413043Z",
     "iopub.status.idle": "2023-04-19T13:21:45.957341Z",
     "shell.execute_reply": "2023-04-19T13:21:45.956204Z",
     "shell.execute_reply.started": "2023-04-19T13:21:45.414387Z"
    }
   },
   "outputs": [
    {
     "name": "stdout",
     "output_type": "stream",
     "text": [
      "Loaded pretrained weights for efficientnet-b5\n"
     ]
    },
    {
     "data": {
      "text/plain": [
       "device(type='cpu')"
      ]
     },
     "execution_count": 29,
     "metadata": {},
     "output_type": "execute_result"
    }
   ],
   "source": [
    "import torch\n",
    "import numpy as np\n",
    "import albumentations as A\n",
    "from Scripts.model import Model\n",
    "\n",
    "efficientnet_b5_model = Model()\n",
    "efficientnet_b5_model = torch.nn.DataParallel(efficientnet_b5_model) ## Must wrap our model in nn.DataParallel()\n",
    "    ## if used multi-gpu's to train the model otherwise we would get state_dict keys mismatch error.\n",
    "efficientnet_b5_model.load_state_dict(\n",
    "    torch.load(\n",
    "        f='efficientnet_b5_checkpoint_fold_0.pt',\n",
    "        map_location=torch.device(\"cpu\")\n",
    "    )\n",
    ")\n",
    "next(iter(model.parameters())).device"
   ]
  },
  {
   "cell_type": "markdown",
   "metadata": {},
   "source": [
    "## Creating a function to predict on a single images\n",
    "We create a function that takes an input: image -> transform -> predict with EfficientNetB5 -> output: probability.\n",
    "\n",
    "This will be our `fn` parameter for our Gradio Interface."
   ]
  },
  {
   "cell_type": "code",
   "execution_count": 30,
   "metadata": {
    "execution": {
     "iopub.execute_input": "2023-04-19T13:21:47.483431Z",
     "iopub.status.busy": "2023-04-19T13:21:47.482287Z",
     "iopub.status.idle": "2023-04-19T13:21:47.492354Z",
     "shell.execute_reply": "2023-04-19T13:21:47.491213Z",
     "shell.execute_reply.started": "2023-04-19T13:21:47.483382Z"
    }
   },
   "outputs": [],
   "source": [
    "## predict on a single image\n",
    "def predict_on_single_image(img):\n",
    "    \"\"\"\n",
    "    Function takes an image, transforms for \n",
    "    model training like normalizing the statistics\n",
    "    of the image. Converting the numpy array into\n",
    "    torch tensor and passing through the model\n",
    "    to get the prediction probability of a patient\n",
    "    having melanoma. \n",
    "    \"\"\"\n",
    "    img = np.array(img)\n",
    "    transforms = A.Compose([A.Resize(512,512),\n",
    "        A.Normalize(mean=(0.485, 0.456, 0.406), \n",
    "                    std=(0.229, 0.224, 0.225), \n",
    "                    max_pixel_value=255.0, \n",
    "                    always_apply=True\n",
    "        )]\n",
    "    )\n",
    "    img = transforms(image=img)['image']\n",
    "    image = np.transpose(img, (2, 0, 1)).astype(np.float32)\n",
    "    image = torch.tensor(image, dtype=torch.float).unsqueeze(dim=0)\n",
    "    model.eval()\n",
    "    with torch.inference_mode():\n",
    "        probs = torch.sigmoid(model(image))\n",
    "        prob_of_melanoma = probs[0].item()\n",
    "        prob_of_not_having_melanoma = 1 - prob_of_melanoma\n",
    "        pred_label = {\"Probability of Having Melanoma\": prob_of_melanoma, \n",
    "                      \"Probability of Not having Melanoma\": prob_of_not_having_melanoma} \n",
    "        return pred_label"
   ]
  },
  {
   "cell_type": "markdown",
   "metadata": {},
   "source": [
    "Let's see our function by performing a prediction of an image from the training dataset.\n",
    "\n",
    "We'll get some images from training dataset and extract the images paths list. Then we'll open an image with `Image.open()`.\n",
    "\n",
    "Finally, we pass the image to `predict_on_single_image()`."
   ]
  },
  {
   "cell_type": "code",
   "execution_count": 44,
   "metadata": {
    "execution": {
     "iopub.execute_input": "2023-04-19T13:27:53.462518Z",
     "iopub.status.busy": "2023-04-19T13:27:53.462123Z",
     "iopub.status.idle": "2023-04-19T13:27:54.406182Z",
     "shell.execute_reply": "2023-04-19T13:27:54.404843Z",
     "shell.execute_reply.started": "2023-04-19T13:27:53.462482Z"
    }
   },
   "outputs": [
    {
     "data": {
      "text/plain": [
       "{'Probability of Having Melanoma': 0.5395416617393494,\n",
       " 'Probability of Not having Melanoma': 0.46045833826065063}"
      ]
     },
     "execution_count": 44,
     "metadata": {},
     "output_type": "execute_result"
    }
   ],
   "source": [
    "import torch\n",
    "import pathlib\n",
    "import numpy as np\n",
    "from PIL import Image\n",
    "\n",
    "## Taking some images out\n",
    "images = train_df.iloc[1:10,]\n",
    "images_paths_list = images['image_path'].tolist()\n",
    "\n",
    "## Opening an Image\n",
    "img = Image.open(images_paths_list[8])\n",
    "\n",
    "## Predicting on the image using the function\n",
    "predict_on_single_image(img)"
   ]
  },
  {
   "cell_type": "markdown",
   "metadata": {},
   "source": [
    "### Creating a list of example images\n",
    "Before we create a demo, we first create a list of examples.\n",
    "\n",
    "Gradio's `Interface` class takes a list of `examples` parameter is a list of lists.\n",
    "\n",
    "So, we create a list of lists containing the filepaths of images.\n",
    "\n",
    "Our gradio demo will showcase these as example inputs to our demo so people can try. "
   ]
  },
  {
   "cell_type": "code",
   "execution_count": 32,
   "metadata": {
    "execution": {
     "iopub.execute_input": "2023-04-19T13:22:03.293364Z",
     "iopub.status.busy": "2023-04-19T13:22:03.292633Z",
     "iopub.status.idle": "2023-04-19T13:22:03.302047Z",
     "shell.execute_reply": "2023-04-19T13:22:03.300416Z",
     "shell.execute_reply.started": "2023-04-19T13:22:03.293325Z"
    }
   },
   "outputs": [
    {
     "data": {
      "text/plain": [
       "[['../input/jpeg-melanoma-512x512/train/ISIC_0015719.jpg'],\n",
       " ['../input/jpeg-melanoma-512x512/train/ISIC_0052212.jpg'],\n",
       " ['../input/jpeg-melanoma-512x512/train/ISIC_0068279.jpg']]"
      ]
     },
     "execution_count": 32,
     "metadata": {},
     "output_type": "execute_result"
    }
   ],
   "source": [
    "example_list = [[str(file_path)] for file_path in images_paths_list]\n",
    "example_list"
   ]
  },
  {
   "cell_type": "markdown",
   "metadata": {},
   "source": [
    "### Building a Gradio interface\n",
    "Putting everything together ->\n",
    "\n",
    "Gradio Interface Workflow:\n",
    "    input: image -> transform -> predict with EfficientNetB5 model -> probability: output\n",
    "\n",
    "We can do with the `Gr.Interface()` class with the following parameters:\n",
    "- fn: a python function that maps from inputs to outputs, in our case `the predict_on_single_image()` function.\n",
    "- inputs: the input to our Interface, such as image using [gradio.Image()](https://gradio.app/docs/#image).\n",
    "- outputs: the output of the Interface once the inputs are processed with the `fn`, such as a Number [gradio.Number()](https://gradio.app/docs/#number) (for our case probability).\n",
    "- examples: a list of examples to showcase for the demo.\n",
    "- title: a string title of the demo.\n",
    "- description: a string description of the demo.\n",
    "\n",
    "Once, we've created a demo instance of `gr.Interface()`, we use `demo.launch()` command."
   ]
  },
  {
   "cell_type": "code",
   "execution_count": 33,
   "metadata": {
    "collapsed": true,
    "execution": {
     "iopub.execute_input": "2023-04-19T13:22:15.468088Z",
     "iopub.status.busy": "2023-04-19T13:22:15.467449Z",
     "iopub.status.idle": "2023-04-19T13:22:21.443302Z",
     "shell.execute_reply": "2023-04-19T13:22:21.442176Z",
     "shell.execute_reply.started": "2023-04-19T13:22:15.468046Z"
    },
    "jupyter": {
     "outputs_hidden": true
    }
   },
   "outputs": [
    {
     "name": "stdout",
     "output_type": "stream",
     "text": [
      "Running on local URL:  http://127.0.0.1:7860\n",
      "Running on public URL: https://e228186381e2781228.gradio.live\n",
      "\n",
      "This share link expires in 72 hours. For free permanent hosting and GPU upgrades (NEW!), check out Spaces: https://huggingface.co/spaces\n"
     ]
    },
    {
     "data": {
      "text/html": [
       "<div><iframe src=\"https://e228186381e2781228.gradio.live\" width=\"100%\" height=\"500\" allow=\"autoplay; camera; microphone; clipboard-read; clipboard-write;\" frameborder=\"0\" allowfullscreen></iframe></div>"
      ],
      "text/plain": [
       "<IPython.core.display.HTML object>"
      ]
     },
     "metadata": {},
     "output_type": "display_data"
    },
    {
     "data": {
      "text/plain": []
     },
     "execution_count": 33,
     "metadata": {},
     "output_type": "execute_result"
    },
    {
     "name": "stderr",
     "output_type": "stream",
     "text": [
      "ERROR:    Exception in ASGI application\n",
      "Traceback (most recent call last):\n",
      "  File \"/opt/conda/lib/python3.7/site-packages/uvicorn/protocols/http/httptools_impl.py\", line 420, in run_asgi\n",
      "    self.scope, self.receive, self.send\n",
      "  File \"/opt/conda/lib/python3.7/site-packages/uvicorn/middleware/proxy_headers.py\", line 78, in __call__\n",
      "    return await self.app(scope, receive, send)\n",
      "  File \"/opt/conda/lib/python3.7/site-packages/fastapi/applications.py\", line 270, in __call__\n",
      "    await super().__call__(scope, receive, send)\n",
      "  File \"/opt/conda/lib/python3.7/site-packages/starlette/applications.py\", line 124, in __call__\n",
      "    await self.middleware_stack(scope, receive, send)\n",
      "  File \"/opt/conda/lib/python3.7/site-packages/starlette/middleware/errors.py\", line 184, in __call__\n",
      "    raise exc\n",
      "  File \"/opt/conda/lib/python3.7/site-packages/starlette/middleware/errors.py\", line 162, in __call__\n",
      "    await self.app(scope, receive, _send)\n",
      "  File \"/opt/conda/lib/python3.7/site-packages/starlette/middleware/cors.py\", line 84, in __call__\n",
      "    await self.app(scope, receive, send)\n",
      "  File \"/opt/conda/lib/python3.7/site-packages/starlette/middleware/exceptions.py\", line 79, in __call__\n",
      "    raise exc\n",
      "  File \"/opt/conda/lib/python3.7/site-packages/starlette/middleware/exceptions.py\", line 68, in __call__\n",
      "    await self.app(scope, receive, sender)\n",
      "  File \"/opt/conda/lib/python3.7/site-packages/fastapi/middleware/asyncexitstack.py\", line 21, in __call__\n",
      "    raise e\n",
      "  File \"/opt/conda/lib/python3.7/site-packages/fastapi/middleware/asyncexitstack.py\", line 18, in __call__\n",
      "    await self.app(scope, receive, send)\n",
      "  File \"/opt/conda/lib/python3.7/site-packages/starlette/routing.py\", line 706, in __call__\n",
      "    await route.handle(scope, receive, send)\n",
      "  File \"/opt/conda/lib/python3.7/site-packages/starlette/routing.py\", line 276, in handle\n",
      "    await self.app(scope, receive, send)\n",
      "  File \"/opt/conda/lib/python3.7/site-packages/starlette/routing.py\", line 66, in app\n",
      "    response = await func(request)\n",
      "  File \"/opt/conda/lib/python3.7/site-packages/fastapi/routing.py\", line 238, in app\n",
      "    dependant=dependant, values=values, is_coroutine=is_coroutine\n",
      "  File \"/opt/conda/lib/python3.7/site-packages/fastapi/routing.py\", line 163, in run_endpoint_function\n",
      "    return await dependant.call(**values)\n",
      "  File \"/opt/conda/lib/python3.7/site-packages/gradio/routes.py\", line 345, in file\n",
      "    f\"File cannot be fetched: {path_or_url}. All files must contained within the Gradio python app working directory, or be a temp file created by the Gradio python app.\"\n",
      "ValueError: File cannot be fetched: /kaggle/input/jpeg-melanoma-512x512/train/ISIC_0015719.jpg. All files must contained within the Gradio python app working directory, or be a temp file created by the Gradio python app.\n",
      "ERROR:    Exception in ASGI application\n",
      "Traceback (most recent call last):\n",
      "  File \"/opt/conda/lib/python3.7/site-packages/uvicorn/protocols/http/httptools_impl.py\", line 420, in run_asgi\n",
      "    self.scope, self.receive, self.send\n",
      "  File \"/opt/conda/lib/python3.7/site-packages/uvicorn/middleware/proxy_headers.py\", line 78, in __call__\n",
      "    return await self.app(scope, receive, send)\n",
      "  File \"/opt/conda/lib/python3.7/site-packages/fastapi/applications.py\", line 270, in __call__\n",
      "    await super().__call__(scope, receive, send)\n",
      "  File \"/opt/conda/lib/python3.7/site-packages/starlette/applications.py\", line 124, in __call__\n",
      "    await self.middleware_stack(scope, receive, send)\n",
      "  File \"/opt/conda/lib/python3.7/site-packages/starlette/middleware/errors.py\", line 184, in __call__\n",
      "    raise exc\n",
      "  File \"/opt/conda/lib/python3.7/site-packages/starlette/middleware/errors.py\", line 162, in __call__\n",
      "    await self.app(scope, receive, _send)\n",
      "  File \"/opt/conda/lib/python3.7/site-packages/starlette/middleware/cors.py\", line 84, in __call__\n",
      "    await self.app(scope, receive, send)\n",
      "  File \"/opt/conda/lib/python3.7/site-packages/starlette/middleware/exceptions.py\", line 79, in __call__\n",
      "    raise exc\n",
      "  File \"/opt/conda/lib/python3.7/site-packages/starlette/middleware/exceptions.py\", line 68, in __call__\n",
      "    await self.app(scope, receive, sender)\n",
      "  File \"/opt/conda/lib/python3.7/site-packages/fastapi/middleware/asyncexitstack.py\", line 21, in __call__\n",
      "    raise e\n",
      "  File \"/opt/conda/lib/python3.7/site-packages/fastapi/middleware/asyncexitstack.py\", line 18, in __call__\n",
      "    await self.app(scope, receive, send)\n",
      "  File \"/opt/conda/lib/python3.7/site-packages/starlette/routing.py\", line 706, in __call__\n",
      "    await route.handle(scope, receive, send)\n",
      "  File \"/opt/conda/lib/python3.7/site-packages/starlette/routing.py\", line 276, in handle\n",
      "    await self.app(scope, receive, send)\n",
      "  File \"/opt/conda/lib/python3.7/site-packages/starlette/routing.py\", line 66, in app\n",
      "    response = await func(request)\n",
      "  File \"/opt/conda/lib/python3.7/site-packages/fastapi/routing.py\", line 238, in app\n",
      "    dependant=dependant, values=values, is_coroutine=is_coroutine\n",
      "  File \"/opt/conda/lib/python3.7/site-packages/fastapi/routing.py\", line 163, in run_endpoint_function\n",
      "    return await dependant.call(**values)\n",
      "  File \"/opt/conda/lib/python3.7/site-packages/gradio/routes.py\", line 345, in file\n",
      "    f\"File cannot be fetched: {path_or_url}. All files must contained within the Gradio python app working directory, or be a temp file created by the Gradio python app.\"\n",
      "ValueError: File cannot be fetched: /kaggle/input/jpeg-melanoma-512x512/train/ISIC_0052212.jpg. All files must contained within the Gradio python app working directory, or be a temp file created by the Gradio python app.\n",
      "ERROR:    Exception in ASGI application\n",
      "Traceback (most recent call last):\n",
      "  File \"/opt/conda/lib/python3.7/site-packages/uvicorn/protocols/http/httptools_impl.py\", line 420, in run_asgi\n",
      "    self.scope, self.receive, self.send\n",
      "  File \"/opt/conda/lib/python3.7/site-packages/uvicorn/middleware/proxy_headers.py\", line 78, in __call__\n",
      "    return await self.app(scope, receive, send)\n",
      "  File \"/opt/conda/lib/python3.7/site-packages/fastapi/applications.py\", line 270, in __call__\n",
      "    await super().__call__(scope, receive, send)\n",
      "  File \"/opt/conda/lib/python3.7/site-packages/starlette/applications.py\", line 124, in __call__\n",
      "    await self.middleware_stack(scope, receive, send)\n",
      "  File \"/opt/conda/lib/python3.7/site-packages/starlette/middleware/errors.py\", line 184, in __call__\n",
      "    raise exc\n",
      "  File \"/opt/conda/lib/python3.7/site-packages/starlette/middleware/errors.py\", line 162, in __call__\n",
      "    await self.app(scope, receive, _send)\n",
      "  File \"/opt/conda/lib/python3.7/site-packages/starlette/middleware/cors.py\", line 84, in __call__\n",
      "    await self.app(scope, receive, send)\n",
      "  File \"/opt/conda/lib/python3.7/site-packages/starlette/middleware/exceptions.py\", line 79, in __call__\n",
      "    raise exc\n",
      "  File \"/opt/conda/lib/python3.7/site-packages/starlette/middleware/exceptions.py\", line 68, in __call__\n",
      "    await self.app(scope, receive, sender)\n",
      "  File \"/opt/conda/lib/python3.7/site-packages/fastapi/middleware/asyncexitstack.py\", line 21, in __call__\n",
      "    raise e\n",
      "  File \"/opt/conda/lib/python3.7/site-packages/fastapi/middleware/asyncexitstack.py\", line 18, in __call__\n",
      "    await self.app(scope, receive, send)\n",
      "  File \"/opt/conda/lib/python3.7/site-packages/starlette/routing.py\", line 706, in __call__\n",
      "    await route.handle(scope, receive, send)\n",
      "  File \"/opt/conda/lib/python3.7/site-packages/starlette/routing.py\", line 276, in handle\n",
      "    await self.app(scope, receive, send)\n",
      "  File \"/opt/conda/lib/python3.7/site-packages/starlette/routing.py\", line 66, in app\n",
      "    response = await func(request)\n",
      "  File \"/opt/conda/lib/python3.7/site-packages/fastapi/routing.py\", line 238, in app\n",
      "    dependant=dependant, values=values, is_coroutine=is_coroutine\n",
      "  File \"/opt/conda/lib/python3.7/site-packages/fastapi/routing.py\", line 163, in run_endpoint_function\n",
      "    return await dependant.call(**values)\n",
      "  File \"/opt/conda/lib/python3.7/site-packages/gradio/routes.py\", line 345, in file\n",
      "    f\"File cannot be fetched: {path_or_url}. All files must contained within the Gradio python app working directory, or be a temp file created by the Gradio python app.\"\n",
      "ValueError: File cannot be fetched: /kaggle/input/jpeg-melanoma-512x512/train/ISIC_0068279.jpg. All files must contained within the Gradio python app working directory, or be a temp file created by the Gradio python app.\n",
      "ERROR:    Exception in ASGI application\n",
      "Traceback (most recent call last):\n",
      "  File \"/opt/conda/lib/python3.7/site-packages/uvicorn/protocols/http/httptools_impl.py\", line 420, in run_asgi\n",
      "    self.scope, self.receive, self.send\n",
      "  File \"/opt/conda/lib/python3.7/site-packages/uvicorn/middleware/proxy_headers.py\", line 78, in __call__\n",
      "    return await self.app(scope, receive, send)\n",
      "  File \"/opt/conda/lib/python3.7/site-packages/fastapi/applications.py\", line 270, in __call__\n",
      "    await super().__call__(scope, receive, send)\n",
      "  File \"/opt/conda/lib/python3.7/site-packages/starlette/applications.py\", line 124, in __call__\n",
      "    await self.middleware_stack(scope, receive, send)\n",
      "  File \"/opt/conda/lib/python3.7/site-packages/starlette/middleware/errors.py\", line 184, in __call__\n",
      "    raise exc\n",
      "  File \"/opt/conda/lib/python3.7/site-packages/starlette/middleware/errors.py\", line 162, in __call__\n",
      "    await self.app(scope, receive, _send)\n",
      "  File \"/opt/conda/lib/python3.7/site-packages/starlette/middleware/cors.py\", line 84, in __call__\n",
      "    await self.app(scope, receive, send)\n",
      "  File \"/opt/conda/lib/python3.7/site-packages/starlette/middleware/exceptions.py\", line 79, in __call__\n",
      "    raise exc\n",
      "  File \"/opt/conda/lib/python3.7/site-packages/starlette/middleware/exceptions.py\", line 68, in __call__\n",
      "    await self.app(scope, receive, sender)\n",
      "  File \"/opt/conda/lib/python3.7/site-packages/fastapi/middleware/asyncexitstack.py\", line 21, in __call__\n",
      "    raise e\n",
      "  File \"/opt/conda/lib/python3.7/site-packages/fastapi/middleware/asyncexitstack.py\", line 18, in __call__\n",
      "    await self.app(scope, receive, send)\n",
      "  File \"/opt/conda/lib/python3.7/site-packages/starlette/routing.py\", line 706, in __call__\n",
      "    await route.handle(scope, receive, send)\n",
      "  File \"/opt/conda/lib/python3.7/site-packages/starlette/routing.py\", line 276, in handle\n",
      "    await self.app(scope, receive, send)\n",
      "  File \"/opt/conda/lib/python3.7/site-packages/starlette/routing.py\", line 66, in app\n",
      "    response = await func(request)\n",
      "  File \"/opt/conda/lib/python3.7/site-packages/fastapi/routing.py\", line 238, in app\n",
      "    dependant=dependant, values=values, is_coroutine=is_coroutine\n",
      "  File \"/opt/conda/lib/python3.7/site-packages/fastapi/routing.py\", line 163, in run_endpoint_function\n",
      "    return await dependant.call(**values)\n",
      "  File \"/opt/conda/lib/python3.7/site-packages/gradio/routes.py\", line 345, in file\n",
      "    f\"File cannot be fetched: {path_or_url}. All files must contained within the Gradio python app working directory, or be a temp file created by the Gradio python app.\"\n",
      "ValueError: File cannot be fetched: /kaggle/input/jpeg-melanoma-512x512/train/ISIC_0015719.jpg. All files must contained within the Gradio python app working directory, or be a temp file created by the Gradio python app.\n",
      "ERROR:    Exception in ASGI application\n",
      "Traceback (most recent call last):\n",
      "  File \"/opt/conda/lib/python3.7/site-packages/uvicorn/protocols/http/httptools_impl.py\", line 420, in run_asgi\n",
      "    self.scope, self.receive, self.send\n",
      "  File \"/opt/conda/lib/python3.7/site-packages/uvicorn/middleware/proxy_headers.py\", line 78, in __call__\n",
      "    return await self.app(scope, receive, send)\n",
      "  File \"/opt/conda/lib/python3.7/site-packages/fastapi/applications.py\", line 270, in __call__\n",
      "    await super().__call__(scope, receive, send)\n",
      "  File \"/opt/conda/lib/python3.7/site-packages/starlette/applications.py\", line 124, in __call__\n",
      "    await self.middleware_stack(scope, receive, send)\n",
      "  File \"/opt/conda/lib/python3.7/site-packages/starlette/middleware/errors.py\", line 184, in __call__\n",
      "    raise exc\n",
      "  File \"/opt/conda/lib/python3.7/site-packages/starlette/middleware/errors.py\", line 162, in __call__\n",
      "    await self.app(scope, receive, _send)\n",
      "  File \"/opt/conda/lib/python3.7/site-packages/starlette/middleware/cors.py\", line 84, in __call__\n",
      "    await self.app(scope, receive, send)\n",
      "  File \"/opt/conda/lib/python3.7/site-packages/starlette/middleware/exceptions.py\", line 79, in __call__\n",
      "    raise exc\n",
      "  File \"/opt/conda/lib/python3.7/site-packages/starlette/middleware/exceptions.py\", line 68, in __call__\n",
      "    await self.app(scope, receive, sender)\n",
      "  File \"/opt/conda/lib/python3.7/site-packages/fastapi/middleware/asyncexitstack.py\", line 21, in __call__\n",
      "    raise e\n",
      "  File \"/opt/conda/lib/python3.7/site-packages/fastapi/middleware/asyncexitstack.py\", line 18, in __call__\n",
      "    await self.app(scope, receive, send)\n",
      "  File \"/opt/conda/lib/python3.7/site-packages/starlette/routing.py\", line 706, in __call__\n",
      "    await route.handle(scope, receive, send)\n",
      "  File \"/opt/conda/lib/python3.7/site-packages/starlette/routing.py\", line 276, in handle\n",
      "    await self.app(scope, receive, send)\n",
      "  File \"/opt/conda/lib/python3.7/site-packages/starlette/routing.py\", line 66, in app\n",
      "    response = await func(request)\n",
      "  File \"/opt/conda/lib/python3.7/site-packages/fastapi/routing.py\", line 238, in app\n",
      "    dependant=dependant, values=values, is_coroutine=is_coroutine\n",
      "  File \"/opt/conda/lib/python3.7/site-packages/fastapi/routing.py\", line 163, in run_endpoint_function\n",
      "    return await dependant.call(**values)\n",
      "  File \"/opt/conda/lib/python3.7/site-packages/gradio/routes.py\", line 345, in file\n",
      "    f\"File cannot be fetched: {path_or_url}. All files must contained within the Gradio python app working directory, or be a temp file created by the Gradio python app.\"\n",
      "ValueError: File cannot be fetched: /kaggle/input/jpeg-melanoma-512x512/train/ISIC_0052212.jpg. All files must contained within the Gradio python app working directory, or be a temp file created by the Gradio python app.\n",
      "ERROR:    Exception in ASGI application\n",
      "Traceback (most recent call last):\n",
      "  File \"/opt/conda/lib/python3.7/site-packages/uvicorn/protocols/http/httptools_impl.py\", line 420, in run_asgi\n",
      "    self.scope, self.receive, self.send\n",
      "  File \"/opt/conda/lib/python3.7/site-packages/uvicorn/middleware/proxy_headers.py\", line 78, in __call__\n",
      "    return await self.app(scope, receive, send)\n",
      "  File \"/opt/conda/lib/python3.7/site-packages/fastapi/applications.py\", line 270, in __call__\n",
      "    await super().__call__(scope, receive, send)\n",
      "  File \"/opt/conda/lib/python3.7/site-packages/starlette/applications.py\", line 124, in __call__\n",
      "    await self.middleware_stack(scope, receive, send)\n",
      "  File \"/opt/conda/lib/python3.7/site-packages/starlette/middleware/errors.py\", line 184, in __call__\n",
      "    raise exc\n",
      "  File \"/opt/conda/lib/python3.7/site-packages/starlette/middleware/errors.py\", line 162, in __call__\n",
      "    await self.app(scope, receive, _send)\n",
      "  File \"/opt/conda/lib/python3.7/site-packages/starlette/middleware/cors.py\", line 84, in __call__\n",
      "    await self.app(scope, receive, send)\n",
      "  File \"/opt/conda/lib/python3.7/site-packages/starlette/middleware/exceptions.py\", line 79, in __call__\n",
      "    raise exc\n",
      "  File \"/opt/conda/lib/python3.7/site-packages/starlette/middleware/exceptions.py\", line 68, in __call__\n",
      "    await self.app(scope, receive, sender)\n",
      "  File \"/opt/conda/lib/python3.7/site-packages/fastapi/middleware/asyncexitstack.py\", line 21, in __call__\n",
      "    raise e\n",
      "  File \"/opt/conda/lib/python3.7/site-packages/fastapi/middleware/asyncexitstack.py\", line 18, in __call__\n",
      "    await self.app(scope, receive, send)\n",
      "  File \"/opt/conda/lib/python3.7/site-packages/starlette/routing.py\", line 706, in __call__\n",
      "    await route.handle(scope, receive, send)\n",
      "  File \"/opt/conda/lib/python3.7/site-packages/starlette/routing.py\", line 276, in handle\n",
      "    await self.app(scope, receive, send)\n",
      "  File \"/opt/conda/lib/python3.7/site-packages/starlette/routing.py\", line 66, in app\n",
      "    response = await func(request)\n",
      "  File \"/opt/conda/lib/python3.7/site-packages/fastapi/routing.py\", line 238, in app\n",
      "    dependant=dependant, values=values, is_coroutine=is_coroutine\n",
      "  File \"/opt/conda/lib/python3.7/site-packages/fastapi/routing.py\", line 163, in run_endpoint_function\n",
      "    return await dependant.call(**values)\n",
      "  File \"/opt/conda/lib/python3.7/site-packages/gradio/routes.py\", line 345, in file\n",
      "    f\"File cannot be fetched: {path_or_url}. All files must contained within the Gradio python app working directory, or be a temp file created by the Gradio python app.\"\n",
      "ValueError: File cannot be fetched: /kaggle/input/jpeg-melanoma-512x512/train/ISIC_0068279.jpg. All files must contained within the Gradio python app working directory, or be a temp file created by the Gradio python app.\n"
     ]
    }
   ],
   "source": [
    "import gradio as gr\n",
    "\n",
    "## Creating the title and description strings  \n",
    "title = \"Melanoma Cancer Detection App\"\n",
    "description = 'An efficientnet-b5 model that predicts the probability of a patient having melanoma skin cancer or not.'\n",
    "\n",
    "## Create the Gradio demo\n",
    "demo = gr.Interface(fn=predict_on_single_image,\n",
    "                   inputs=gr.Image(type='pil'),\n",
    "                   outputs=[gr.Label(label='Probabilities')],\n",
    "                   examples=example_list, title=title,\n",
    "                   description=description)\n",
    "\n",
    "## Launch the demo!\n",
    "demo.launch(debug=False, share=True)"
   ]
  },
  {
   "cell_type": "markdown",
   "metadata": {},
   "source": [
    "Woow!!!\n",
    "\n",
    "Our application is up and running, this link is only temporary and and it remains ony for 72 hours. For permanent hosting,\n",
    "we can upload our Gradio app Interface to [HuggingFace Spaces](https://huggingface.co/spaces). \n",
    "\n",
    "Now download all the files and folders from kaggle output manually & this kaggle kernel locally\n",
    "\n",
    "## Turning our Melanoma skin cancer detection Gradio Demo into a deployable app\n",
    "\n",
    "We'll deploy the demo application on HuggingFace Spaces.\n",
    "\n",
    "What is HuggingFace Spaces?\n",
    "\n",
    "It is a resource that allows anybody to host and share machine learning application.\n",
    "\n",
    "### Deployed Gradio App Structure\n",
    "To upload our gradio app, we'll want to put everything together into a singe directory.\n",
    "\n",
    "For example, our demo might live at the path `demos/melanoma_skin_cancer_files` with the following structure:\n",
    "```    \n",
    "demos/\n",
    "    └── melanoma_skin_cancer_files/\n",
    "        ├── efficientnet_b5_checkpoint_fold_0.pt\n",
    "        ├── app.py\n",
    "        ├── examples/\n",
    "        │   ├── image_1.jpg\n",
    "        │   ├── image_2.jpg\n",
    "        │   └── image_3.jpg\n",
    "        ├── model.py\n",
    "        └── requirements.txt\n",
    "```\n",
    "\n",
    "Where:\n",
    "- `efficientnet_b5_checkpoint_fold_0` is our trained model.\n",
    "- `app.py` contains our Gradio app.\n",
    "    **Note**: `app.py` is the default filename used for HuggingFace Spaces, if we deploy our apps there.\n",
    "- `examples` contains sample images to showcase the demo of our Gradio application.\n",
    "- `model.py` contains the main model/transformations code associated with our model.\n",
    "- `requirements.txt` file contains the dependencies/packages to run our application such as torch, albumentations, torchvision, gradio, numpy."
   ]
  },
  {
   "cell_type": "markdown",
   "metadata": {},
   "source": [
    "### Creating a demo folder to store our Melanoma skin cancer App files\n",
    "To begin, we'll create an empty directory `demos/` that will contain all our necessary files for the application.\n",
    "\n",
    "We can achive this using Python's `pathlib.Path(\"path_of_dir\")` to establish directory path and then `pathlib.Path(\"path_of_dir\").mkdir()` to create it."
   ]
  },
  {
   "cell_type": "code",
   "execution_count": 1,
   "metadata": {},
   "outputs": [],
   "source": [
    "############### ROOT_DIR : I Have put the files in my E: drive\n",
    "## Importing Packages \n",
    "import shutil\n",
    "from pathlib import Path\n",
    "import os\n",
    "\n",
    "ROOT_DIR = \"\\\\\".join(os.getcwd().split(\"\\\\\")[:2])\n",
    "\n",
    "## Create Melanoma skin cancer demo path\n",
    "melanoma_app_demo_path = Path(f\"{ROOT_DIR}/demos/melanoma_skin_cancer_files\")\n",
    "\n",
    "## Removing files that might already exist and creating a new directory.\n",
    "if melanoma_app_demo_path.exists():\n",
    "    shutil.rmtree(melanoma_app_demo_path)\n",
    "    melanoma_app_demo_path.mkdir(parents=True, # Do we want to make parent folders?\n",
    "                                exist_ok=True) # Create even if they already exists? \n",
    "else:\n",
    "    ## If the path doesn't exist, create one \n",
    "    melanoma_app_demo_path.mkdir(parents=True,\n",
    "                                exist_ok=True)"
   ]
  },
  {
   "cell_type": "markdown",
   "metadata": {},
   "source": [
    "### Creating a folder of example images to use with our Melanoma skin cancer demo\n",
    "Now we'll create an empty directory called `examples` and store some images (namely - ISIC_0015719.jpg, ISIC_0052212.jpg, ISIC_0068279.jpg) from the training dataset provided in the competition (which we download manually) from the [here](https://www.kaggle.com/datasets/cdeotte/jpeg-melanoma-512x512). Download the 1ts three images from the training dataset mentioned above.\n",
    "\n",
    "Put these images in the Data/Input (whatever you want to call) folder.\n",
    "\n",
    "To do so we'll:\n",
    "\n",
    "1. Create an empty directory `examples/` within the `demos/melanoma_skin_cancer_files` directory.\n",
    "2. Download the top 3 mentioned images from the training dataset from the link above.\n",
    "3. Collect the filepaths into a list.\n",
    "4. Copy these 3 images from the train dataset to the `demos/melanom_skin_cancer_files/examples/` directory."
   ]
  },
  {
   "cell_type": "code",
   "execution_count": 2,
   "metadata": {},
   "outputs": [],
   "source": [
    "import shutil\n",
    "from pathlib import Path\n",
    "\n",
    "## Create examples directory\n",
    "melanoma_app_examples_path = melanoma_app_demo_path / \"examples\"\n",
    "melanoma_app_examples_path.mkdir(parents=True, exist_ok=True)\n",
    "\n",
    "## collecting the image paths of 4 images \n",
    "melanoma_app_examples = [Path(f\"{ROOT_DIR}/input/jpeg-melanoma-512x512/train/ISIC_0015719.jpg\"),\n",
    "                        Path(f'{ROOT_DIR}/input/jpeg-melanoma-512x512/train/ISIC_0052212.jpg'),\n",
    "                        Path(f'{ROOT_DIR}/input/jpeg-melanoma-512x512/train/ISIC_0068279.jpg'),\n",
    "                        Path(f'{ROOT_DIR}/input/jpeg-melanoma-512x512/train/ISIC_0149568.jpg')]\n",
    "for example in melanoma_app_examples:\n",
    "    destination = melanoma_app_examples_path / example.name\n",
    "    shutil.copy(src=example, dst=destination)"
   ]
  },
  {
   "cell_type": "code",
   "execution_count": 10,
   "metadata": {},
   "outputs": [],
   "source": [
    "## collecting the image paths of some more images but this time from the testing folder \n",
    "melanoma_app_examples = [Path(f\"{ROOT_DIR}/input/jpeg-melanoma-512x512/test/ISIC_0052060.jpg\"),\n",
    "                        Path(f'{ROOT_DIR}/input/jpeg-melanoma-512x512/test/ISIC_0082004.jpg'),\n",
    "                        Path(f'{ROOT_DIR}/input/jpeg-melanoma-512x512/test/ISIC_0082785.jpg'),\n",
    "                        Path(f'{ROOT_DIR}/input/jpeg-melanoma-512x512/test/ISIC_0105104.jpg'),\n",
    "                        Path(f'{ROOT_DIR}/input/jpeg-melanoma-512x512/test/ISIC_0112420.jpg'),\n",
    "                        Path(f'{ROOT_DIR}/input/jpeg-melanoma-512x512/test/ISIC_0155983.jpg'),\n",
    "                        Path(f'{ROOT_DIR}/input/jpeg-melanoma-512x512/test/ISIC_0171865.jpg')]\n",
    "for example in melanoma_app_examples:\n",
    "    destination = melanoma_app_examples_path / example.name\n",
    "    shutil.copy(src=example, dst=destination)"
   ]
  },
  {
   "cell_type": "markdown",
   "metadata": {},
   "source": [
    "Now we verify our example images are present, let's list the contents of our `demo/melanoma_skin_cancer/examples/` directory with `os.listdir()` and then format the filepaths into a list of lists (to make it compatible with the Gradio's `gradio.Interface()`, example parameter)."
   ]
  },
  {
   "cell_type": "code",
   "execution_count": 11,
   "metadata": {},
   "outputs": [
    {
     "data": {
      "text/plain": [
       "[['examples/ISIC_0015719.jpg'],\n",
       " ['examples/ISIC_0052060.jpg'],\n",
       " ['examples/ISIC_0052212.jpg'],\n",
       " ['examples/ISIC_0068279.jpg'],\n",
       " ['examples/ISIC_0082004.jpg'],\n",
       " ['examples/ISIC_0082785.jpg'],\n",
       " ['examples/ISIC_0105104.jpg'],\n",
       " ['examples/ISIC_0112420.jpg'],\n",
       " ['examples/ISIC_0149568.jpg'],\n",
       " ['examples/ISIC_0155983.jpg'],\n",
       " ['examples/ISIC_0171865.jpg']]"
      ]
     },
     "execution_count": 11,
     "metadata": {},
     "output_type": "execute_result"
    }
   ],
   "source": [
    "example_list = [[\"examples/\" + example] for example in os.listdir(melanoma_app_examples_path)]\n",
    "example_list"
   ]
  },
  {
   "cell_type": "markdown",
   "metadata": {},
   "source": [
    "### Moving our trained EfficientNet-B5 model into our Melanoma demo directory.\n",
    "We previously saved our model binary file into the `Models` directory while training as `Models/efficientnet_b5_checkpoint_fold_0.pt`.\n",
    "\n",
    "We use Python's `shutil.move()` method and passing in `src`(the source path of the target file) and `dst` (the destination folder path of the target file to be moved into) parameters."
   ]
  },
  {
   "cell_type": "code",
   "execution_count": 4,
   "metadata": {},
   "outputs": [
    {
     "name": "stdout",
     "output_type": "stream",
     "text": [
      "Attempting to move the E:\\Melanoma_skin_cancer_detection\\output\\working\\Models\\efficientnet_b5_checkpoint_fold_0.pt to E:\\Melanoma_skin_cancer_detection\\demos\\melanoma_skin_cancer_files\\efficientnet_b5_checkpoint_fold_0.pt\n",
      "Model move completed\n"
     ]
    }
   ],
   "source": [
    "## Importing Libraries\n",
    "import shutil\n",
    "\n",
    "## Create a source path for our target model\n",
    "efficientnet_b5_model_path = f\"{ROOT_DIR}\\\\output\\\\working\\\\Models\\\\efficientnet_b5_checkpoint_fold_0.pt\"\n",
    "\n",
    "## Create a destination path for our target model\n",
    "efficientnet_b5_model_destination = melanoma_app_demo_path / efficientnet_b5_model_path.split(\"\\\\\")[-1]\n",
    "\n",
    "## Try to move the file\n",
    "try:\n",
    "    print(f\"Attempting to move the {efficientnet_b5_model_path} to {efficientnet_b5_model_destination}\")\n",
    "    \n",
    "    ## Move the model\n",
    "    shutil.move(src=efficientnet_b5_model_path,\n",
    "               dst=efficientnet_b5_model_destination)\n",
    "    \n",
    "    print(\"Model move completed\")\n",
    "## If the model has already been moved, check if it exists\n",
    "except:\n",
    "    print(f\"No model found at {efficientnet_b5_model_path}, perhaps it's already moved.\")\n",
    "    print(f\"Model already exists at {efficientnet_b5_model_destination}: {efficientnet_b5_model_destination.exists()}\")"
   ]
  },
  {
   "cell_type": "markdown",
   "metadata": {},
   "source": [
    "### Turning our EfficientNet-B5 model into a Python script (`model.py`)\n",
    "Our current model's `state_dict()` is saved to `demos/melanoma_skin_cancer/efficientnet_b5_checkpoint_fold_0.pt`.\n",
    "\n",
    "To load it it we can use `model.load_state_dict()` with `torch.load()`. But before that we need to instantiate a model.\n",
    "\n",
    "To do this in a modular fashion we'll create a script model.py which contains the model definition into a function called `Model()`."
   ]
  },
  {
   "cell_type": "code",
   "execution_count": 5,
   "metadata": {},
   "outputs": [
    {
     "data": {
      "text/plain": [
       "'E:\\\\Melanoma_skin_cancer_detection\\\\notebooks'"
      ]
     },
     "execution_count": 5,
     "metadata": {},
     "output_type": "execute_result"
    }
   ],
   "source": [
    "## Now if we look into which directory we are currently, we'll find that using the following code\n",
    "os.getcwd()"
   ]
  },
  {
   "cell_type": "markdown",
   "metadata": {},
   "source": [
    "Now we will move into the demos directory where we will write some helper utilities.\n",
    "\n",
    "In `cd ../demos/`: `..` means we are moving outside of the notebooks directory.\n",
    "`demos/`: means we moving inside the demos directory."
   ]
  },
  {
   "cell_type": "code",
   "execution_count": 6,
   "metadata": {},
   "outputs": [
    {
     "name": "stdout",
     "output_type": "stream",
     "text": [
      "E:\\Melanoma_skin_cancer_detection\\demos\n"
     ]
    }
   ],
   "source": [
    "cd ../demos/"
   ]
  },
  {
   "cell_type": "code",
   "execution_count": 7,
   "metadata": {},
   "outputs": [
    {
     "name": "stdout",
     "output_type": "stream",
     "text": [
      "Writing melanoma_skin_cancer_files/model.py\n"
     ]
    }
   ],
   "source": [
    "%%writefile melanoma_skin_cancer_files/model.py\n",
    "import torch\n",
    "import torch.nn as nn\n",
    "import torch.nn.functional as F\n",
    "from efficientnet_pytorch import EfficientNet\n",
    "\n",
    "\n",
    "class Model(nn.Module):\n",
    "    \"\"\"\n",
    "    Creates an efficientnet-b5 model instance.    \n",
    "    \"\"\"\n",
    "    def __init__(self, model_name=\"efficientnet-b5\", pool_type=F.adaptive_avg_pool2d):\n",
    "        super().__init__()\n",
    "        self.pool_type = pool_type\n",
    "        self.model_name = model_name\n",
    "        self.backbone = EfficientNet.from_pretrained(model_name)\n",
    "        in_features = getattr(self.backbone, \"_fc\").in_features\n",
    "        self.classifier = nn.Linear(in_features, 1)\n",
    "\n",
    "    def forward(self, x):\n",
    "        features = self.pool_type(self.backbone.extract_features(x), 1)\n",
    "        features = features.view(x.size(0), -1)\n",
    "        return self.classifier(features)"
   ]
  },
  {
   "cell_type": "markdown",
   "metadata": {},
   "source": [
    "### Turning our Melanoma Skin Cancer Gradio App into a Python Script (`app.py`)\n"
   ]
  },
  {
   "cell_type": "code",
   "execution_count": 8,
   "metadata": {},
   "outputs": [
    {
     "name": "stdout",
     "output_type": "stream",
     "text": [
      "Writing melanoma_skin_cancer_files/app.py\n"
     ]
    }
   ],
   "source": [
    "%%writefile melanoma_skin_cancer_files/app.py\n",
    "## Importing Libraries\n",
    "import os\n",
    "import torch\n",
    "import numpy as np\n",
    "import gradio as gr\n",
    "from model import Model\n",
    "import albumentations as A\n",
    "\n",
    "## Creating a model instance\n",
    "efficientnet_b5_model =  Model()\n",
    "efficientnet_b5_model = torch.nn.DataParallel(efficientnet_b5_model) ## Must wrap our model in nn.DataParallel()\n",
    "    ## if used multi-gpu's to train the model otherwise we would get state_dict keys mismatch error.\n",
    "efficientnet_b5_model.load_state_dict(\n",
    "    torch.load(\n",
    "        f='efficientnet_b5_checkpoint_fold_0.pt',\n",
    "        map_location=torch.device(\"cpu\")\n",
    "    )\n",
    ")\n",
    "\n",
    "## Predict on a single image\n",
    "def predict_on_single_image(img):\n",
    "    \"\"\"\n",
    "    Function takes an image, transforms for \n",
    "    model training like normalizing the statistics\n",
    "    of the image. Converting the numpy array into\n",
    "    torch tensor and passing through the model\n",
    "    to get the prediction probability of a patient\n",
    "    having melanoma. \n",
    "    \"\"\"\n",
    "    img = np.array(img)\n",
    "    transforms = A.Compose([A.Resize(512,512),\n",
    "        A.Normalize(mean=(0.485, 0.456, 0.406), \n",
    "                    std=(0.229, 0.224, 0.225), \n",
    "                    max_pixel_value=255.0, \n",
    "                    always_apply=True\n",
    "        )]\n",
    "    )\n",
    "    img = transforms(image=img)['image']\n",
    "    image = np.transpose(img, (2, 0, 1)).astype(np.float32)\n",
    "    image = torch.tensor(image, dtype=torch.float).unsqueeze(dim=0)\n",
    "    efficientnet_b5_model.eval()\n",
    "    with torch.inference_mode():\n",
    "        probs = torch.sigmoid(efficientnet_b5_model(image))\n",
    "        prob_of_melanoma = probs[0].item()\n",
    "        prob_of_not_having_melanoma = 1 - prob_of_melanoma\n",
    "        pred_label = {\"Probability of Having Melanoma\": prob_of_melanoma, \n",
    "                      \"Probability of Not having Melanoma\": prob_of_not_having_melanoma} \n",
    "        return pred_label\n",
    "    \n",
    "## Gradio App\n",
    "import gradio as gr\n",
    "\n",
    "## Examples directory path\n",
    "melanoma_app_examples_path = \"examples\"\n",
    "\n",
    "## Creating the title and description strings  \n",
    "title = \"Melanoma Cancer Detection App\"\n",
    "description = 'An efficientnet-b5 model that predicts the probability of a patient having melanoma skin cancer or not.'\n",
    "example_list = [[\"examples/\" + example] for example in os.listdir(melanoma_app_examples_path)]\n",
    "\n",
    "## Create the Gradio demo\n",
    "demo = gr.Interface(fn=predict_on_single_image,\n",
    "                   inputs=gr.Image(type='pil'),\n",
    "                   outputs=[gr.Label(label='Probabilities')],\n",
    "                   examples=example_list, title=title,\n",
    "                   description=description)\n",
    "\n",
    "## Launch the demo!\n",
    "demo.launch(debug=False, share=True)"
   ]
  },
  {
   "cell_type": "markdown",
   "metadata": {},
   "source": [
    "### Creating a requirements.txt file for our Gradio App(`requirements.txt`)\n",
    "This is the last file we need to create for our application.\n",
    "\n",
    "This file contains all the necessary packages for our Gradio application.\n",
    "\n",
    "When we deploy our demo app to HuggingFace Spaces, it will search through this file and install the dependencies we mention so our appication can run.\n",
    "\n",
    "1. `torch==1.13.0`\n",
    "2. `torchvision==0.14.0`\n",
    "3. `albumentations==1.2.1`\n",
    "4. `efficientnet_pytorch==0.7.1`\n",
    "5. `Pillow==8.4.0`\n",
    "6. `numpy==1.22.4`\n",
    "7. `gradio==3.1.4`"
   ]
  },
  {
   "cell_type": "code",
   "execution_count": 9,
   "metadata": {},
   "outputs": [
    {
     "name": "stdout",
     "output_type": "stream",
     "text": [
      "Writing melanoma_skin_cancer_files/requirements.txt\n"
     ]
    }
   ],
   "source": [
    "%%writefile melanoma_skin_cancer_files/requirements.txt\n",
    "torch==1.13.0\n",
    "torchvision==0.14.0\n",
    "albumentations==1.2.1\n",
    "efficientnet_pytorch==0.7.1\n",
    "Pillow==8.4.0\n",
    "numpy==1.22.4\n",
    "gradio==3.1.4"
   ]
  },
  {
   "cell_type": "markdown",
   "metadata": {},
   "source": [
    "## Deploying our Application to HuggingFace Spaces\n",
    "To deploy our demo, there are 2 main options for uploading to HuggingFace Spaces\n",
    "\n",
    "1. [Uploading via the Hugging Face Web Interface (easiest)](https://huggingface.co/docs/hub/repositories-getting-started#adding-files-to-a-repository-web-ui)\n",
    "2. [Uploading via the command line or terminal](https://huggingface.co/docs/hub/repositories-getting-started#terminal)\n",
    "\n",
    "NOTE: To host any application on HuggingFace, we first need to [sign up for a free HuggingFace Account](https://huggingface.co/join)\n",
    "\n",
    "### Running our Application locally\n",
    "\n",
    "1. Open the terminal or command prompt.\n",
    "2. Changing the `melanoma_skin_cancer_files` directory (cd melanoma_skin_cancer_files).\n",
    "3. Creating an environment `(python3 -m venv env)` or use `(python -m venv env)`.\n",
    "4. Activating the environment `(source env/Scripts/activate)`.\n",
    "5. Installing the `requirements.txt` using `pip install -r requirements.txt`.\n",
    "> If faced any errors, we might need to upgrade `pip` using `pip install --upgrade pip`.  \n",
    "6. Run the app `(python3 app.py).`\n",
    "\n",
    "This should results in a Gradio demo locally at the URL such as : `http://127.0.0.1:7860/`. "
   ]
  },
  {
   "cell_type": "markdown",
   "metadata": {},
   "source": [
    "### Uploading to Hugging Face\n",
    "We've verified our Melanoma_skin_cancer detection application is working in our local system.\n",
    "\n",
    "To upload our application to Hugging Face Spaces, we need to do the following.\n",
    "\n",
    "1. [Sign up](https://huggingface.co/welcome) for a Hugging Face account.\n",
    "2. Start a new Hugging Face Space by going to our profile at the top right corner and then select [New Space](https://huggingface.co/new-space).\n",
    "3. Declare the name to the space like `Chirag1994/melanoma_skin_cancer_detection_app`.\n",
    "4. Select a license (I am using MIT license).\n",
    "5. Select Gradio as the Space SDK (software development kit).\n",
    "6. Choose whether your Space is Public or Private (I am keeping it Public).\n",
    "7. Click Create Space.\n",
    "8. Clone the repository locally by running: `git clone https://huggingface.co/spaces/[YOUR_USERNAME]/[YOUR_SPACE_NAME]` in the terminal or command prompt. In our case mine would be like - `git clone https://huggingface.co/spaces/Chirag1994/melanoma_skin_cancer_detection_app`.\n",
    "9. Copy/Move the contents of the downloaded `melanoma_skin_cancer_detection_app` folder to the cloned repo folder.\n",
    "10. To upload files and track larger files (e.g., files that are greater than 10MB) for them we need to [install Git LFS](https://git-lfs.github.com/) which stands for Git large File Storage.\n",
    "11. Open up the cloned directory using VS code (I'm using VS code), and use the terminal (git bash in my case) and after installing the git lfs, use the command `git lfs install` to start tracking the file that we want to track. For example - git lfs track `\"efficientnet_b5_checkpoint_fold_0.pt\"`.\n",
    "12. Create a new .gitignore file and the files & folders that we don't want git to track like :\n",
    "    - `__pycache__/`\n",
    "    - `.vscode/`\n",
    "    - `venv/`\n",
    "    - `.gitignore`\n",
    "    - `.gitattributes`\n",
    "13. Add the rest of the files and commit them with:\n",
    "    - `git add .`\n",
    "    - `git commit -m \"commit message that you want\"`\n",
    "14. Push(load) the files to Hugging Face\n",
    "    - `git push`\n",
    "15. It might a couple of minutes to finish and then the app will be up and running. "
   ]
  },
  {
   "cell_type": "markdown",
   "metadata": {},
   "source": [
    "## Our Final Application deployed on HuggingFace Spaces "
   ]
  },
  {
   "cell_type": "code",
   "execution_count": 1,
   "metadata": {},
   "outputs": [
    {
     "data": {
      "text/html": [
       "\n",
       "        <iframe\n",
       "            width=\"900\"\n",
       "            height=\"750\"\n",
       "            src=\"https://hf.space/embed/Chirag1994/Melanoma_Skin_Cancer_Detection_App/+\"\n",
       "            frameborder=\"0\"\n",
       "            allowfullscreen\n",
       "        ></iframe>\n",
       "        "
      ],
      "text/plain": [
       "<IPython.lib.display.IFrame at 0x1f7a7d6d760>"
      ]
     },
     "execution_count": 1,
     "metadata": {},
     "output_type": "execute_result"
    }
   ],
   "source": [
    "# IPython is a library to help make Python interactive\n",
    "from IPython.display import IFrame\n",
    "\n",
    "# Embed FoodVision Mini Gradio demo\n",
    "IFrame(src=\"https://hf.space/embed/Chirag1994/Melanoma_Skin_Cancer_Detection_App/+\", width=900, height=750)"
   ]
  }
 ],
 "metadata": {
  "kernelspec": {
   "display_name": "Python 3",
   "language": "python",
   "name": "python3"
  },
  "language_info": {
   "codemirror_mode": {
    "name": "ipython",
    "version": 3
   },
   "file_extension": ".py",
   "mimetype": "text/x-python",
   "name": "python",
   "nbconvert_exporter": "python",
   "pygments_lexer": "ipython3",
   "version": "3.8.8"
  }
 },
 "nbformat": 4,
 "nbformat_minor": 4
}
