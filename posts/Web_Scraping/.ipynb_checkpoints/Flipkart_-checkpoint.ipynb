{
 "cells": [
  {
   "cell_type": "raw",
   "metadata": {},
   "source": [
    "---\n",
    "title: \"Web Scraping using BeautifulSoup & Selenium in Python.\"\n",
    "description: \"In this post, we'll demonstrate how to scape data from flipkart using BeautifulSoup & Selenium using Python.\"\n",
    "date: \"2023-01-09\"\n",
    "categories: [Web Scrapping]\n",
    "toc: true\n",
    "code-fold: false\n",
    "execute: \n",
    "  message: false\n",
    "  warning: false\n",
    "editor_options: \n",
    "  chunk_output_type: console\n",
    "---"
   ]
  },
  {
   "cell_type": "markdown",
   "metadata": {},
   "source": [
    "## Introduction\n",
    "- Today, the Internet is flooded with an enormous amount of data relative to what we had a decade ago. According to Forbes, the amount of data we produce every day is truly mind-boggling. There are 2.5 quintillion bytes of data generated every day at our current pace, and the credit goes to the Internet of Things (IoT) devices. With access to this data, either in the form of audio, video, text, images, or any format, most businesses are relying heavily on data to beat their competitors & succeed in their business. Unfortunately, most of this data is not open. Most websites do not provide the option to save the data which they display on their websites. This is where Web Scraping tools/ Software comes to extract the data from the websites."
   ]
  },
  {
   "cell_type": "markdown",
   "metadata": {},
   "source": [
    "## What is Web Scraping? \n",
    "- Web Scraping is the process of automatically downloading the data displayed on the website using some computer program. A web scraping tool can scrape multiple pages from a website & automate the tedious task of manually copying and pasting the data displayed. Web Scraping is important because, irrespective of the industry,  the web contains information that can provide actionable insights for businesses to gain an advantage over competitors."
   ]
  },
  {
   "cell_type": "markdown",
   "metadata": {},
   "source": [
    "## To Fetch the data using Web Scraping using Python, we need to go through the following steps:\n",
    "- Find the URL that you want to scrape\n",
    "- Inspecting the Page\n",
    "- Find the data you want to extract\n",
    "- Write the code\n",
    "- Run the code & extract the data\n",
    "- Finally, Store the data in the required format"
   ]
  },
  {
   "cell_type": "markdown",
   "metadata": {},
   "source": [
    "## Packages used for Web Scraping\n",
    "- We'll use the following python packages:\n",
    "   - Pandas: Pandas is a library used for data manipulation and analysis. It is used to store the data in the desired format.\n",
    "   - BeautifulSoup4: BeautifulSoup is the python web scraping library used for parsing HTML documents. It creates parse trees that are helpful in extracting tags from the HTML string.\n",
    "   - Selenium: Selenium is a tool designed to help you run automated tests in web applications. Although it's not its main purpose, Selenium is also used in Python for web scraping, because it can access JavaScript-rendered content (which regular scraping tools like BeautifulSoup can't do). We'll use Selenium to download the HTML content from Flipkart and see in an interactive way what's happening."
   ]
  },
  {
   "cell_type": "markdown",
   "metadata": {},
   "source": [
    "## Project Demonstration"
   ]
  },
  {
   "cell_type": "markdown",
   "metadata": {},
   "source": [
    "### Importing necessary Libraries"
   ]
  },
  {
   "cell_type": "code",
   "execution_count": 1,
   "metadata": {
    "collapsed": true,
    "jupyter": {
     "outputs_hidden": true
    }
   },
   "outputs": [],
   "source": [
    "import csv\n",
    "from bs4 import BeautifulSoup\n",
    "from selenium import webdriver\n",
    "import pandas as pd"
   ]
  },
  {
   "cell_type": "markdown",
   "metadata": {},
   "source": [
    "### Starting up the WebDriver"
   ]
  },
  {
   "cell_type": "code",
   "execution_count": 2,
   "metadata": {
    "collapsed": true,
    "jupyter": {
     "outputs_hidden": true
    }
   },
   "outputs": [],
   "source": [
    "# Creating an instance of webdriver for google chrome\n",
    "driver = webdriver.Chrome()"
   ]
  },
  {
   "cell_type": "code",
   "execution_count": 3,
   "metadata": {
    "collapsed": true,
    "jupyter": {
     "outputs_hidden": true
    }
   },
   "outputs": [],
   "source": [
    "# Using webdriver we'll now open the flipkart website in chrome\n",
    "url = 'https://flipkart.com'\n",
    "# We;ll use the get method of driver and pass in the URL\n",
    "driver.get(url)"
   ]
  },
  {
   "cell_type": "markdown",
   "metadata": {},
   "source": [
    "- Now there a few ways we can conduct a product search :\n",
    "   - A) First is to automate the browser by finding the input element and then insert a text and hit enter key on the keyboard. The image like below."
   ]
  },
  {
   "cell_type": "markdown",
   "metadata": {},
   "source": [
    "![](https://imgur.com/eWdEOk8.png)"
   ]
  },
  {
   "cell_type": "markdown",
   "metadata": {},
   "source": [
    "- However, this kind of automation is unnecessary and it creates a potential for program failure. The Rule of thumb for automation is to only automate what you absolutely need to when Web Scraping. "
   ]
  },
  {
   "cell_type": "markdown",
   "metadata": {},
   "source": [
    "- B) Let's search the input inside the search area and hit enter. You'll notice that the search term has now embeded into the URL site. Now we can use this pattern to create a function that will build the necessary URL for our driver to retrieve. This will be much more efficient in the long term and less prone to proram failure. The image like below."
   ]
  },
  {
   "cell_type": "markdown",
   "metadata": {},
   "source": [
    "![](https://imgur.com/79tSPGV.png)"
   ]
  },
  {
   "cell_type": "markdown",
   "metadata": {},
   "source": [
    "- Let's copy this Pattern and create a function that will insert the search term using string formatting."
   ]
  },
  {
   "cell_type": "code",
   "execution_count": 4,
   "metadata": {
    "collapsed": true,
    "jupyter": {
     "outputs_hidden": true
    }
   },
   "outputs": [],
   "source": [
    "def get_url(search_item):\n",
    "    '''\n",
    "    This function fetches the URL of the item that you want to search\n",
    "    '''\n",
    "    template = 'https://www.flipkart.com/search?q={}&as=on&as-show=on&otracker=AS_Query_HistoryAutoSuggest_1_4_na_na_na&otracker1=AS_Query_HistoryAutoSuggest_1_4_na_na_na&as-pos=1&as-type=HISTORY&suggestionId=mobile+phones&requestId=e625b409-ca2a-456a-b53c-0fdb7618b658&as-backfill=on'\n",
    "    # We'are replacing every space with '+' to adhere with the pattern \n",
    "    search_item = search_item.replace(\" \",\"+\")\n",
    "    return template.format(search_item)"
   ]
  },
  {
   "cell_type": "markdown",
   "metadata": {},
   "source": [
    "- Now we have a function that will generate a URL based on the search term we provide."
   ]
  },
  {
   "cell_type": "code",
   "execution_count": 5,
   "metadata": {},
   "outputs": [
    {
     "name": "stdout",
     "output_type": "stream",
     "text": [
      "https://www.flipkart.com/search?q=mobile+phones&as=on&as-show=on&otracker=AS_Query_HistoryAutoSuggest_1_4_na_na_na&otracker1=AS_Query_HistoryAutoSuggest_1_4_na_na_na&as-pos=1&as-type=HISTORY&suggestionId=mobile+phones&requestId=e625b409-ca2a-456a-b53c-0fdb7618b658&as-backfill=on\n"
     ]
    }
   ],
   "source": [
    "# Checking whether the function is working properly or not\n",
    "url = get_url('mobile phones')\n",
    "print(url)"
   ]
  },
  {
   "cell_type": "markdown",
   "metadata": {},
   "source": [
    "- The fuction produces the same result as before."
   ]
  },
  {
   "cell_type": "markdown",
   "metadata": {},
   "source": [
    "### Extracting the collection\n",
    "- Now we are going to extract the contents of the webpage from which we want to extract the information from.\n",
    "- To do that we need to create a BeautifulSoup object which will parse the HTML content from the page source."
   ]
  },
  {
   "cell_type": "code",
   "execution_count": 17,
   "metadata": {
    "collapsed": true,
    "jupyter": {
     "outputs_hidden": true
    }
   },
   "outputs": [],
   "source": [
    "# Creating a soup object using driver.page_source to retreive the HTML text and then we'll use the default html parser to parse\n",
    "# the HTML.\n",
    "soup = BeautifulSoup(driver.page_source, 'html.parser')"
   ]
  },
  {
   "cell_type": "markdown",
   "metadata": {},
   "source": [
    "![](https://imgur.com/PR7ZWht.png)"
   ]
  },
  {
   "cell_type": "markdown",
   "metadata": {},
   "source": [
    "- Now that we have identified that the above card indicated by the box contains all the information what we need for a mobile phone. So let's find out all the tags for these boxes/cards which contains information we want to extract. \n",
    "- We'll be extracting Model , stars, number of ratings, number of reviews, RAM, Storage capacity, Exapandable option, display, camera information, battery, processor , warranty and Price information."
   ]
  },
  {
   "cell_type": "markdown",
   "metadata": {},
   "source": [
    "## Inspecting the tags"
   ]
  },
  {
   "cell_type": "markdown",
   "metadata": {},
   "source": [
    "![](https://imgur.com/ug5Ft6R.png)"
   ]
  },
  {
   "cell_type": "markdown",
   "metadata": {},
   "source": [
    "- We can fetch the `a tag & specifically `class = _1fQZEK to get all the cards/boxes and then we can easily take out information of out these boxes for any mobile phone."
   ]
  },
  {
   "cell_type": "code",
   "execution_count": 19,
   "metadata": {},
   "outputs": [
    {
     "data": {
      "text/plain": [
       "24"
      ]
     },
     "execution_count": 19,
     "metadata": {},
     "output_type": "execute_result"
    }
   ],
   "source": [
    "results = soup.find_all('a',{'class':\"_1fQZEK\"})\n",
    "len(results)"
   ]
  },
  {
   "cell_type": "markdown",
   "metadata": {},
   "source": [
    "### Prototyping for a single record"
   ]
  },
  {
   "cell_type": "code",
   "execution_count": null,
   "metadata": {
    "collapsed": true,
    "jupyter": {
     "outputs_hidden": true
    }
   },
   "outputs": [],
   "source": [
    "# picking the 1st card from the complete list of cards\n",
    "item = results[0]"
   ]
  },
  {
   "cell_type": "code",
   "execution_count": 21,
   "metadata": {},
   "outputs": [
    {
     "data": {
      "text/plain": [
       "'REDMI 9i (Nature Green, 64 GB)'"
      ]
     },
     "execution_count": 21,
     "metadata": {},
     "output_type": "execute_result"
    }
   ],
   "source": [
    "# Extracting the model of the phone from the 1st card\n",
    "model = item.find('div',{'class':\"_4rR01T\"}).text\n",
    "model"
   ]
  },
  {
   "cell_type": "code",
   "execution_count": 22,
   "metadata": {},
   "outputs": [
    {
     "data": {
      "text/plain": [
       "'4.3'"
      ]
     },
     "execution_count": 22,
     "metadata": {},
     "output_type": "execute_result"
    }
   ],
   "source": [
    "# Extracting Stars from 1st card\n",
    "star = item.find('div',{'class':\"_3LWZlK\"}).text\n",
    "star"
   ]
  },
  {
   "cell_type": "code",
   "execution_count": 23,
   "metadata": {},
   "outputs": [
    {
     "data": {
      "text/plain": [
       "'4,06,452 Ratings'"
      ]
     },
     "execution_count": 23,
     "metadata": {},
     "output_type": "execute_result"
    }
   ],
   "source": [
    "# Extracting Number of Ratings from 1st card\n",
    "num_ratings = item.find('span',{'class':\"_2_R_DZ\"}).text.replace('\\xa0&\\xa0',\" ; \")[0:item.find('span',{'class':\"_2_R_DZ\"}).text.replace('\\xa0&\\xa0',\" ; \").find(';')].strip()\n",
    "num_ratings"
   ]
  },
  {
   "cell_type": "code",
   "execution_count": 24,
   "metadata": {},
   "outputs": [
    {
     "data": {
      "text/plain": [
       "'23,336 Reviews'"
      ]
     },
     "execution_count": 24,
     "metadata": {},
     "output_type": "execute_result"
    }
   ],
   "source": [
    "# Extracting Number of Reviews from 1st card\n",
    "reviews = item.find('span',{'class':\"_2_R_DZ\"}).text.replace('\\xa0&\\xa0',\" ; \")[item.find('span',{'class':\"_2_R_DZ\"}).text.replace('\\xa0&\\xa0',\" ; \").find(';')+1:].strip()\n",
    "reviews"
   ]
  },
  {
   "cell_type": "code",
   "execution_count": 25,
   "metadata": {},
   "outputs": [
    {
     "data": {
      "text/plain": [
       "'4 GB RAM '"
      ]
     },
     "execution_count": 25,
     "metadata": {},
     "output_type": "execute_result"
    }
   ],
   "source": [
    "# Extracting RAM from the 1st card\n",
    "ram = item.find('li',{'class':\"rgWa7D\"}).text[0:item.find('li',{'class':\"rgWa7D\"}).text.find('|')]\n",
    "ram"
   ]
  },
  {
   "cell_type": "code",
   "execution_count": 26,
   "metadata": {},
   "outputs": [
    {
     "data": {
      "text/plain": [
       "'64 GB ROM'"
      ]
     },
     "execution_count": 26,
     "metadata": {},
     "output_type": "execute_result"
    }
   ],
   "source": [
    "# Extracting Storage/ROM from 1st card\n",
    "storage = item.find('li',{'class':\"rgWa7D\"}).text[item.find('li',{'class':\"rgWa7D\"}).text.find('|')+1:][0:10].strip()\n",
    "storage"
   ]
  },
  {
   "cell_type": "code",
   "execution_count": 27,
   "metadata": {},
   "outputs": [
    {
     "data": {
      "text/plain": [
       "'Expandable Upto 512 GB'"
      ]
     },
     "execution_count": 27,
     "metadata": {},
     "output_type": "execute_result"
    }
   ],
   "source": [
    "# Extracting whether there is an option of expanding the storage or not\n",
    "expandable = item.find('li',{'class':\"rgWa7D\"}).text[item.find('li',{'class':\"rgWa7D\"}).text.find('|')+1:][13:]\n",
    "expandable"
   ]
  },
  {
   "cell_type": "code",
   "execution_count": 28,
   "metadata": {},
   "outputs": [
    {
     "data": {
      "text/plain": [
       "'16.59 cm (6.53 inch) HD+ Display'"
      ]
     },
     "execution_count": 28,
     "metadata": {},
     "output_type": "execute_result"
    }
   ],
   "source": [
    "# Extracting the display option from the 1st card\n",
    "display = item.find_all('li')[1].text.strip()\n",
    "display"
   ]
  },
  {
   "cell_type": "code",
   "execution_count": 29,
   "metadata": {},
   "outputs": [
    {
     "data": {
      "text/plain": [
       "'13MP Rear Camera | 5MP Front Camera'"
      ]
     },
     "execution_count": 29,
     "metadata": {},
     "output_type": "execute_result"
    }
   ],
   "source": [
    "# Extracting camera options from the 1st card\n",
    "camera = item.find_all('li')[2].text.strip()\n",
    "camera"
   ]
  },
  {
   "cell_type": "code",
   "execution_count": 30,
   "metadata": {},
   "outputs": [
    {
     "data": {
      "text/plain": [
       "'5000 mAh Lithium Polymer Battery'"
      ]
     },
     "execution_count": 30,
     "metadata": {},
     "output_type": "execute_result"
    }
   ],
   "source": [
    "# Extracting the battery option from the 1st card\n",
    "battery = item.find_all('li')[3].text\n",
    "battery"
   ]
  },
  {
   "cell_type": "code",
   "execution_count": 31,
   "metadata": {},
   "outputs": [
    {
     "data": {
      "text/plain": [
       "'MediaTek Helio G25 Processor'"
      ]
     },
     "execution_count": 31,
     "metadata": {},
     "output_type": "execute_result"
    }
   ],
   "source": [
    "# Extracting the processir option from the 1st card\n",
    "processor = item.find_all('li')[4].text.strip()\n",
    "processor"
   ]
  },
  {
   "cell_type": "code",
   "execution_count": 32,
   "metadata": {},
   "outputs": [
    {
     "data": {
      "text/plain": [
       "'Brand Warranty of 1 Year Available for Mobile and 6 Months for Accessories'"
      ]
     },
     "execution_count": 32,
     "metadata": {},
     "output_type": "execute_result"
    }
   ],
   "source": [
    "# Extracting Warranty from the 1st card\n",
    "warranty = item.find_all('li')[-1].text.strip()\n",
    "warranty"
   ]
  },
  {
   "cell_type": "code",
   "execution_count": 33,
   "metadata": {
    "collapsed": true,
    "jupyter": {
     "outputs_hidden": true
    }
   },
   "outputs": [],
   "source": [
    "# Extracting price of the model from the 1st card\n",
    "price = item.find('div',{'class':'_30jeq3 _1_WHN1'}).text"
   ]
  },
  {
   "cell_type": "markdown",
   "metadata": {},
   "source": [
    "### Generalizing the Pattern"
   ]
  },
  {
   "cell_type": "markdown",
   "metadata": {},
   "source": [
    "- Now let create a function that will extract all the information at once from a single page."
   ]
  },
  {
   "cell_type": "code",
   "execution_count": 34,
   "metadata": {
    "collapsed": true,
    "jupyter": {
     "outputs_hidden": true
    }
   },
   "outputs": [],
   "source": [
    "def extract_phone_model_info(item):\n",
    "    \"\"\"\n",
    "    This function extracts model, price, ram, storage, stars , number of ratings, number of reviews, \n",
    "    storage expandable option, display option, camera quality, battery , processor, warranty of a phone model at flipkart\n",
    "    \"\"\"\n",
    "    # Extracting the model of the phone from the 1st card\n",
    "    model = item.find('div',{'class':\"_4rR01T\"}).text\n",
    "    # Extracting Stars from 1st card\n",
    "    star = item.find('div',{'class':\"_3LWZlK\"}).text\n",
    "    # Extracting Number of Ratings from 1st card\n",
    "    num_ratings = item.find('span',{'class':\"_2_R_DZ\"}).text.replace('\\xa0&\\xa0',\" ; \")[0:item.find('span',{'class':\"_2_R_DZ\"}).text.replace('\\xa0&\\xa0',\" ; \").find(';')].strip()\n",
    "    # Extracting Number of Reviews from 1st card\n",
    "    reviews = item.find('span',{'class':\"_2_R_DZ\"}).text.replace('\\xa0&\\xa0',\" ; \")[item.find('span',{'class':\"_2_R_DZ\"}).text.replace('\\xa0&\\xa0',\" ; \").find(';')+1:].strip()\n",
    "    # Extracting RAM from the 1st card\n",
    "    ram = item.find('li',{'class':\"rgWa7D\"}).text[0:item.find('li',{'class':\"rgWa7D\"}).text.find('|')]\n",
    "    # Extracting Storage/ROM from 1st card\n",
    "    storage = item.find('li',{'class':\"rgWa7D\"}).text[item.find('li',{'class':\"rgWa7D\"}).text.find('|')+1:][0:10].strip()\n",
    "    # Extracting whether there is an option of expanding the storage or not\n",
    "    expandable = item.find('li',{'class':\"rgWa7D\"}).text[item.find('li',{'class':\"rgWa7D\"}).text.find('|')+1:][13:]\n",
    "    # Extracting the display option from the 1st card\n",
    "    display = item.find_all('li')[1].text.strip()\n",
    "    # Extracting camera options from the 1st card\n",
    "    camera = item.find_all('li')[2].text.strip()\n",
    "    # Extracting the battery option from the 1st card\n",
    "    battery = item.find_all('li')[3].text\n",
    "    # Extracting the processir option from the 1st card\n",
    "    processor = item.find_all('li')[4].text.strip()\n",
    "    # Extracting Warranty from the 1st card\n",
    "    warranty = item.find_all('li')[-1].text.strip()\n",
    "    # Extracting price of the model from the 1st card\n",
    "    price = item.find('div',{'class':'_30jeq3 _1_WHN1'}).text\n",
    "    result = (model,star,num_ratings,reviews,ram,storage,expandable,display,camera,battery,processor,warranty,price)\n",
    "    return result"
   ]
  },
  {
   "cell_type": "code",
   "execution_count": 35,
   "metadata": {
    "collapsed": true,
    "jupyter": {
     "outputs_hidden": true
    }
   },
   "outputs": [],
   "source": [
    "# Now putting all the information from all the cards/phone models and putting them into a list\n",
    "records_list = []\n",
    "results = soup.find_all('a',{'class':\"_1fQZEK\"})\n",
    "for item in results:\n",
    "    records_list.append(extract_phone_model_info(item))"
   ]
  },
  {
   "cell_type": "markdown",
   "metadata": {},
   "source": [
    "- Viewing how does our dataframe look like for the 1st page."
   ]
  },
  {
   "cell_type": "code",
   "execution_count": 36,
   "metadata": {},
   "outputs": [
    {
     "data": {
      "text/html": [
       "<div>\n",
       "<style scoped>\n",
       "    .dataframe tbody tr th:only-of-type {\n",
       "        vertical-align: middle;\n",
       "    }\n",
       "\n",
       "    .dataframe tbody tr th {\n",
       "        vertical-align: top;\n",
       "    }\n",
       "\n",
       "    .dataframe thead th {\n",
       "        text-align: right;\n",
       "    }\n",
       "</style>\n",
       "<table border=\"1\" class=\"dataframe\">\n",
       "  <thead>\n",
       "    <tr style=\"text-align: right;\">\n",
       "      <th></th>\n",
       "      <th>model</th>\n",
       "      <th>star</th>\n",
       "      <th>num_ratings</th>\n",
       "      <th>reviews</th>\n",
       "      <th>ram</th>\n",
       "      <th>storage</th>\n",
       "      <th>expandable</th>\n",
       "      <th>display</th>\n",
       "      <th>camera</th>\n",
       "      <th>battery</th>\n",
       "      <th>processor</th>\n",
       "      <th>warranty</th>\n",
       "      <th>price</th>\n",
       "    </tr>\n",
       "  </thead>\n",
       "  <tbody>\n",
       "    <tr>\n",
       "      <th>0</th>\n",
       "      <td>REDMI 9i (Nature Green, 64 GB)</td>\n",
       "      <td>4.3</td>\n",
       "      <td>4,06,452 Ratings</td>\n",
       "      <td>23,336 Reviews</td>\n",
       "      <td>4 GB RAM</td>\n",
       "      <td>64 GB ROM</td>\n",
       "      <td>Expandable Upto 512 GB</td>\n",
       "      <td>16.59 cm (6.53 inch) HD+ Display</td>\n",
       "      <td>13MP Rear Camera | 5MP Front Camera</td>\n",
       "      <td>5000 mAh Lithium Polymer Battery</td>\n",
       "      <td>MediaTek Helio G25 Processor</td>\n",
       "      <td>Brand Warranty of 1 Year Available for Mobile ...</td>\n",
       "      <td>₹8,499</td>\n",
       "    </tr>\n",
       "    <tr>\n",
       "      <th>1</th>\n",
       "      <td>realme C21 (Cross Blue, 64 GB)</td>\n",
       "      <td>4.4</td>\n",
       "      <td>63,273 Ratings</td>\n",
       "      <td>2,912 Reviews</td>\n",
       "      <td>4 GB RAM</td>\n",
       "      <td>64 GB ROM</td>\n",
       "      <td>Expandable Upto 256 GB</td>\n",
       "      <td>16.51 cm (6.5 inch) HD+ Display</td>\n",
       "      <td>13MP + 2MP + 2MP | 5MP Front Camera</td>\n",
       "      <td>5000 mAh Battery</td>\n",
       "      <td>MediaTek Helio G35 Processor</td>\n",
       "      <td>1 Year Warranty for Mobile and 6 Months for Ac...</td>\n",
       "      <td>₹9,499</td>\n",
       "    </tr>\n",
       "    <tr>\n",
       "      <th>2</th>\n",
       "      <td>realme C21 (Cross Black, 64 GB)</td>\n",
       "      <td>4.4</td>\n",
       "      <td>63,273 Ratings</td>\n",
       "      <td>2,912 Reviews</td>\n",
       "      <td>4 GB RAM</td>\n",
       "      <td>64 GB ROM</td>\n",
       "      <td>Expandable Upto 256 GB</td>\n",
       "      <td>16.51 cm (6.5 inch) HD+ Display</td>\n",
       "      <td>13MP + 2MP + 2MP | 5MP Front Camera</td>\n",
       "      <td>5000 mAh Battery</td>\n",
       "      <td>MediaTek Helio G35 Processor</td>\n",
       "      <td>1 Year Warranty for Mobile and 6 Months for Ac...</td>\n",
       "      <td>₹9,499</td>\n",
       "    </tr>\n",
       "    <tr>\n",
       "      <th>3</th>\n",
       "      <td>realme C21 (Cross Black, 32 GB)</td>\n",
       "      <td>4.4</td>\n",
       "      <td>51,035 Ratings</td>\n",
       "      <td>2,564 Reviews</td>\n",
       "      <td>3 GB RAM</td>\n",
       "      <td>32 GB ROM</td>\n",
       "      <td>Expandable Upto 256 GB</td>\n",
       "      <td>16.51 cm (6.5 inch) HD+ Display</td>\n",
       "      <td>13MP + 2MP + 2MP | 5MP Front Camera</td>\n",
       "      <td>5000 mAh Battery</td>\n",
       "      <td>MediaTek Helio G35 Processor</td>\n",
       "      <td>1 Year Warranty for Mobile and 6 Months for Ac...</td>\n",
       "      <td>₹8,499</td>\n",
       "    </tr>\n",
       "    <tr>\n",
       "      <th>4</th>\n",
       "      <td>realme C21 (Cross Blue, 32 GB)</td>\n",
       "      <td>4.4</td>\n",
       "      <td>51,035 Ratings</td>\n",
       "      <td>2,564 Reviews</td>\n",
       "      <td>3 GB RAM</td>\n",
       "      <td>32 GB ROM</td>\n",
       "      <td>Expandable Upto 256 GB</td>\n",
       "      <td>16.51 cm (6.5 inch) HD+ Display</td>\n",
       "      <td>13MP + 2MP + 2MP | 5MP Front Camera</td>\n",
       "      <td>5000 mAh Battery</td>\n",
       "      <td>MediaTek Helio G35 Processor</td>\n",
       "      <td>1 Year Warranty for Mobile and 6 Months for Ac...</td>\n",
       "      <td>₹8,499</td>\n",
       "    </tr>\n",
       "    <tr>\n",
       "      <th>5</th>\n",
       "      <td>REDMI 9 Power (Mighty Black, 64 GB)</td>\n",
       "      <td>4.3</td>\n",
       "      <td>1,30,038 Ratings</td>\n",
       "      <td>9,051 Reviews</td>\n",
       "      <td>4 GB RAM</td>\n",
       "      <td>64 GB ROM</td>\n",
       "      <td></td>\n",
       "      <td>16.59 cm (6.53 inch) Full HD+ Display</td>\n",
       "      <td>48MP + 8MP + 2MP + 2MP | 8MP Front Camera</td>\n",
       "      <td>6000 mAh Battery</td>\n",
       "      <td>Qualcomm Snapdragon 662 Processor</td>\n",
       "      <td>1 year manufacturer warranty for device and 6 ...</td>\n",
       "      <td>₹10,999</td>\n",
       "    </tr>\n",
       "    <tr>\n",
       "      <th>6</th>\n",
       "      <td>POCO M3 (Cool Blue, 64 GB)</td>\n",
       "      <td>4.3</td>\n",
       "      <td>14,630 Ratings</td>\n",
       "      <td>930 Reviews</td>\n",
       "      <td>4 GB RAM</td>\n",
       "      <td>64 GB ROM</td>\n",
       "      <td>Expandable Upto 512 GB</td>\n",
       "      <td>16.59 cm (6.53 inch) Full HD+ Display</td>\n",
       "      <td>48MP + 2MP + 2MP | 8MP Front Camera</td>\n",
       "      <td>6000 mAh Lithium-ion Polymer Battery</td>\n",
       "      <td>Qualcomm Snapdragon 662 Processor</td>\n",
       "      <td>One Year Warranty for Handset, 6 Months for Ac...</td>\n",
       "      <td>₹10,499</td>\n",
       "    </tr>\n",
       "    <tr>\n",
       "      <th>7</th>\n",
       "      <td>POCO M2 Reloaded (Mostly Blue, 64 GB)</td>\n",
       "      <td>4.3</td>\n",
       "      <td>20,010 Ratings</td>\n",
       "      <td>1,315 Reviews</td>\n",
       "      <td>4 GB RAM</td>\n",
       "      <td>64 GB ROM</td>\n",
       "      <td>Expandable Upto 512 GB</td>\n",
       "      <td>16.59 cm (6.53 inch) Full HD+ Display</td>\n",
       "      <td>13MP + 8MP + 5MP + 2MP | 8MP Front Camera</td>\n",
       "      <td>5000 mAh Lithium Polymer Battery</td>\n",
       "      <td>MediaTek Helio G80 Processor</td>\n",
       "      <td>1 Year for Handset, 6 Months for Accessories</td>\n",
       "      <td>₹9,999</td>\n",
       "    </tr>\n",
       "    <tr>\n",
       "      <th>8</th>\n",
       "      <td>realme C11 2021 (Cool Grey, 32 GB)</td>\n",
       "      <td>4.3</td>\n",
       "      <td>3,584 Ratings</td>\n",
       "      <td>197 Reviews</td>\n",
       "      <td>2 GB RAM</td>\n",
       "      <td>32 GB ROM</td>\n",
       "      <td>Expandable Upto 256 GB</td>\n",
       "      <td>16.51 cm (6.5 inch) HD+ Display</td>\n",
       "      <td>8MP Rear Camera | 5MP Front Camera</td>\n",
       "      <td>5000 mAh Battery</td>\n",
       "      <td>Octa-core Processor</td>\n",
       "      <td>1 Year Warranty for Mobile and 6 Months for Ac...</td>\n",
       "      <td>₹6,999</td>\n",
       "    </tr>\n",
       "    <tr>\n",
       "      <th>9</th>\n",
       "      <td>realme C11 2021 (Cool Blue, 32 GB)</td>\n",
       "      <td>4.3</td>\n",
       "      <td>3,584 Ratings</td>\n",
       "      <td>197 Reviews</td>\n",
       "      <td>2 GB RAM</td>\n",
       "      <td>32 GB ROM</td>\n",
       "      <td>Expandable Upto 256 GB</td>\n",
       "      <td>16.51 cm (6.5 inch) HD+ Display</td>\n",
       "      <td>8MP Rear Camera | 5MP Front Camera</td>\n",
       "      <td>5000 mAh Battery</td>\n",
       "      <td>Octa-core Processor</td>\n",
       "      <td>1 Year Warranty for Mobile and 6 Months for Ac...</td>\n",
       "      <td>₹6,999</td>\n",
       "    </tr>\n",
       "    <tr>\n",
       "      <th>10</th>\n",
       "      <td>REDMI 9 Power (Fiery Red, 64 GB)</td>\n",
       "      <td>4.3</td>\n",
       "      <td>1,30,038 Ratings</td>\n",
       "      <td>9,051 Reviews</td>\n",
       "      <td>4 GB RAM</td>\n",
       "      <td>64 GB ROM</td>\n",
       "      <td></td>\n",
       "      <td>16.59 cm (6.53 inch) Full HD+ Display</td>\n",
       "      <td>48MP + 8MP + 2MP + 2MP | 8MP Front Camera</td>\n",
       "      <td>6000 mAh Battery</td>\n",
       "      <td>Qualcomm Snapdragon 662 Processor</td>\n",
       "      <td>1 year manufacturer warranty for device and 6 ...</td>\n",
       "      <td>₹10,999</td>\n",
       "    </tr>\n",
       "    <tr>\n",
       "      <th>11</th>\n",
       "      <td>REDMI 9i (Midnight Black, 64 GB)</td>\n",
       "      <td>4.3</td>\n",
       "      <td>4,06,452 Ratings</td>\n",
       "      <td>23,336 Reviews</td>\n",
       "      <td>4 GB RAM</td>\n",
       "      <td>64 GB ROM</td>\n",
       "      <td>Expandable Upto 512 GB</td>\n",
       "      <td>16.59 cm (6.53 inch) HD+ Display</td>\n",
       "      <td>13MP Rear Camera | 5MP Front Camera</td>\n",
       "      <td>5000 mAh Lithium Polymer Battery</td>\n",
       "      <td>MediaTek Helio G25 Processor</td>\n",
       "      <td>Brand Warranty of 1 Year Available for Mobile ...</td>\n",
       "      <td>₹8,499</td>\n",
       "    </tr>\n",
       "    <tr>\n",
       "      <th>12</th>\n",
       "      <td>Infinix Smart 5A (Quetzal Cyan, 32 GB)</td>\n",
       "      <td>4.5</td>\n",
       "      <td>3,546 Ratings</td>\n",
       "      <td>244 Reviews</td>\n",
       "      <td>2 GB RAM</td>\n",
       "      <td>32 GB ROM</td>\n",
       "      <td>Expandable Upto 256 GB</td>\n",
       "      <td>16.56 cm (6.52 inch) HD+ Display</td>\n",
       "      <td>8MP + Depth Sensor | 8MP Front Camera</td>\n",
       "      <td>5000 mAh Li-ion Polymer Battery</td>\n",
       "      <td>MediaTek Helio A20 Processor</td>\n",
       "      <td>1 Year on Handset and 6 Months on Accessories</td>\n",
       "      <td>₹6,699</td>\n",
       "    </tr>\n",
       "    <tr>\n",
       "      <th>13</th>\n",
       "      <td>Infinix Smart 5A (Midnight Black, 32 GB)</td>\n",
       "      <td>4.5</td>\n",
       "      <td>3,546 Ratings</td>\n",
       "      <td>244 Reviews</td>\n",
       "      <td>2 GB RAM</td>\n",
       "      <td>32 GB ROM</td>\n",
       "      <td>Expandable Upto 256 GB</td>\n",
       "      <td>16.56 cm (6.52 inch) HD+ Display</td>\n",
       "      <td>8MP + Depth Sensor | 8MP Front Camera</td>\n",
       "      <td>5000 mAh Li-ion Polymer Battery</td>\n",
       "      <td>MediaTek Helio A20 Processor</td>\n",
       "      <td>1 Year on Handset and 6 Months on Accessories</td>\n",
       "      <td>₹6,699</td>\n",
       "    </tr>\n",
       "    <tr>\n",
       "      <th>14</th>\n",
       "      <td>Infinix Smart 5A (Ocean Wave, 32 GB)</td>\n",
       "      <td>4.5</td>\n",
       "      <td>3,546 Ratings</td>\n",
       "      <td>244 Reviews</td>\n",
       "      <td>2 GB RAM</td>\n",
       "      <td>32 GB ROM</td>\n",
       "      <td>Expandable Upto 256 GB</td>\n",
       "      <td>16.56 cm (6.52 inch) HD+ Display</td>\n",
       "      <td>8MP + Depth Sensor | 8MP Front Camera</td>\n",
       "      <td>5000 mAh Li-ion Polymer Battery</td>\n",
       "      <td>MediaTek Helio A20 Processor</td>\n",
       "      <td>1 Year on Handset and 6 Months on Accessories</td>\n",
       "      <td>₹6,699</td>\n",
       "    </tr>\n",
       "    <tr>\n",
       "      <th>15</th>\n",
       "      <td>POCO M3 (Power Black, 64 GB)</td>\n",
       "      <td>4.3</td>\n",
       "      <td>3,10,045 Ratings</td>\n",
       "      <td>22,471 Reviews</td>\n",
       "      <td>6 GB RAM</td>\n",
       "      <td>64 GB ROM</td>\n",
       "      <td>Expandable Upto 512 GB</td>\n",
       "      <td>16.59 cm (6.53 inch) Full HD+ Display</td>\n",
       "      <td>48MP + 2MP + 2MP | 8MP Front Camera</td>\n",
       "      <td>6000 mAh Lithium-ion Polymer Battery</td>\n",
       "      <td>Qualcomm Snapdragon 662 Processor</td>\n",
       "      <td>One Year Warranty for Handset, 6 Months for Ac...</td>\n",
       "      <td>₹11,499</td>\n",
       "    </tr>\n",
       "    <tr>\n",
       "      <th>16</th>\n",
       "      <td>POCO M3 (Power Black, 128 GB)</td>\n",
       "      <td>4.3</td>\n",
       "      <td>3,10,045 Ratings</td>\n",
       "      <td>22,471 Reviews</td>\n",
       "      <td>6 GB RAM</td>\n",
       "      <td>128 GB RO</td>\n",
       "      <td>Expandable Upto 512 GB</td>\n",
       "      <td>16.59 cm (6.53 inch) Full HD+ Display</td>\n",
       "      <td>48MP + 2MP + 2MP | 8MP Front Camera</td>\n",
       "      <td>6000 mAh Lithium-ion Polymer Battery</td>\n",
       "      <td>Qualcomm Snapdragon 662 Processor</td>\n",
       "      <td>One Year Warranty for Handset, 6 Months for Ac...</td>\n",
       "      <td>₹12,999</td>\n",
       "    </tr>\n",
       "    <tr>\n",
       "      <th>17</th>\n",
       "      <td>POCO M2 Reloaded (Greyish Black, 64 GB)</td>\n",
       "      <td>4.3</td>\n",
       "      <td>20,010 Ratings</td>\n",
       "      <td>1,315 Reviews</td>\n",
       "      <td>4 GB RAM</td>\n",
       "      <td>64 GB ROM</td>\n",
       "      <td>Expandable Upto 512 GB</td>\n",
       "      <td>16.59 cm (6.53 inch) Full HD+ Display</td>\n",
       "      <td>13MP + 8MP + 5MP + 2MP | 8MP Front Camera</td>\n",
       "      <td>5000 mAh Lithium Polymer Battery</td>\n",
       "      <td>MediaTek Helio G80 Processor</td>\n",
       "      <td>1 Year for Handset, 6 Months for Accessories</td>\n",
       "      <td>₹9,999</td>\n",
       "    </tr>\n",
       "    <tr>\n",
       "      <th>18</th>\n",
       "      <td>REDMI Note 9 (Aqua Green, 64 GB)</td>\n",
       "      <td>4.3</td>\n",
       "      <td>92,325 Ratings</td>\n",
       "      <td>6,906 Reviews</td>\n",
       "      <td>4 GB RAM</td>\n",
       "      <td>64 GB ROM</td>\n",
       "      <td>Expandable Upto 512 GB</td>\n",
       "      <td>16.59 cm (6.53 inch) Full HD+ Display</td>\n",
       "      <td>48MP + 8MP + 2MP + 2MP | 13MP Front Camera</td>\n",
       "      <td>5020 mAh Battery</td>\n",
       "      <td>MediaTek Helio G85 Processor</td>\n",
       "      <td>1 Year Manufacturer Warranty for Device and 6 ...</td>\n",
       "      <td>₹11,999</td>\n",
       "    </tr>\n",
       "    <tr>\n",
       "      <th>19</th>\n",
       "      <td>realme Narzo 30 5G (Racing Silver, 128 GB)</td>\n",
       "      <td>4.4</td>\n",
       "      <td>27,618 Ratings</td>\n",
       "      <td>2,243 Reviews</td>\n",
       "      <td>6 GB RAM</td>\n",
       "      <td>128 GB RO</td>\n",
       "      <td>Expandable Upto 1 TB</td>\n",
       "      <td>16.51 cm (6.5 inch) Full HD+ Display</td>\n",
       "      <td>48MP + 2MP + 2MP | 16MP Front Camera</td>\n",
       "      <td>5000 mAh Battery</td>\n",
       "      <td>MediaTek Dimensity 700 (MT6833) Processor</td>\n",
       "      <td>1 Year Warranty for Mobile and 6 Months for Ac...</td>\n",
       "      <td>₹15,999</td>\n",
       "    </tr>\n",
       "    <tr>\n",
       "      <th>20</th>\n",
       "      <td>REDMI 9 Power (Blazing Blue, 64 GB)</td>\n",
       "      <td>4.3</td>\n",
       "      <td>1,30,038 Ratings</td>\n",
       "      <td>9,051 Reviews</td>\n",
       "      <td>4 GB RAM</td>\n",
       "      <td>64 GB ROM</td>\n",
       "      <td></td>\n",
       "      <td>16.59 cm (6.53 inch) Full HD+ Display</td>\n",
       "      <td>48MP + 8MP + 2MP + 2MP | 8MP Front Camera</td>\n",
       "      <td>6000 mAh Battery</td>\n",
       "      <td>Qualcomm Snapdragon 662 Processor</td>\n",
       "      <td>1 year manufacturer warranty for device and 6 ...</td>\n",
       "      <td>₹10,999</td>\n",
       "    </tr>\n",
       "    <tr>\n",
       "      <th>21</th>\n",
       "      <td>POCO M3 (Yellow, 128 GB)</td>\n",
       "      <td>4.3</td>\n",
       "      <td>3,10,045 Ratings</td>\n",
       "      <td>22,471 Reviews</td>\n",
       "      <td>6 GB RAM</td>\n",
       "      <td>128 GB RO</td>\n",
       "      <td>Expandable Upto 512 GB</td>\n",
       "      <td>16.59 cm (6.53 inch) Full HD+ Display</td>\n",
       "      <td>48MP + 2MP + 2MP | 8MP Front Camera</td>\n",
       "      <td>6000 mAh Lithium-ion Polymer Battery</td>\n",
       "      <td>Qualcomm Snapdragon 662 Processor</td>\n",
       "      <td>One Year Warranty for Handset, 6 Months for Ac...</td>\n",
       "      <td>₹12,999</td>\n",
       "    </tr>\n",
       "    <tr>\n",
       "      <th>22</th>\n",
       "      <td>realme C20 (Cool Grey, 32 GB)</td>\n",
       "      <td>4.4</td>\n",
       "      <td>1,35,513 Ratings</td>\n",
       "      <td>6,302 Reviews</td>\n",
       "      <td>2 GB RAM</td>\n",
       "      <td>32 GB ROM</td>\n",
       "      <td>Expandable Upto 256 GB</td>\n",
       "      <td>16.51 cm (6.5 inch) HD+ Display</td>\n",
       "      <td>8MP Rear Camera | 5MP Front Camera</td>\n",
       "      <td>5000 mAh Battery</td>\n",
       "      <td>MediaTek Helio G35 Processor</td>\n",
       "      <td>1 Year Warranty for Mobile and 6 Months for Ac...</td>\n",
       "      <td>₹7,499</td>\n",
       "    </tr>\n",
       "    <tr>\n",
       "      <th>23</th>\n",
       "      <td>realme C20 (Cool Blue, 32 GB)</td>\n",
       "      <td>4.4</td>\n",
       "      <td>1,35,513 Ratings</td>\n",
       "      <td>6,302 Reviews</td>\n",
       "      <td>2 GB RAM</td>\n",
       "      <td>32 GB ROM</td>\n",
       "      <td>Expandable Upto 256 GB</td>\n",
       "      <td>16.51 cm (6.5 inch) HD+ Display</td>\n",
       "      <td>8MP Rear Camera | 5MP Front Camera</td>\n",
       "      <td>5000 mAh Battery</td>\n",
       "      <td>MediaTek Helio G35 Processor</td>\n",
       "      <td>1 Year Warranty for Mobile and 6 Months for Ac...</td>\n",
       "      <td>₹7,499</td>\n",
       "    </tr>\n",
       "  </tbody>\n",
       "</table>\n",
       "</div>"
      ],
      "text/plain": [
       "                                         model star       num_ratings  \\\n",
       "0               REDMI 9i (Nature Green, 64 GB)  4.3  4,06,452 Ratings   \n",
       "1               realme C21 (Cross Blue, 64 GB)  4.4    63,273 Ratings   \n",
       "2              realme C21 (Cross Black, 64 GB)  4.4    63,273 Ratings   \n",
       "3              realme C21 (Cross Black, 32 GB)  4.4    51,035 Ratings   \n",
       "4               realme C21 (Cross Blue, 32 GB)  4.4    51,035 Ratings   \n",
       "5          REDMI 9 Power (Mighty Black, 64 GB)  4.3  1,30,038 Ratings   \n",
       "6                   POCO M3 (Cool Blue, 64 GB)  4.3    14,630 Ratings   \n",
       "7        POCO M2 Reloaded (Mostly Blue, 64 GB)  4.3    20,010 Ratings   \n",
       "8           realme C11 2021 (Cool Grey, 32 GB)  4.3     3,584 Ratings   \n",
       "9           realme C11 2021 (Cool Blue, 32 GB)  4.3     3,584 Ratings   \n",
       "10            REDMI 9 Power (Fiery Red, 64 GB)  4.3  1,30,038 Ratings   \n",
       "11            REDMI 9i (Midnight Black, 64 GB)  4.3  4,06,452 Ratings   \n",
       "12      Infinix Smart 5A (Quetzal Cyan, 32 GB)  4.5     3,546 Ratings   \n",
       "13    Infinix Smart 5A (Midnight Black, 32 GB)  4.5     3,546 Ratings   \n",
       "14        Infinix Smart 5A (Ocean Wave, 32 GB)  4.5     3,546 Ratings   \n",
       "15                POCO M3 (Power Black, 64 GB)  4.3  3,10,045 Ratings   \n",
       "16               POCO M3 (Power Black, 128 GB)  4.3  3,10,045 Ratings   \n",
       "17     POCO M2 Reloaded (Greyish Black, 64 GB)  4.3    20,010 Ratings   \n",
       "18            REDMI Note 9 (Aqua Green, 64 GB)  4.3    92,325 Ratings   \n",
       "19  realme Narzo 30 5G (Racing Silver, 128 GB)  4.4    27,618 Ratings   \n",
       "20         REDMI 9 Power (Blazing Blue, 64 GB)  4.3  1,30,038 Ratings   \n",
       "21                    POCO M3 (Yellow, 128 GB)  4.3  3,10,045 Ratings   \n",
       "22               realme C20 (Cool Grey, 32 GB)  4.4  1,35,513 Ratings   \n",
       "23               realme C20 (Cool Blue, 32 GB)  4.4  1,35,513 Ratings   \n",
       "\n",
       "           reviews        ram    storage               expandable  \\\n",
       "0   23,336 Reviews  4 GB RAM   64 GB ROM   Expandable Upto 512 GB   \n",
       "1    2,912 Reviews  4 GB RAM   64 GB ROM   Expandable Upto 256 GB   \n",
       "2    2,912 Reviews  4 GB RAM   64 GB ROM   Expandable Upto 256 GB   \n",
       "3    2,564 Reviews  3 GB RAM   32 GB ROM   Expandable Upto 256 GB   \n",
       "4    2,564 Reviews  3 GB RAM   32 GB ROM   Expandable Upto 256 GB   \n",
       "5    9,051 Reviews  4 GB RAM   64 GB ROM                            \n",
       "6      930 Reviews  4 GB RAM   64 GB ROM   Expandable Upto 512 GB   \n",
       "7    1,315 Reviews  4 GB RAM   64 GB ROM   Expandable Upto 512 GB   \n",
       "8      197 Reviews  2 GB RAM   32 GB ROM   Expandable Upto 256 GB   \n",
       "9      197 Reviews  2 GB RAM   32 GB ROM   Expandable Upto 256 GB   \n",
       "10   9,051 Reviews  4 GB RAM   64 GB ROM                            \n",
       "11  23,336 Reviews  4 GB RAM   64 GB ROM   Expandable Upto 512 GB   \n",
       "12     244 Reviews  2 GB RAM   32 GB ROM   Expandable Upto 256 GB   \n",
       "13     244 Reviews  2 GB RAM   32 GB ROM   Expandable Upto 256 GB   \n",
       "14     244 Reviews  2 GB RAM   32 GB ROM   Expandable Upto 256 GB   \n",
       "15  22,471 Reviews  6 GB RAM   64 GB ROM   Expandable Upto 512 GB   \n",
       "16  22,471 Reviews  6 GB RAM   128 GB RO   Expandable Upto 512 GB   \n",
       "17   1,315 Reviews  4 GB RAM   64 GB ROM   Expandable Upto 512 GB   \n",
       "18   6,906 Reviews  4 GB RAM   64 GB ROM   Expandable Upto 512 GB   \n",
       "19   2,243 Reviews  6 GB RAM   128 GB RO     Expandable Upto 1 TB   \n",
       "20   9,051 Reviews  4 GB RAM   64 GB ROM                            \n",
       "21  22,471 Reviews  6 GB RAM   128 GB RO   Expandable Upto 512 GB   \n",
       "22   6,302 Reviews  2 GB RAM   32 GB ROM   Expandable Upto 256 GB   \n",
       "23   6,302 Reviews  2 GB RAM   32 GB ROM   Expandable Upto 256 GB   \n",
       "\n",
       "                                  display  \\\n",
       "0        16.59 cm (6.53 inch) HD+ Display   \n",
       "1         16.51 cm (6.5 inch) HD+ Display   \n",
       "2         16.51 cm (6.5 inch) HD+ Display   \n",
       "3         16.51 cm (6.5 inch) HD+ Display   \n",
       "4         16.51 cm (6.5 inch) HD+ Display   \n",
       "5   16.59 cm (6.53 inch) Full HD+ Display   \n",
       "6   16.59 cm (6.53 inch) Full HD+ Display   \n",
       "7   16.59 cm (6.53 inch) Full HD+ Display   \n",
       "8         16.51 cm (6.5 inch) HD+ Display   \n",
       "9         16.51 cm (6.5 inch) HD+ Display   \n",
       "10  16.59 cm (6.53 inch) Full HD+ Display   \n",
       "11       16.59 cm (6.53 inch) HD+ Display   \n",
       "12       16.56 cm (6.52 inch) HD+ Display   \n",
       "13       16.56 cm (6.52 inch) HD+ Display   \n",
       "14       16.56 cm (6.52 inch) HD+ Display   \n",
       "15  16.59 cm (6.53 inch) Full HD+ Display   \n",
       "16  16.59 cm (6.53 inch) Full HD+ Display   \n",
       "17  16.59 cm (6.53 inch) Full HD+ Display   \n",
       "18  16.59 cm (6.53 inch) Full HD+ Display   \n",
       "19   16.51 cm (6.5 inch) Full HD+ Display   \n",
       "20  16.59 cm (6.53 inch) Full HD+ Display   \n",
       "21  16.59 cm (6.53 inch) Full HD+ Display   \n",
       "22        16.51 cm (6.5 inch) HD+ Display   \n",
       "23        16.51 cm (6.5 inch) HD+ Display   \n",
       "\n",
       "                                        camera  \\\n",
       "0          13MP Rear Camera | 5MP Front Camera   \n",
       "1          13MP + 2MP + 2MP | 5MP Front Camera   \n",
       "2          13MP + 2MP + 2MP | 5MP Front Camera   \n",
       "3          13MP + 2MP + 2MP | 5MP Front Camera   \n",
       "4          13MP + 2MP + 2MP | 5MP Front Camera   \n",
       "5    48MP + 8MP + 2MP + 2MP | 8MP Front Camera   \n",
       "6          48MP + 2MP + 2MP | 8MP Front Camera   \n",
       "7    13MP + 8MP + 5MP + 2MP | 8MP Front Camera   \n",
       "8           8MP Rear Camera | 5MP Front Camera   \n",
       "9           8MP Rear Camera | 5MP Front Camera   \n",
       "10   48MP + 8MP + 2MP + 2MP | 8MP Front Camera   \n",
       "11         13MP Rear Camera | 5MP Front Camera   \n",
       "12       8MP + Depth Sensor | 8MP Front Camera   \n",
       "13       8MP + Depth Sensor | 8MP Front Camera   \n",
       "14       8MP + Depth Sensor | 8MP Front Camera   \n",
       "15         48MP + 2MP + 2MP | 8MP Front Camera   \n",
       "16         48MP + 2MP + 2MP | 8MP Front Camera   \n",
       "17   13MP + 8MP + 5MP + 2MP | 8MP Front Camera   \n",
       "18  48MP + 8MP + 2MP + 2MP | 13MP Front Camera   \n",
       "19        48MP + 2MP + 2MP | 16MP Front Camera   \n",
       "20   48MP + 8MP + 2MP + 2MP | 8MP Front Camera   \n",
       "21         48MP + 2MP + 2MP | 8MP Front Camera   \n",
       "22          8MP Rear Camera | 5MP Front Camera   \n",
       "23          8MP Rear Camera | 5MP Front Camera   \n",
       "\n",
       "                                 battery  \\\n",
       "0       5000 mAh Lithium Polymer Battery   \n",
       "1                       5000 mAh Battery   \n",
       "2                       5000 mAh Battery   \n",
       "3                       5000 mAh Battery   \n",
       "4                       5000 mAh Battery   \n",
       "5                       6000 mAh Battery   \n",
       "6   6000 mAh Lithium-ion Polymer Battery   \n",
       "7       5000 mAh Lithium Polymer Battery   \n",
       "8                       5000 mAh Battery   \n",
       "9                       5000 mAh Battery   \n",
       "10                      6000 mAh Battery   \n",
       "11      5000 mAh Lithium Polymer Battery   \n",
       "12       5000 mAh Li-ion Polymer Battery   \n",
       "13       5000 mAh Li-ion Polymer Battery   \n",
       "14       5000 mAh Li-ion Polymer Battery   \n",
       "15  6000 mAh Lithium-ion Polymer Battery   \n",
       "16  6000 mAh Lithium-ion Polymer Battery   \n",
       "17      5000 mAh Lithium Polymer Battery   \n",
       "18                      5020 mAh Battery   \n",
       "19                      5000 mAh Battery   \n",
       "20                      6000 mAh Battery   \n",
       "21  6000 mAh Lithium-ion Polymer Battery   \n",
       "22                      5000 mAh Battery   \n",
       "23                      5000 mAh Battery   \n",
       "\n",
       "                                    processor  \\\n",
       "0                MediaTek Helio G25 Processor   \n",
       "1                MediaTek Helio G35 Processor   \n",
       "2                MediaTek Helio G35 Processor   \n",
       "3                MediaTek Helio G35 Processor   \n",
       "4                MediaTek Helio G35 Processor   \n",
       "5           Qualcomm Snapdragon 662 Processor   \n",
       "6           Qualcomm Snapdragon 662 Processor   \n",
       "7                MediaTek Helio G80 Processor   \n",
       "8                         Octa-core Processor   \n",
       "9                         Octa-core Processor   \n",
       "10          Qualcomm Snapdragon 662 Processor   \n",
       "11               MediaTek Helio G25 Processor   \n",
       "12               MediaTek Helio A20 Processor   \n",
       "13               MediaTek Helio A20 Processor   \n",
       "14               MediaTek Helio A20 Processor   \n",
       "15          Qualcomm Snapdragon 662 Processor   \n",
       "16          Qualcomm Snapdragon 662 Processor   \n",
       "17               MediaTek Helio G80 Processor   \n",
       "18               MediaTek Helio G85 Processor   \n",
       "19  MediaTek Dimensity 700 (MT6833) Processor   \n",
       "20          Qualcomm Snapdragon 662 Processor   \n",
       "21          Qualcomm Snapdragon 662 Processor   \n",
       "22               MediaTek Helio G35 Processor   \n",
       "23               MediaTek Helio G35 Processor   \n",
       "\n",
       "                                             warranty    price  \n",
       "0   Brand Warranty of 1 Year Available for Mobile ...   ₹8,499  \n",
       "1   1 Year Warranty for Mobile and 6 Months for Ac...   ₹9,499  \n",
       "2   1 Year Warranty for Mobile and 6 Months for Ac...   ₹9,499  \n",
       "3   1 Year Warranty for Mobile and 6 Months for Ac...   ₹8,499  \n",
       "4   1 Year Warranty for Mobile and 6 Months for Ac...   ₹8,499  \n",
       "5   1 year manufacturer warranty for device and 6 ...  ₹10,999  \n",
       "6   One Year Warranty for Handset, 6 Months for Ac...  ₹10,499  \n",
       "7        1 Year for Handset, 6 Months for Accessories   ₹9,999  \n",
       "8   1 Year Warranty for Mobile and 6 Months for Ac...   ₹6,999  \n",
       "9   1 Year Warranty for Mobile and 6 Months for Ac...   ₹6,999  \n",
       "10  1 year manufacturer warranty for device and 6 ...  ₹10,999  \n",
       "11  Brand Warranty of 1 Year Available for Mobile ...   ₹8,499  \n",
       "12      1 Year on Handset and 6 Months on Accessories   ₹6,699  \n",
       "13      1 Year on Handset and 6 Months on Accessories   ₹6,699  \n",
       "14      1 Year on Handset and 6 Months on Accessories   ₹6,699  \n",
       "15  One Year Warranty for Handset, 6 Months for Ac...  ₹11,499  \n",
       "16  One Year Warranty for Handset, 6 Months for Ac...  ₹12,999  \n",
       "17       1 Year for Handset, 6 Months for Accessories   ₹9,999  \n",
       "18  1 Year Manufacturer Warranty for Device and 6 ...  ₹11,999  \n",
       "19  1 Year Warranty for Mobile and 6 Months for Ac...  ₹15,999  \n",
       "20  1 year manufacturer warranty for device and 6 ...  ₹10,999  \n",
       "21  One Year Warranty for Handset, 6 Months for Ac...  ₹12,999  \n",
       "22  1 Year Warranty for Mobile and 6 Months for Ac...   ₹7,499  \n",
       "23  1 Year Warranty for Mobile and 6 Months for Ac...   ₹7,499  "
      ]
     },
     "execution_count": 36,
     "metadata": {},
     "output_type": "execute_result"
    }
   ],
   "source": [
    "pd.DataFrame(records_list,columns=['model',\"star\",\"num_ratings\"\n",
    "   ,\"reviews\",'ram',\"storage\",\"expandable\",\"display\",\"camera\",\"battery\",\"processor\",\"warranty\",\"price\"])"
   ]
  },
  {
   "cell_type": "markdown",
   "metadata": {},
   "source": [
    "### Navigating to next page"
   ]
  },
  {
   "cell_type": "markdown",
   "metadata": {},
   "source": [
    "- Writing a custom function that will help us getting information from multiple pages"
   ]
  },
  {
   "cell_type": "code",
   "execution_count": 37,
   "metadata": {
    "collapsed": true,
    "jupyter": {
     "outputs_hidden": true
    }
   },
   "outputs": [],
   "source": [
    "def get_url(search_item):\n",
    "    '''\n",
    "    This function fetches the URL of the item that you want to search\n",
    "    '''\n",
    "    template = 'https://www.flipkart.com/search?q={}&as=on&as-show=on&otracker=AS_Query_HistoryAutoSuggest_1_4_na_na_na&otracker1=AS_Query_HistoryAutoSuggest_1_4_na_na_na&as-pos=1&as-type=HISTORY&suggestionId=mobile+phones&requestId=e625b409-ca2a-456a-b53c-0fdb7618b658&as-backfill=on'\n",
    "    search_item = search_item.replace(\" \",\"+\")\n",
    "    # Add term query to URL\n",
    "    url = template.format(search_item)\n",
    "    # Add term query placeholder\n",
    "    url += '&page{}'\n",
    "    return url"
   ]
  },
  {
   "cell_type": "markdown",
   "metadata": {},
   "source": [
    "### Putting it all together"
   ]
  },
  {
   "cell_type": "markdown",
   "metadata": {},
   "source": [
    "- Now combining all thhe things that we have done so far."
   ]
  },
  {
   "cell_type": "code",
   "execution_count": 45,
   "metadata": {
    "collapsed": true,
    "jupyter": {
     "outputs_hidden": true
    }
   },
   "outputs": [],
   "source": [
    "# Importing necessary Libraries\n",
    "import csv\n",
    "from bs4 import BeautifulSoup\n",
    "from selenium import webdriver\n",
    "import pandas as pd\n",
    "\n",
    "def get_url(search_item):\n",
    "    '''\n",
    "    This function fetches the URL of the item that you want to search\n",
    "    '''\n",
    "    template = 'https://www.flipkart.com/search?q={}&as=on&as-show=on&otracker=AS_Query_HistoryAutoSuggest_1_4_na_na_na&otracker1=AS_Query_HistoryAutoSuggest_1_4_na_na_na&as-pos=1&as-type=HISTORY&suggestionId=mobile+phones&requestId=e625b409-ca2a-456a-b53c-0fdb7618b658&as-backfill=on'\n",
    "    search_item = search_item.replace(\" \",\"+\")\n",
    "    # Add term query to URL\n",
    "    url = template.format(search_item)\n",
    "    # Add term query placeholder\n",
    "    url += '&page{}'\n",
    "    return url\n",
    "\n",
    "def extract_phone_model_info(item):\n",
    "    \"\"\"\n",
    "    This function extracts model, price, ram, storage, stars , number of ratings, number of reviews, \n",
    "    storage expandable option, display option, camera quality, battery , processor, warranty of a phone model at flipkart\n",
    "    \"\"\"\n",
    "    # Extracting the model of the phone from the 1st card\n",
    "    model = item.find('div',{'class':\"_4rR01T\"}).text\n",
    "    # Extracting Stars from 1st card\n",
    "    star = item.find('div',{'class':\"_3LWZlK\"}).text\n",
    "    # Extracting Number of Ratings from 1st card\n",
    "    num_ratings = item.find('span',{'class':\"_2_R_DZ\"}).text.replace('\\xa0&\\xa0',\" ; \")[0:item.find('span',{'class':\"_2_R_DZ\"}).text.replace('\\xa0&\\xa0',\" ; \").find(';')].strip()\n",
    "    # Extracting Number of Reviews from 1st card\n",
    "    reviews = item.find('span',{'class':\"_2_R_DZ\"}).text.replace('\\xa0&\\xa0',\" ; \")[item.find('span',{'class':\"_2_R_DZ\"}).text.replace('\\xa0&\\xa0',\" ; \").find(';')+1:].strip()\n",
    "    # Extracting RAM from the 1st card\n",
    "    ram = item.find('li',{'class':\"rgWa7D\"}).text[0:item.find('li',{'class':\"rgWa7D\"}).text.find('|')]\n",
    "    # Extracting Storage/ROM from 1st card\n",
    "    storage = item.find('li',{'class':\"rgWa7D\"}).text[item.find('li',{'class':\"rgWa7D\"}).text.find('|')+1:][0:10].strip()\n",
    "    # Extracting whether there is an option of expanding the storage or not\n",
    "    expandable = item.find('li',{'class':\"rgWa7D\"}).text[item.find('li',{'class':\"rgWa7D\"}).text.find('|')+1:][13:]\n",
    "    # Extracting the display option from the 1st card\n",
    "    display = item.find_all('li')[1].text.strip()\n",
    "    # Extracting camera options from the 1st card\n",
    "    camera = item.find_all('li')[2].text.strip()\n",
    "    # Extracting the battery option from the 1st card\n",
    "    battery = item.find_all('li')[3].text\n",
    "    # Extracting the processir option from the 1st card\n",
    "    processor = item.find_all('li')[4].text.strip()\n",
    "    # Extracting Warranty from the 1st card\n",
    "    warranty = item.find_all('li')[-1].text.strip()\n",
    "    # Extracting price of the model from the 1st card\n",
    "    price = item.find('div',{'class':'_30jeq3 _1_WHN1'}).text\n",
    "    result = (model,star,num_ratings,reviews,ram,storage,expandable,display,camera,battery,processor,warranty,price)\n",
    "    return result\n",
    "\n",
    "def main(search_item):\n",
    "    '''\n",
    "    This function will create a dataframe for all the details that we are fetching from all the multiple pages\n",
    "    '''\n",
    "    driver = webdriver.Chrome()\n",
    "    records = []\n",
    "    url = get_url(search_item)\n",
    "    for page in range(1,464):\n",
    "        driver.get(url.format(page))\n",
    "        soup = BeautifulSoup(driver.page_source,'html.parser')\n",
    "        results = soup.find_all('a',{'class':\"_1fQZEK\"})\n",
    "        for item in results:\n",
    "            records.append(extract_phone_model_info(item))\n",
    "    driver.close()\n",
    "    # Saving the data into a csv file\n",
    "    with open('Flipkart_results.csv','w',newline='',encoding='utf-8') as f:\n",
    "        writer = csv.writer(f)\n",
    "        writer.writerow(['Model','Stars','Num_of_Ratings','Reviews','Ram','Storage','Expandable',\n",
    "                        'Display','Camera','Battery','Processor','Warranty','Price'])\n",
    "        writer.writerows(records)"
   ]
  },
  {
   "cell_type": "markdown",
   "metadata": {},
   "source": [
    "### Extracting Informtion of all the Mobile phones present on multiple pages"
   ]
  },
  {
   "cell_type": "code",
   "execution_count": 46,
   "metadata": {},
   "outputs": [
    {
     "name": "stdout",
     "output_type": "stream",
     "text": [
      "Wall time: 40min 54s\n"
     ]
    }
   ],
   "source": [
    "%%time\n",
    "main('mobile phones')"
   ]
  },
  {
   "cell_type": "markdown",
   "metadata": {},
   "source": [
    "### Viewing the data"
   ]
  },
  {
   "cell_type": "code",
   "execution_count": 47,
   "metadata": {},
   "outputs": [
    {
     "data": {
      "text/html": [
       "<div>\n",
       "<style scoped>\n",
       "    .dataframe tbody tr th:only-of-type {\n",
       "        vertical-align: middle;\n",
       "    }\n",
       "\n",
       "    .dataframe tbody tr th {\n",
       "        vertical-align: top;\n",
       "    }\n",
       "\n",
       "    .dataframe thead th {\n",
       "        text-align: right;\n",
       "    }\n",
       "</style>\n",
       "<table border=\"1\" class=\"dataframe\">\n",
       "  <thead>\n",
       "    <tr style=\"text-align: right;\">\n",
       "      <th></th>\n",
       "      <th>Model</th>\n",
       "      <th>Stars</th>\n",
       "      <th>Num_of_Ratings</th>\n",
       "      <th>Reviews</th>\n",
       "      <th>Ram</th>\n",
       "      <th>Storage</th>\n",
       "      <th>Expandable</th>\n",
       "      <th>Display</th>\n",
       "      <th>Camera</th>\n",
       "      <th>Battery</th>\n",
       "      <th>Processor</th>\n",
       "      <th>Warranty</th>\n",
       "      <th>Price</th>\n",
       "    </tr>\n",
       "  </thead>\n",
       "  <tbody>\n",
       "    <tr>\n",
       "      <th>0</th>\n",
       "      <td>REDMI 9i (Nature Green, 64 GB)</td>\n",
       "      <td>4.3</td>\n",
       "      <td>4,06,452 Ratings</td>\n",
       "      <td>23,336 Reviews</td>\n",
       "      <td>4 GB RAM</td>\n",
       "      <td>64 GB ROM</td>\n",
       "      <td>Expandable Upto 512 GB</td>\n",
       "      <td>16.59 cm (6.53 inch) HD+ Display</td>\n",
       "      <td>13MP Rear Camera | 5MP Front Camera</td>\n",
       "      <td>5000 mAh Lithium Polymer Battery</td>\n",
       "      <td>MediaTek Helio G25 Processor</td>\n",
       "      <td>Brand Warranty of 1 Year Available for Mobile ...</td>\n",
       "      <td>₹8,499</td>\n",
       "    </tr>\n",
       "    <tr>\n",
       "      <th>1</th>\n",
       "      <td>realme C21 (Cross Black, 64 GB)</td>\n",
       "      <td>4.4</td>\n",
       "      <td>63,273 Ratings</td>\n",
       "      <td>2,912 Reviews</td>\n",
       "      <td>4 GB RAM</td>\n",
       "      <td>64 GB ROM</td>\n",
       "      <td>Expandable Upto 256 GB</td>\n",
       "      <td>16.51 cm (6.5 inch) HD+ Display</td>\n",
       "      <td>13MP + 2MP + 2MP | 5MP Front Camera</td>\n",
       "      <td>5000 mAh Battery</td>\n",
       "      <td>MediaTek Helio G35 Processor</td>\n",
       "      <td>1 Year Warranty for Mobile and 6 Months for Ac...</td>\n",
       "      <td>₹9,499</td>\n",
       "    </tr>\n",
       "    <tr>\n",
       "      <th>2</th>\n",
       "      <td>realme C21 (Cross Blue, 64 GB)</td>\n",
       "      <td>4.4</td>\n",
       "      <td>63,273 Ratings</td>\n",
       "      <td>2,912 Reviews</td>\n",
       "      <td>4 GB RAM</td>\n",
       "      <td>64 GB ROM</td>\n",
       "      <td>Expandable Upto 256 GB</td>\n",
       "      <td>16.51 cm (6.5 inch) HD+ Display</td>\n",
       "      <td>13MP + 2MP + 2MP | 5MP Front Camera</td>\n",
       "      <td>5000 mAh Battery</td>\n",
       "      <td>MediaTek Helio G35 Processor</td>\n",
       "      <td>1 Year Warranty for Mobile and 6 Months for Ac...</td>\n",
       "      <td>₹9,499</td>\n",
       "    </tr>\n",
       "    <tr>\n",
       "      <th>3</th>\n",
       "      <td>SAMSUNG Galaxy S21 Ultra (Phantom Silver, 256 GB)</td>\n",
       "      <td>4.5</td>\n",
       "      <td>537 Ratings</td>\n",
       "      <td>101 Reviews</td>\n",
       "      <td>12 GB RAM</td>\n",
       "      <td>256 GB RO</td>\n",
       "      <td>NaN</td>\n",
       "      <td>17.27 cm (6.8 inch) Quad HD+ Display</td>\n",
       "      <td>108MP + 12MP + 10MP + 10MP | 40MP Front Camera</td>\n",
       "      <td>5000 mAh Lithium-ion Battery</td>\n",
       "      <td>Exynos 2100 Processor</td>\n",
       "      <td>1 Year Manufacturer Warranty for Handset and 6...</td>\n",
       "      <td>₹1,05,999</td>\n",
       "    </tr>\n",
       "    <tr>\n",
       "      <th>4</th>\n",
       "      <td>realme C21 (Cross Black, 32 GB)</td>\n",
       "      <td>4.4</td>\n",
       "      <td>51,035 Ratings</td>\n",
       "      <td>2,564 Reviews</td>\n",
       "      <td>3 GB RAM</td>\n",
       "      <td>32 GB ROM</td>\n",
       "      <td>Expandable Upto 256 GB</td>\n",
       "      <td>16.51 cm (6.5 inch) HD+ Display</td>\n",
       "      <td>13MP + 2MP + 2MP | 5MP Front Camera</td>\n",
       "      <td>5000 mAh Battery</td>\n",
       "      <td>MediaTek Helio G35 Processor</td>\n",
       "      <td>1 Year Warranty for Mobile and 6 Months for Ac...</td>\n",
       "      <td>₹8,499</td>\n",
       "    </tr>\n",
       "  </tbody>\n",
       "</table>\n",
       "</div>"
      ],
      "text/plain": [
       "                                               Model  Stars    Num_of_Ratings  \\\n",
       "0                     REDMI 9i (Nature Green, 64 GB)    4.3  4,06,452 Ratings   \n",
       "1                    realme C21 (Cross Black, 64 GB)    4.4    63,273 Ratings   \n",
       "2                     realme C21 (Cross Blue, 64 GB)    4.4    63,273 Ratings   \n",
       "3  SAMSUNG Galaxy S21 Ultra (Phantom Silver, 256 GB)    4.5       537 Ratings   \n",
       "4                    realme C21 (Cross Black, 32 GB)    4.4    51,035 Ratings   \n",
       "\n",
       "          Reviews         Ram    Storage              Expandable  \\\n",
       "0  23,336 Reviews   4 GB RAM   64 GB ROM  Expandable Upto 512 GB   \n",
       "1   2,912 Reviews   4 GB RAM   64 GB ROM  Expandable Upto 256 GB   \n",
       "2   2,912 Reviews   4 GB RAM   64 GB ROM  Expandable Upto 256 GB   \n",
       "3     101 Reviews  12 GB RAM   256 GB RO                     NaN   \n",
       "4   2,564 Reviews   3 GB RAM   32 GB ROM  Expandable Upto 256 GB   \n",
       "\n",
       "                                Display  \\\n",
       "0      16.59 cm (6.53 inch) HD+ Display   \n",
       "1       16.51 cm (6.5 inch) HD+ Display   \n",
       "2       16.51 cm (6.5 inch) HD+ Display   \n",
       "3  17.27 cm (6.8 inch) Quad HD+ Display   \n",
       "4       16.51 cm (6.5 inch) HD+ Display   \n",
       "\n",
       "                                           Camera  \\\n",
       "0             13MP Rear Camera | 5MP Front Camera   \n",
       "1             13MP + 2MP + 2MP | 5MP Front Camera   \n",
       "2             13MP + 2MP + 2MP | 5MP Front Camera   \n",
       "3  108MP + 12MP + 10MP + 10MP | 40MP Front Camera   \n",
       "4             13MP + 2MP + 2MP | 5MP Front Camera   \n",
       "\n",
       "                            Battery                     Processor  \\\n",
       "0  5000 mAh Lithium Polymer Battery  MediaTek Helio G25 Processor   \n",
       "1                  5000 mAh Battery  MediaTek Helio G35 Processor   \n",
       "2                  5000 mAh Battery  MediaTek Helio G35 Processor   \n",
       "3      5000 mAh Lithium-ion Battery         Exynos 2100 Processor   \n",
       "4                  5000 mAh Battery  MediaTek Helio G35 Processor   \n",
       "\n",
       "                                            Warranty      Price  \n",
       "0  Brand Warranty of 1 Year Available for Mobile ...     ₹8,499  \n",
       "1  1 Year Warranty for Mobile and 6 Months for Ac...     ₹9,499  \n",
       "2  1 Year Warranty for Mobile and 6 Months for Ac...     ₹9,499  \n",
       "3  1 Year Manufacturer Warranty for Handset and 6...  ₹1,05,999  \n",
       "4  1 Year Warranty for Mobile and 6 Months for Ac...     ₹8,499  "
      ]
     },
     "execution_count": 47,
     "metadata": {},
     "output_type": "execute_result"
    }
   ],
   "source": [
    "scraped_df = pd.read_csv('C:\\\\Users\\\\DELL\\\\Desktop\\\\Jupyter Notebook\\\\Jovian Web Scraping\\\\Amazon Products Web Scrapper\\\\Flipkart_results.csv')\n",
    "scraped_df.head()"
   ]
  },
  {
   "cell_type": "code",
   "execution_count": null,
   "metadata": {
    "collapsed": true,
    "jupyter": {
     "outputs_hidden": true
    }
   },
   "outputs": [],
   "source": []
  }
 ],
 "metadata": {
  "kernelspec": {
   "display_name": "Python 3",
   "language": "python",
   "name": "python3"
  },
  "language_info": {
   "codemirror_mode": {
    "name": "ipython",
    "version": 3
   },
   "file_extension": ".py",
   "mimetype": "text/x-python",
   "name": "python",
   "nbconvert_exporter": "python",
   "pygments_lexer": "ipython3",
   "version": "3.8.8"
  },
  "vscode": {
   "interpreter": {
    "hash": "8f11e80d3649f352b97ff04f8fe8ebaad35369b3543098e9a8360b61a0a9a7cc"
   }
  }
 },
 "nbformat": 4,
 "nbformat_minor": 4
}
